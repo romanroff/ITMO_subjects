{
 "cells": [
  {
   "cell_type": "markdown",
   "metadata": {},
   "source": [
    "### Теорема 2: Слабая теорема двойственности\n",
    "\n",
    "#### Формулировка:  \n",
    "Если $ x $ — допустимое решение для прямой задачи $ P $, а $ y $ — допустимое решение для двойственной задачи $ D $, то значение целевой функции прямой задачи не превышает значение целевой функции двойственной задачи:  \n",
    "$$\n",
    "c^T x \\leq b^T y.\n",
    "$$\n",
    "\n",
    "---\n",
    "\n",
    "#### Доказательство:  \n",
    "\n",
    "1. Прямая задача ЛП (P): \n",
    "   $$\n",
    "   \\max(c^T x) \\quad \\text{при условиях:} \\quad Ax \\leq b, \\, x \\geq 0.\n",
    "   $$\n",
    "\n",
    "2. Двойственная задача ЛП (D):\n",
    "   $$\n",
    "   \\min(b^T y) \\quad \\text{при условиях:} \\quad A^T y \\geq c, \\, y \\geq 0.\n",
    "   $$\n",
    "\n",
    "3. Допустимость решений:  \n",
    "   Пусть $ x $ — любое допустимое решение прямой задачи, а $ y $ — любое допустимое решение двойственной задачи.  \n",
    "   Тогда выполняются ограничения:\n",
    "   - $ Ax \\leq b $,\n",
    "   - $ A^T y \\geq c $.\n",
    "\n",
    "4. Умножим $ y^T $ на обе части первого ограничения:  \n",
    "   $$\n",
    "   y^T (Ax) \\leq y^T b.\n",
    "   $$\n",
    "\n",
    "   Так как $ y \\geq 0 $, выполняется корректность неравенства.\n",
    "\n",
    "5. Раскрываем скобки и используем ограничение $ A^T y \\geq c $:  \n",
    "   $$\n",
    "   (y^T A) x \\leq y^T b \\implies c^T x \\leq y^T b \\implies c^T x \\leq b^T y\n",
    "   $$"
   ]
  }
 ],
 "metadata": {
  "kernelspec": {
   "display_name": ".venv",
   "language": "python",
   "name": "python3"
  },
  "language_info": {
   "codemirror_mode": {
    "name": "ipython",
    "version": 3
   },
   "file_extension": ".py",
   "mimetype": "text/x-python",
   "name": "python",
   "nbconvert_exporter": "python",
   "pygments_lexer": "ipython3",
   "version": "3.10.11"
  }
 },
 "nbformat": 4,
 "nbformat_minor": 2
}
