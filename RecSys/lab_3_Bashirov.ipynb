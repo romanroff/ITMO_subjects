{
 "cells": [
  {
   "cell_type": "code",
   "execution_count": 52,
   "metadata": {},
   "outputs": [],
   "source": [
    "import geopandas as gpd\n",
    "import pandas as pd\n",
    "import numpy as np\n",
    "from tabulate import tabulate\n",
    "from tqdm.notebook import tqdm\n",
    "from sklearn.model_selection import train_test_split"
   ]
  },
  {
   "cell_type": "markdown",
   "metadata": {},
   "source": [
    "Рестораны:\n",
    "1. `chefmozaccepts.csv` (1314 строк): информация об оплате.\n",
    "2. `chefmozcuisine.csv` (916 строк): типы кухни.\n",
    "3. `chefmozhours4.csv` (2339 строк): часы работы.\n",
    "4. `chefmozparking.csv` (702 строки): информация о парковке.\n",
    "5. `geoplaces2.csv` (130 строк): геолокация и дополнительная информация.\n",
    "\n",
    "Пользователи:\n",
    "1. `usercuisine.csv` (330 строк): предпочтения кухни пользователей.\n",
    "2. `userpayment.csv` (177 строк): способы оплаты.\n",
    "3. `userprofile.csv` (138 строк): профили пользователей (например, курение, уровень дохода, активность).\n",
    "\n",
    "Рейтинги:\n",
    "1. `rating_final.csv` (1161 строк): оценки ресторанов пользователями по нескольким параметрам (еда, сервис)."
   ]
  },
  {
   "cell_type": "markdown",
   "metadata": {},
   "source": [
    "### Функции"
   ]
  },
  {
   "cell_type": "code",
   "execution_count": 53,
   "metadata": {},
   "outputs": [],
   "source": [
    "def create_matrix(df, n_users, n_items):\n",
    "    matrix = np.zeros((n_users, n_items))\n",
    "    for row in df.itertuples():\n",
    "        matrix[row.user_idx, row.item_idx] = row.rating # Можно заменить колонку на 'food_rating' or 'service_rating'\n",
    "    return matrix"
   ]
  },
  {
   "cell_type": "code",
   "execution_count": 54,
   "metadata": {},
   "outputs": [],
   "source": [
    "# Функция для расчета RMSE\n",
    "def calculate_rmse(R_test, model):\n",
    "    xs, ys = R_test.nonzero()\n",
    "    predicted = []\n",
    "    actual = []\n",
    "    # progress_bar = tqdm(total=len(xs), desc=\"Calculating RMSE\")\n",
    "    for x, y in zip(xs, ys):\n",
    "        predicted.append(model.predict(x, y))\n",
    "        actual.append(R_test[x, y])\n",
    "        # progress_bar.update(1)\n",
    "    # progress_bar.close()\n",
    "    return np.sqrt(np.mean((np.array(predicted) - np.array(actual)) ** 2))\n",
    "\n",
    "\n",
    "# Функция для расчета Average Precision (AP) для одного пользователя\n",
    "def average_precision_at_k(recommended_items, relevant_items, k):\n",
    "    # Проверяем, есть ли релевантные элементы\n",
    "    if len(relevant_items) == 0:\n",
    "        return 0.0\n",
    "    \n",
    "    score = 0.0\n",
    "    num_hits = 0.0\n",
    "    for i in range(1, k+1):\n",
    "        if recommended_items[i-1] in relevant_items:\n",
    "            num_hits += 1.0\n",
    "            score += num_hits / i\n",
    "    return score / min(len(relevant_items), k)\n",
    "\n",
    "\n",
    "def mean_average_precision_at_k(model, R_train, R_test, top_k=50, grade=5):\n",
    "    aps = []\n",
    "    num_users = R_test.shape[0]\n",
    "    for user in range(num_users):\n",
    "        # Получаем релевантные айтемы из тестового набора (например, рейтинги >= 4)\n",
    "        relevant_items = np.where(R_test[user, :] >= grade)[0]\n",
    "        if len(relevant_items) == 0:\n",
    "            continue  # Пропускаем пользователей без релевантных айтемов в тесте\n",
    "\n",
    "        # Получаем предсказанные рейтинги для всех айтемов\n",
    "        scores = model.predict(user, np.arange(model.num_items))\n",
    "        \n",
    "        # Убираем индексы из тренировочного набора данных\n",
    "        train_items = np.where(R_train[user, :] > 0)[0]\n",
    "        scores[train_items] = -np.inf  # Присваиваем им минимально возможное значение\n",
    "        \n",
    "        # Сортируем айтемы по убыванию предсказанных рейтингов\n",
    "        recommended_items = np.argsort(-scores)\n",
    "\n",
    "        # Вычисляем Average Precision для текущего пользователя\n",
    "        ap = average_precision_at_k(recommended_items, relevant_items, top_k)\n",
    "        aps.append(ap)\n",
    "\n",
    "    return np.mean(aps)"
   ]
  },
  {
   "cell_type": "code",
   "execution_count": 55,
   "metadata": {},
   "outputs": [],
   "source": [
    "def add_context_weight(row, name_column, type, rating='rating'):\n",
    "    if row[name_column] == type:\n",
    "        return row[rating] + 0.5  # добавляем вес\n",
    "    else:\n",
    "        return row[rating]"
   ]
  },
  {
   "cell_type": "code",
   "execution_count": 56,
   "metadata": {},
   "outputs": [],
   "source": [
    "def split(data, test_size=0.3, random_state=42):\n",
    "    n_users = data['userID'].nunique()\n",
    "    n_items = data['placeID'].nunique()\n",
    "\n",
    "    # Создание индексов для пользователей и фильмов\n",
    "    user_ids = data['userID'].astype('category').cat.codes.values\n",
    "    item_ids = data['placeID'].astype('category').cat.codes.values\n",
    "\n",
    "    data['user_idx'] = user_ids\n",
    "    data['item_idx'] = item_ids\n",
    "\n",
    "    # Разделение данных на тренировочные и тестовые наборы\n",
    "    train_df, test_df = train_test_split(data, test_size=test_size, random_state=random_state)\n",
    "    return n_users, n_items, train_df, test_df"
   ]
  },
  {
   "cell_type": "code",
   "execution_count": 57,
   "metadata": {},
   "outputs": [],
   "source": [
    "class SVD:\n",
    "    def __init__(self, R, K=20, alpha=0.002, beta=0.02, iterations=100):\n",
    "        self.R = R\n",
    "        self.num_users, self.num_items = R.shape\n",
    "        self.K = K\n",
    "        self.alpha = alpha  # Скорость обучения\n",
    "        self.beta = beta  # Регуляризация\n",
    "        self.iterations = iterations\n",
    "        self.rmse_values = []  # Список для хранения значений RMSE\n",
    "        self.map_values = []  # Список для хранения значений MAP\n",
    "\n",
    "\n",
    "    def train(self):\n",
    "        self.P = np.random.normal(scale=1./self.K, size=(self.num_users, self.K))\n",
    "        self.Q = np.random.normal(scale=1./self.K, size=(self.num_items, self.K))\n",
    "\n",
    "        self.b_u = np.zeros(self.num_users)\n",
    "        self.b_i = np.zeros(self.num_items)\n",
    "        self.b = np.mean(self.R[self.R > 0])\n",
    "\n",
    "        self.samples = [\n",
    "            (i, j, self.R[i, j])\n",
    "            for i, j in zip(*np.nonzero(self.R))\n",
    "        ]\n",
    "\n",
    "        progress_bar = tqdm(total=self.iterations, desc=\"Training SVD\")\n",
    "        for iteration in range(self.iterations):\n",
    "            np.random.shuffle(self.samples)\n",
    "            self.sgd()\n",
    "            rmse = self.rmse()\n",
    "            self.rmse_values.append(rmse)  # Сохраняем значение RMSE\n",
    "            progress_bar.set_postfix({'RMSE': f\"{rmse:.4f}\"})\n",
    "            progress_bar.update(1)\n",
    "        progress_bar.close()\n",
    "\n",
    "    def sgd(self):\n",
    "        for i, j, r in self.samples:\n",
    "            prediction = self.predict(i, j)\n",
    "            error = r - prediction\n",
    "\n",
    "            # Обновление биасов\n",
    "            self.b_u[i] += self.alpha * (error - self.beta * self.b_u[i])\n",
    "            self.b_i[j] += self.alpha * (error - self.beta * self.b_i[j])\n",
    "\n",
    "            # Обновление скрытых факторов\n",
    "            self.P[i, :] += self.alpha * (error * self.Q[j, :] - self.beta * self.P[i, :])\n",
    "            self.Q[j, :] += self.alpha * (error * self.P[i, :] - self.beta * self.Q[j, :])\n",
    "\n",
    "\n",
    "    def predict(self, i, j):\n",
    "        return self.b + self.b_u[i] + self.b_i[j] + self.P[i, :].dot(self.Q[j, :].T)\n",
    "\n",
    "\n",
    "    def rmse(self):\n",
    "        xs, ys = self.R.nonzero()\n",
    "        predicted = []\n",
    "        actual = []\n",
    "        for x, y in zip(xs, ys):\n",
    "            predicted.append(self.predict(x, y))\n",
    "            actual.append(self.R[x, y])\n",
    "        return np.sqrt(np.mean((np.array(predicted) - np.array(actual)) ** 2))"
   ]
  },
  {
   "cell_type": "markdown",
   "metadata": {},
   "source": [
    "### Подготовка данных"
   ]
  },
  {
   "cell_type": "code",
   "execution_count": 58,
   "metadata": {},
   "outputs": [],
   "source": [
    "# Загрузка файлов\n",
    "accepts = pd.read_csv('data/restaurant/chefmozaccepts.csv')\n",
    "cuisine = pd.read_csv('data/restaurant/chefmozcuisine.csv')\n",
    "hours = pd.read_csv('data/restaurant/chefmozhours4.csv')\n",
    "parking = pd.read_csv('data/restaurant/chefmozparking.csv')\n",
    "geoplaces = gpd.read_file('data/restaurant/geoplaces2.csv')\n",
    "\n",
    "user_cuisine = pd.read_csv('data/restaurant/usercuisine.csv')\n",
    "user_payment = pd.read_csv('data/restaurant/userpayment.csv')\n",
    "user_profile = pd.read_csv('data/restaurant/userprofile.csv')\n",
    "\n",
    "rating = pd.read_csv('data/restaurant/rating_final.csv')"
   ]
  },
  {
   "cell_type": "code",
   "execution_count": 59,
   "metadata": {},
   "outputs": [],
   "source": [
    "# Приведение всех placeID к строковому типу для merge\n",
    "accepts['placeID'] = accepts['placeID'].astype(str)\n",
    "cuisine['placeID'] = cuisine['placeID'].astype(str)\n",
    "hours['placeID'] = hours['placeID'].astype(str)\n",
    "parking['placeID'] = parking['placeID'].astype(str)\n",
    "geoplaces['placeID'] = geoplaces['placeID'].astype(str)\n",
    "rating['placeID'] = rating['placeID'].astype(str)\n",
    "rating['placeID'] = rating['placeID'].astype(str)\n",
    "cuisine['placeID'] = cuisine['placeID'].astype(str)"
   ]
  },
  {
   "cell_type": "markdown",
   "metadata": {},
   "source": [
    "### Предварительная фильтрация"
   ]
  },
  {
   "cell_type": "code",
   "execution_count": 60,
   "metadata": {},
   "outputs": [],
   "source": [
    "# Добавляем информацию о типе кухни и среднему чеку. Это будет использовано для фильтрации\n",
    "data = rating.merge(cuisine, on='placeID', how='left') \\\n",
    "             .merge(geoplaces[['placeID', 'price']], on='placeID', how='left')"
   ]
  },
  {
   "cell_type": "code",
   "execution_count": 61,
   "metadata": {},
   "outputs": [],
   "source": [
    "# Если кухня не мексиканская\n",
    "data.loc[data['Rcuisine'] != 'Mexican', ['rating', 'food_rating', 'service_rating']] = 0\n",
    "\n",
    "# Только дешевая кухня\n",
    "# data.loc[data['price'].isin(['medium', 'high']), ['rating', 'food_rating', 'service_rating']] = 0"
   ]
  },
  {
   "cell_type": "markdown",
   "metadata": {},
   "source": [
    "* Матрица рейтингов. Только по колонке \"rating\""
   ]
  },
  {
   "cell_type": "code",
   "execution_count": 62,
   "metadata": {},
   "outputs": [],
   "source": [
    "n_users, n_items, train_df, test_df = split(data)\n",
    "\n",
    "R_train = create_matrix(train_df, n_users, n_items)\n",
    "R_test = create_matrix(test_df, n_users, n_items)"
   ]
  },
  {
   "cell_type": "code",
   "execution_count": 63,
   "metadata": {},
   "outputs": [
    {
     "data": {
      "application/vnd.jupyter.widget-view+json": {
       "model_id": "03b181e6ce804bf3a5b4067308100114",
       "version_major": 2,
       "version_minor": 0
      },
      "text/plain": [
       "Training SVD:   0%|          | 0/10 [00:00<?, ?it/s]"
      ]
     },
     "metadata": {},
     "output_type": "display_data"
    },
    {
     "data": {
      "application/vnd.jupyter.widget-view+json": {
       "model_id": "922a3309d12b42379599c82e184dcbf3",
       "version_major": 2,
       "version_minor": 0
      },
      "text/plain": [
       "Training SVD:   0%|          | 0/10 [00:00<?, ?it/s]"
      ]
     },
     "metadata": {},
     "output_type": "display_data"
    },
    {
     "data": {
      "application/vnd.jupyter.widget-view+json": {
       "model_id": "b0e65d1f182c478592dcd2ff012380a8",
       "version_major": 2,
       "version_minor": 0
      },
      "text/plain": [
       "Training SVD:   0%|          | 0/10 [00:00<?, ?it/s]"
      ]
     },
     "metadata": {},
     "output_type": "display_data"
    },
    {
     "data": {
      "application/vnd.jupyter.widget-view+json": {
       "model_id": "b62aaf9a81e74652a6b9160fa8c7a909",
       "version_major": 2,
       "version_minor": 0
      },
      "text/plain": [
       "Training SVD:   0%|          | 0/50 [00:00<?, ?it/s]"
      ]
     },
     "metadata": {},
     "output_type": "display_data"
    },
    {
     "data": {
      "application/vnd.jupyter.widget-view+json": {
       "model_id": "6c26150d1eef4148880b22b68becbf82",
       "version_major": 2,
       "version_minor": 0
      },
      "text/plain": [
       "Training SVD:   0%|          | 0/50 [00:00<?, ?it/s]"
      ]
     },
     "metadata": {},
     "output_type": "display_data"
    },
    {
     "data": {
      "application/vnd.jupyter.widget-view+json": {
       "model_id": "586f479b1bf9447ca869e3eb92313f04",
       "version_major": 2,
       "version_minor": 0
      },
      "text/plain": [
       "Training SVD:   0%|          | 0/50 [00:00<?, ?it/s]"
      ]
     },
     "metadata": {},
     "output_type": "display_data"
    },
    {
     "data": {
      "application/vnd.jupyter.widget-view+json": {
       "model_id": "4abec4b1f55e48eb987926da3141e1cc",
       "version_major": 2,
       "version_minor": 0
      },
      "text/plain": [
       "Training SVD:   0%|          | 0/100 [00:00<?, ?it/s]"
      ]
     },
     "metadata": {},
     "output_type": "display_data"
    },
    {
     "data": {
      "application/vnd.jupyter.widget-view+json": {
       "model_id": "8ba64030ee4c4d7db149b185992c0490",
       "version_major": 2,
       "version_minor": 0
      },
      "text/plain": [
       "Training SVD:   0%|          | 0/100 [00:00<?, ?it/s]"
      ]
     },
     "metadata": {},
     "output_type": "display_data"
    },
    {
     "data": {
      "application/vnd.jupyter.widget-view+json": {
       "model_id": "be25cfb899154569bf954af62c550f4d",
       "version_major": 2,
       "version_minor": 0
      },
      "text/plain": [
       "Training SVD:   0%|          | 0/100 [00:00<?, ?it/s]"
      ]
     },
     "metadata": {},
     "output_type": "display_data"
    },
    {
     "data": {
      "application/vnd.jupyter.widget-view+json": {
       "model_id": "e60330e8e4204f74b424a95499b79d5b",
       "version_major": 2,
       "version_minor": 0
      },
      "text/plain": [
       "Training SVD:   0%|          | 0/10 [00:00<?, ?it/s]"
      ]
     },
     "metadata": {},
     "output_type": "display_data"
    },
    {
     "data": {
      "application/vnd.jupyter.widget-view+json": {
       "model_id": "645eedd40e854b448194b0372a9ae734",
       "version_major": 2,
       "version_minor": 0
      },
      "text/plain": [
       "Training SVD:   0%|          | 0/10 [00:00<?, ?it/s]"
      ]
     },
     "metadata": {},
     "output_type": "display_data"
    },
    {
     "data": {
      "application/vnd.jupyter.widget-view+json": {
       "model_id": "0e6cd91478054153a62823512260daa2",
       "version_major": 2,
       "version_minor": 0
      },
      "text/plain": [
       "Training SVD:   0%|          | 0/10 [00:00<?, ?it/s]"
      ]
     },
     "metadata": {},
     "output_type": "display_data"
    },
    {
     "data": {
      "application/vnd.jupyter.widget-view+json": {
       "model_id": "bf5b4893cf544e97b3efe63b6f4d7454",
       "version_major": 2,
       "version_minor": 0
      },
      "text/plain": [
       "Training SVD:   0%|          | 0/50 [00:00<?, ?it/s]"
      ]
     },
     "metadata": {},
     "output_type": "display_data"
    },
    {
     "data": {
      "application/vnd.jupyter.widget-view+json": {
       "model_id": "86ba7d0a9d9b4b1693d2864cb0318216",
       "version_major": 2,
       "version_minor": 0
      },
      "text/plain": [
       "Training SVD:   0%|          | 0/50 [00:00<?, ?it/s]"
      ]
     },
     "metadata": {},
     "output_type": "display_data"
    },
    {
     "data": {
      "application/vnd.jupyter.widget-view+json": {
       "model_id": "07b56e77e74d467ab2b8e42a66605bb2",
       "version_major": 2,
       "version_minor": 0
      },
      "text/plain": [
       "Training SVD:   0%|          | 0/50 [00:00<?, ?it/s]"
      ]
     },
     "metadata": {},
     "output_type": "display_data"
    },
    {
     "data": {
      "application/vnd.jupyter.widget-view+json": {
       "model_id": "83b2359b3dbd48849d999f1b8cb755c8",
       "version_major": 2,
       "version_minor": 0
      },
      "text/plain": [
       "Training SVD:   0%|          | 0/100 [00:00<?, ?it/s]"
      ]
     },
     "metadata": {},
     "output_type": "display_data"
    },
    {
     "data": {
      "application/vnd.jupyter.widget-view+json": {
       "model_id": "3e73dabad8334dd78a71612f95eeb120",
       "version_major": 2,
       "version_minor": 0
      },
      "text/plain": [
       "Training SVD:   0%|          | 0/100 [00:00<?, ?it/s]"
      ]
     },
     "metadata": {},
     "output_type": "display_data"
    },
    {
     "data": {
      "application/vnd.jupyter.widget-view+json": {
       "model_id": "dce2dd8fe658440aaf3330a147eb5f44",
       "version_major": 2,
       "version_minor": 0
      },
      "text/plain": [
       "Training SVD:   0%|          | 0/100 [00:00<?, ?it/s]"
      ]
     },
     "metadata": {},
     "output_type": "display_data"
    },
    {
     "data": {
      "application/vnd.jupyter.widget-view+json": {
       "model_id": "8df1740e6bfa4a018180a4ae5a5f84b2",
       "version_major": 2,
       "version_minor": 0
      },
      "text/plain": [
       "Training SVD:   0%|          | 0/10 [00:00<?, ?it/s]"
      ]
     },
     "metadata": {},
     "output_type": "display_data"
    },
    {
     "data": {
      "application/vnd.jupyter.widget-view+json": {
       "model_id": "0ce7f0d3371544e7a799d9b420e1519d",
       "version_major": 2,
       "version_minor": 0
      },
      "text/plain": [
       "Training SVD:   0%|          | 0/10 [00:00<?, ?it/s]"
      ]
     },
     "metadata": {},
     "output_type": "display_data"
    },
    {
     "data": {
      "application/vnd.jupyter.widget-view+json": {
       "model_id": "fdcbaf0a11be4633a4280ad4478ad4b1",
       "version_major": 2,
       "version_minor": 0
      },
      "text/plain": [
       "Training SVD:   0%|          | 0/10 [00:00<?, ?it/s]"
      ]
     },
     "metadata": {},
     "output_type": "display_data"
    },
    {
     "data": {
      "application/vnd.jupyter.widget-view+json": {
       "model_id": "4defcf005afa4534844d3bcbbefe98e4",
       "version_major": 2,
       "version_minor": 0
      },
      "text/plain": [
       "Training SVD:   0%|          | 0/50 [00:00<?, ?it/s]"
      ]
     },
     "metadata": {},
     "output_type": "display_data"
    },
    {
     "data": {
      "application/vnd.jupyter.widget-view+json": {
       "model_id": "b23be26a61e54d30ac1d4a7c87e7b67a",
       "version_major": 2,
       "version_minor": 0
      },
      "text/plain": [
       "Training SVD:   0%|          | 0/50 [00:00<?, ?it/s]"
      ]
     },
     "metadata": {},
     "output_type": "display_data"
    },
    {
     "data": {
      "application/vnd.jupyter.widget-view+json": {
       "model_id": "bd64f70bf6014b4589a31ab7ffa1e095",
       "version_major": 2,
       "version_minor": 0
      },
      "text/plain": [
       "Training SVD:   0%|          | 0/50 [00:00<?, ?it/s]"
      ]
     },
     "metadata": {},
     "output_type": "display_data"
    },
    {
     "data": {
      "application/vnd.jupyter.widget-view+json": {
       "model_id": "9d71ff1c06744818a9d8ce1284b5f4bc",
       "version_major": 2,
       "version_minor": 0
      },
      "text/plain": [
       "Training SVD:   0%|          | 0/100 [00:00<?, ?it/s]"
      ]
     },
     "metadata": {},
     "output_type": "display_data"
    },
    {
     "data": {
      "application/vnd.jupyter.widget-view+json": {
       "model_id": "03295877948e4120b37165195115948b",
       "version_major": 2,
       "version_minor": 0
      },
      "text/plain": [
       "Training SVD:   0%|          | 0/100 [00:00<?, ?it/s]"
      ]
     },
     "metadata": {},
     "output_type": "display_data"
    },
    {
     "data": {
      "application/vnd.jupyter.widget-view+json": {
       "model_id": "452c2cc473e748c6a19e6c1271e634ba",
       "version_major": 2,
       "version_minor": 0
      },
      "text/plain": [
       "Training SVD:   0%|          | 0/100 [00:00<?, ?it/s]"
      ]
     },
     "metadata": {},
     "output_type": "display_data"
    }
   ],
   "source": [
    "param_grid = {\n",
    "    'K': [2, 10, 50],\n",
    "    'iterations': [10, 50, 100],\n",
    "    'alpha': [0.001, 0.02, 0.2],\n",
    "    'beta': [0.02]\n",
    "}\n",
    "\n",
    "results = []\n",
    "\n",
    "for K in param_grid['K']:\n",
    "    for iterations in param_grid['iterations']:\n",
    "        for alpha in param_grid['alpha']:\n",
    "            for beta in param_grid['beta']:\n",
    "                # Запуск моделей\n",
    "                svd = SVD(R_train, K=K, iterations=iterations, alpha=alpha, beta=beta)\n",
    "                svd.train()\n",
    "                svd_rmse = calculate_rmse(R_test, svd)\n",
    "                svd_map_2 = mean_average_precision_at_k(svd, R_train, R_test, top_k=50, grade=2)\n",
    "                svd_map_1 = mean_average_precision_at_k(svd, R_train, R_test, top_k=50, grade=1)\n",
    "                results.append([K, iterations, alpha, beta, svd_rmse, svd_map_2, svd_map_1])"
   ]
  },
  {
   "cell_type": "code",
   "execution_count": 64,
   "metadata": {},
   "outputs": [
    {
     "name": "stdout",
     "output_type": "stream",
     "text": [
      "+----+-----+------------+---------+--------+------------+-------------+-------------+\n",
      "|    |   K |   Итерации |   Alpha |   Beta |   SVD RMSE |   SVD MAP 2 |   SVD MAP 1 |\n",
      "|----+-----+------------+---------+--------+------------+-------------+-------------|\n",
      "| 10 |  10 |         10 |   0.02  |   0.02 |   0.452507 |   0.237328  |   0.197209  |\n",
      "| 24 |  50 |        100 |   0.001 |   0.02 |   0.461317 |   0.233085  |   0.196856  |\n",
      "| 19 |  50 |         10 |   0.02  |   0.02 |   0.449413 |   0.232374  |   0.195875  |\n",
      "| 21 |  50 |         50 |   0.001 |   0.02 |   0.475265 |   0.227508  |   0.191013  |\n",
      "| 18 |  50 |         10 |   0.001 |   0.02 |   0.493369 |   0.220785  |   0.178029  |\n",
      "| 12 |  10 |         50 |   0.001 |   0.02 |   0.476544 |   0.211106  |   0.168905  |\n",
      "| 15 |  10 |        100 |   0.001 |   0.02 |   0.466944 |   0.191584  |   0.169009  |\n",
      "| 13 |  10 |         50 |   0.02  |   0.02 |   0.470867 |   0.191198  |   0.144423  |\n",
      "| 17 |  10 |        100 |   0.2   |   0.02 |   0.501296 |   0.181542  |   0.142294  |\n",
      "| 22 |  50 |         50 |   0.02  |   0.02 |   0.486478 |   0.15909   |   0.1344    |\n",
      "| 11 |  10 |         10 |   0.2   |   0.02 |   0.51394  |   0.148738  |   0.126931  |\n",
      "| 14 |  10 |         50 |   0.2   |   0.02 |   0.512835 |   0.140946  |   0.118254  |\n",
      "| 26 |  50 |        100 |   0.2   |   0.02 |   0.512725 |   0.138741  |   0.122809  |\n",
      "| 23 |  50 |         50 |   0.2   |   0.02 |   0.511782 |   0.138469  |   0.12066   |\n",
      "| 16 |  10 |        100 |   0.02  |   0.02 |   0.493456 |   0.135069  |   0.108246  |\n",
      "| 25 |  50 |        100 |   0.02  |   0.02 |   0.51398  |   0.13267   |   0.117245  |\n",
      "| 20 |  50 |         10 |   0.2   |   0.02 |   0.523674 |   0.119845  |   0.1052    |\n",
      "|  8 |   2 |        100 |   0.2   |   0.02 |   0.57984  |   0.0711149 |   0.06142   |\n",
      "|  7 |   2 |        100 |   0.02  |   0.02 |   0.548719 |   0.0693487 |   0.0482584 |\n",
      "|  5 |   2 |         50 |   0.2   |   0.02 |   0.642044 |   0.0629594 |   0.0727207 |\n",
      "|  9 |  10 |         10 |   0.001 |   0.02 |   0.50188  |   0.061321  |   0.0876902 |\n",
      "|  4 |   2 |         50 |   0.02  |   0.02 |   0.505312 |   0.0483471 |   0.0378937 |\n",
      "|  2 |   2 |         10 |   0.2   |   0.02 |   0.568335 |   0.0410735 |   0.0591807 |\n",
      "|  6 |   2 |        100 |   0.001 |   0.02 |   0.501154 |   0.0393178 |   0.0337047 |\n",
      "|  3 |   2 |         50 |   0.001 |   0.02 |   0.561097 |   0.0297041 |   0.0487671 |\n",
      "|  1 |   2 |         10 |   0.02  |   0.02 |   0.541011 |   0.0257458 |   0.0264567 |\n",
      "|  0 |   2 |         10 |   0.001 |   0.02 |   0.631254 |   0.0234467 |   0.0294522 |\n",
      "+----+-----+------------+---------+--------+------------+-------------+-------------+\n"
     ]
    }
   ],
   "source": [
    "df = pd.DataFrame(results, columns=['K', 'Итерации', 'Alpha', 'Beta', 'SVD RMSE', 'SVD MAP 2', 'SVD MAP 1']).sort_values(['SVD MAP 2', 'SVD MAP 1'], ascending=False)\n",
    "print(tabulate(df, headers='keys', tablefmt='psql'))  "
   ]
  },
  {
   "cell_type": "markdown",
   "metadata": {},
   "source": [
    "### Контекстная рекомендация"
   ]
  },
  {
   "cell_type": "code",
   "execution_count": 65,
   "metadata": {},
   "outputs": [],
   "source": [
    "data = rating.merge(cuisine, on='placeID', how='left') \\\n",
    "             .merge(geoplaces[['placeID', 'price']], on='placeID', how='left')\n",
    "\n",
    "n_users, n_items, train_df, test_df = split(data)\n",
    "train_df['rating'] = train_df.apply(add_context_weight, axis=1,args=('Rcuisine', 'Mexican'))\n",
    "test_df.loc[test_df['Rcuisine'] != 'Mexican', ['rating', 'food_rating', 'service_rating']] = 0\n",
    "\n",
    "R_train = create_matrix(train_df, n_users, n_items)\n",
    "R_test = create_matrix(test_df, n_users, n_items)"
   ]
  },
  {
   "cell_type": "code",
   "execution_count": 66,
   "metadata": {},
   "outputs": [
    {
     "data": {
      "application/vnd.jupyter.widget-view+json": {
       "model_id": "05578833b7af4f80a1a02be6b0c4e090",
       "version_major": 2,
       "version_minor": 0
      },
      "text/plain": [
       "Training SVD:   0%|          | 0/10 [00:00<?, ?it/s]"
      ]
     },
     "metadata": {},
     "output_type": "display_data"
    },
    {
     "data": {
      "application/vnd.jupyter.widget-view+json": {
       "model_id": "cc85335cbf584728b58388df1c11bd0a",
       "version_major": 2,
       "version_minor": 0
      },
      "text/plain": [
       "Training SVD:   0%|          | 0/10 [00:00<?, ?it/s]"
      ]
     },
     "metadata": {},
     "output_type": "display_data"
    },
    {
     "data": {
      "application/vnd.jupyter.widget-view+json": {
       "model_id": "29d857a7206a4ea79be6e22734062aae",
       "version_major": 2,
       "version_minor": 0
      },
      "text/plain": [
       "Training SVD:   0%|          | 0/50 [00:00<?, ?it/s]"
      ]
     },
     "metadata": {},
     "output_type": "display_data"
    },
    {
     "data": {
      "application/vnd.jupyter.widget-view+json": {
       "model_id": "46ece5a54d91430f99c41cdf1c458d6e",
       "version_major": 2,
       "version_minor": 0
      },
      "text/plain": [
       "Training SVD:   0%|          | 0/50 [00:00<?, ?it/s]"
      ]
     },
     "metadata": {},
     "output_type": "display_data"
    },
    {
     "data": {
      "application/vnd.jupyter.widget-view+json": {
       "model_id": "250f1948f4d64357b9525ad99da4b0b5",
       "version_major": 2,
       "version_minor": 0
      },
      "text/plain": [
       "Training SVD:   0%|          | 0/100 [00:00<?, ?it/s]"
      ]
     },
     "metadata": {},
     "output_type": "display_data"
    },
    {
     "data": {
      "application/vnd.jupyter.widget-view+json": {
       "model_id": "dffb6798d41d46eaaf3950d958e2d535",
       "version_major": 2,
       "version_minor": 0
      },
      "text/plain": [
       "Training SVD:   0%|          | 0/100 [00:00<?, ?it/s]"
      ]
     },
     "metadata": {},
     "output_type": "display_data"
    },
    {
     "data": {
      "application/vnd.jupyter.widget-view+json": {
       "model_id": "c35be736c8aa492aa2a11a32d54761d2",
       "version_major": 2,
       "version_minor": 0
      },
      "text/plain": [
       "Training SVD:   0%|          | 0/10 [00:00<?, ?it/s]"
      ]
     },
     "metadata": {},
     "output_type": "display_data"
    },
    {
     "data": {
      "application/vnd.jupyter.widget-view+json": {
       "model_id": "675c9ef12caf4ec3abefd386b6d252f0",
       "version_major": 2,
       "version_minor": 0
      },
      "text/plain": [
       "Training SVD:   0%|          | 0/10 [00:00<?, ?it/s]"
      ]
     },
     "metadata": {},
     "output_type": "display_data"
    },
    {
     "data": {
      "application/vnd.jupyter.widget-view+json": {
       "model_id": "c25dc1bff7c64adea84170c0129658d1",
       "version_major": 2,
       "version_minor": 0
      },
      "text/plain": [
       "Training SVD:   0%|          | 0/50 [00:00<?, ?it/s]"
      ]
     },
     "metadata": {},
     "output_type": "display_data"
    },
    {
     "data": {
      "application/vnd.jupyter.widget-view+json": {
       "model_id": "ce79ef98bb754bf5b1d2a7f91f0308a6",
       "version_major": 2,
       "version_minor": 0
      },
      "text/plain": [
       "Training SVD:   0%|          | 0/50 [00:00<?, ?it/s]"
      ]
     },
     "metadata": {},
     "output_type": "display_data"
    },
    {
     "data": {
      "application/vnd.jupyter.widget-view+json": {
       "model_id": "d6361f3fafea48bea3bddb5336e2bacc",
       "version_major": 2,
       "version_minor": 0
      },
      "text/plain": [
       "Training SVD:   0%|          | 0/100 [00:00<?, ?it/s]"
      ]
     },
     "metadata": {},
     "output_type": "display_data"
    },
    {
     "data": {
      "application/vnd.jupyter.widget-view+json": {
       "model_id": "c3b5414f14d04d12979d64572310514c",
       "version_major": 2,
       "version_minor": 0
      },
      "text/plain": [
       "Training SVD:   0%|          | 0/100 [00:00<?, ?it/s]"
      ]
     },
     "metadata": {},
     "output_type": "display_data"
    },
    {
     "data": {
      "application/vnd.jupyter.widget-view+json": {
       "model_id": "f446bd37cd8a481390299dc781500c1c",
       "version_major": 2,
       "version_minor": 0
      },
      "text/plain": [
       "Training SVD:   0%|          | 0/10 [00:00<?, ?it/s]"
      ]
     },
     "metadata": {},
     "output_type": "display_data"
    },
    {
     "data": {
      "application/vnd.jupyter.widget-view+json": {
       "model_id": "6986201acbb244d49383fa0823ba700d",
       "version_major": 2,
       "version_minor": 0
      },
      "text/plain": [
       "Training SVD:   0%|          | 0/10 [00:00<?, ?it/s]"
      ]
     },
     "metadata": {},
     "output_type": "display_data"
    },
    {
     "data": {
      "application/vnd.jupyter.widget-view+json": {
       "model_id": "b9e6163872284847adc08909d058cb20",
       "version_major": 2,
       "version_minor": 0
      },
      "text/plain": [
       "Training SVD:   0%|          | 0/50 [00:00<?, ?it/s]"
      ]
     },
     "metadata": {},
     "output_type": "display_data"
    },
    {
     "data": {
      "application/vnd.jupyter.widget-view+json": {
       "model_id": "c11c04f6cda44d27a675d7a64ca995e3",
       "version_major": 2,
       "version_minor": 0
      },
      "text/plain": [
       "Training SVD:   0%|          | 0/50 [00:00<?, ?it/s]"
      ]
     },
     "metadata": {},
     "output_type": "display_data"
    },
    {
     "data": {
      "application/vnd.jupyter.widget-view+json": {
       "model_id": "1b0c79df85f343bea6b77aa49a4ce22d",
       "version_major": 2,
       "version_minor": 0
      },
      "text/plain": [
       "Training SVD:   0%|          | 0/100 [00:00<?, ?it/s]"
      ]
     },
     "metadata": {},
     "output_type": "display_data"
    },
    {
     "data": {
      "application/vnd.jupyter.widget-view+json": {
       "model_id": "8fd11ddcf58c46c1bc8a5b5727875208",
       "version_major": 2,
       "version_minor": 0
      },
      "text/plain": [
       "Training SVD:   0%|          | 0/100 [00:00<?, ?it/s]"
      ]
     },
     "metadata": {},
     "output_type": "display_data"
    }
   ],
   "source": [
    "param_grid = {\n",
    "    'K': [2, 10, 50],\n",
    "    'iterations': [10, 50, 100],\n",
    "    'alpha': [0.001, 0.02],\n",
    "    'beta': [0.02]\n",
    "}\n",
    "\n",
    "results = []\n",
    "\n",
    "for K in param_grid['K']:\n",
    "    for iterations in param_grid['iterations']:\n",
    "        for alpha in param_grid['alpha']:\n",
    "            for beta in param_grid['beta']:\n",
    "                # Запуск моделей\n",
    "                svd = SVD(R_train, K=K, iterations=iterations, alpha=alpha, beta=beta)\n",
    "                svd.train()\n",
    "                svd_rmse = calculate_rmse(R_test, svd)\n",
    "                svd_map_2 = mean_average_precision_at_k(svd, R_train, R_test, top_k=50, grade=2)\n",
    "                svd_map_1 = mean_average_precision_at_k(svd, R_train, R_test, top_k=50, grade=1)\n",
    "                results.append([K, iterations, alpha, beta, svd_rmse, svd_map_2, svd_map_1])"
   ]
  },
  {
   "cell_type": "code",
   "execution_count": 67,
   "metadata": {},
   "outputs": [
    {
     "name": "stdout",
     "output_type": "stream",
     "text": [
      "+----+-----+------------+---------+--------+------------+-------------+-------------+\n",
      "|    |   K |   Итерации |   Alpha |   Beta |   SVD RMSE |   SVD MAP 2 |   SVD MAP 1 |\n",
      "|----+-----+------------+---------+--------+------------+-------------+-------------|\n",
      "| 14 |  50 |         50 |   0.001 |   0.02 |   0.446261 |   0.257107  |   0.214148  |\n",
      "| 12 |  50 |         10 |   0.001 |   0.02 |   0.47634  |   0.243842  |   0.204735  |\n",
      "|  8 |  10 |         50 |   0.001 |   0.02 |   0.450366 |   0.243083  |   0.215028  |\n",
      "| 10 |  10 |        100 |   0.001 |   0.02 |   0.443846 |   0.234929  |   0.198726  |\n",
      "|  6 |  10 |         10 |   0.001 |   0.02 |   0.478632 |   0.229243  |   0.195271  |\n",
      "| 16 |  50 |        100 |   0.001 |   0.02 |   0.442672 |   0.207717  |   0.17811   |\n",
      "|  7 |  10 |         10 |   0.02  |   0.02 |   0.455672 |   0.202269  |   0.189521  |\n",
      "| 13 |  50 |         10 |   0.02  |   0.02 |   0.462968 |   0.192889  |   0.166354  |\n",
      "| 15 |  50 |         50 |   0.02  |   0.02 |   0.557332 |   0.188147  |   0.157348  |\n",
      "| 11 |  10 |        100 |   0.02  |   0.02 |   0.597782 |   0.171704  |   0.142106  |\n",
      "|  9 |  10 |         50 |   0.02  |   0.02 |   0.568217 |   0.156025  |   0.146903  |\n",
      "| 17 |  50 |        100 |   0.02  |   0.02 |   0.547577 |   0.119843  |   0.112092  |\n",
      "|  1 |   2 |         10 |   0.02  |   0.02 |   0.447478 |   0.0992132 |   0.0842997 |\n",
      "|  3 |   2 |         50 |   0.02  |   0.02 |   0.67883  |   0.0985668 |   0.0803837 |\n",
      "|  5 |   2 |        100 |   0.02  |   0.02 |   0.634868 |   0.0809514 |   0.0789144 |\n",
      "|  4 |   2 |        100 |   0.001 |   0.02 |   0.476123 |   0.0753772 |   0.0762445 |\n",
      "|  0 |   2 |         10 |   0.001 |   0.02 |   0.591519 |   0.0368244 |   0.0296248 |\n",
      "|  2 |   2 |         50 |   0.001 |   0.02 |   0.463474 |   0.0285388 |   0.0296392 |\n",
      "+----+-----+------------+---------+--------+------------+-------------+-------------+\n"
     ]
    }
   ],
   "source": [
    "df = pd.DataFrame(results, columns=['K', 'Итерации', 'Alpha', 'Beta', 'SVD RMSE', 'SVD MAP 2', 'SVD MAP 1']).sort_values(['SVD MAP 2', 'SVD MAP 1'], ascending=False)\n",
    "print(tabulate(df, headers='keys', tablefmt='psql'))"
   ]
  },
  {
   "cell_type": "markdown",
   "metadata": {},
   "source": [
    "### Classic SVD"
   ]
  },
  {
   "cell_type": "code",
   "execution_count": 68,
   "metadata": {},
   "outputs": [],
   "source": [
    "data = rating.merge(cuisine, on='placeID', how='left') \\\n",
    "             .merge(geoplaces[['placeID', 'price']], on='placeID', how='left')"
   ]
  },
  {
   "cell_type": "code",
   "execution_count": 71,
   "metadata": {},
   "outputs": [],
   "source": [
    "n_users, n_items, train_df, test_df = split(data)\n",
    "\n",
    "test_df.loc[test_df['Rcuisine'] != 'Mexican', ['rating', 'food_rating', 'service_rating']] = 0\n",
    "\n",
    "R_train = create_matrix(train_df, n_users, n_items)\n",
    "R_test = create_matrix(test_df, n_users, n_items)"
   ]
  },
  {
   "cell_type": "code",
   "execution_count": 72,
   "metadata": {},
   "outputs": [
    {
     "data": {
      "application/vnd.jupyter.widget-view+json": {
       "model_id": "09f52ed4ef634ed6b3fb290fc27a4669",
       "version_major": 2,
       "version_minor": 0
      },
      "text/plain": [
       "Training SVD:   0%|          | 0/10 [00:00<?, ?it/s]"
      ]
     },
     "metadata": {},
     "output_type": "display_data"
    },
    {
     "data": {
      "application/vnd.jupyter.widget-view+json": {
       "model_id": "0be7531c4fca46fb80ab2e513494cbd0",
       "version_major": 2,
       "version_minor": 0
      },
      "text/plain": [
       "Training SVD:   0%|          | 0/10 [00:00<?, ?it/s]"
      ]
     },
     "metadata": {},
     "output_type": "display_data"
    },
    {
     "data": {
      "application/vnd.jupyter.widget-view+json": {
       "model_id": "4217b45423a144659d1a8301abdb1d2d",
       "version_major": 2,
       "version_minor": 0
      },
      "text/plain": [
       "Training SVD:   0%|          | 0/10 [00:00<?, ?it/s]"
      ]
     },
     "metadata": {},
     "output_type": "display_data"
    },
    {
     "data": {
      "application/vnd.jupyter.widget-view+json": {
       "model_id": "140fd537baa34d529dbdea4283e89666",
       "version_major": 2,
       "version_minor": 0
      },
      "text/plain": [
       "Training SVD:   0%|          | 0/50 [00:00<?, ?it/s]"
      ]
     },
     "metadata": {},
     "output_type": "display_data"
    },
    {
     "data": {
      "application/vnd.jupyter.widget-view+json": {
       "model_id": "c756c875934c43a6b33a404aec03b295",
       "version_major": 2,
       "version_minor": 0
      },
      "text/plain": [
       "Training SVD:   0%|          | 0/50 [00:00<?, ?it/s]"
      ]
     },
     "metadata": {},
     "output_type": "display_data"
    },
    {
     "data": {
      "application/vnd.jupyter.widget-view+json": {
       "model_id": "fedcf3a8736541408d752e7965251117",
       "version_major": 2,
       "version_minor": 0
      },
      "text/plain": [
       "Training SVD:   0%|          | 0/50 [00:00<?, ?it/s]"
      ]
     },
     "metadata": {},
     "output_type": "display_data"
    },
    {
     "data": {
      "application/vnd.jupyter.widget-view+json": {
       "model_id": "06ed09575fba4cb4853fd41e1c1fdfed",
       "version_major": 2,
       "version_minor": 0
      },
      "text/plain": [
       "Training SVD:   0%|          | 0/100 [00:00<?, ?it/s]"
      ]
     },
     "metadata": {},
     "output_type": "display_data"
    },
    {
     "data": {
      "application/vnd.jupyter.widget-view+json": {
       "model_id": "50d7e3f7bb4a412aa9453da80bebc5ed",
       "version_major": 2,
       "version_minor": 0
      },
      "text/plain": [
       "Training SVD:   0%|          | 0/100 [00:00<?, ?it/s]"
      ]
     },
     "metadata": {},
     "output_type": "display_data"
    },
    {
     "data": {
      "application/vnd.jupyter.widget-view+json": {
       "model_id": "34d28ec66bb94c7cb09539abc89adc9b",
       "version_major": 2,
       "version_minor": 0
      },
      "text/plain": [
       "Training SVD:   0%|          | 0/100 [00:00<?, ?it/s]"
      ]
     },
     "metadata": {},
     "output_type": "display_data"
    },
    {
     "data": {
      "application/vnd.jupyter.widget-view+json": {
       "model_id": "cedf33e2ec92427db10aa66f359c090a",
       "version_major": 2,
       "version_minor": 0
      },
      "text/plain": [
       "Training SVD:   0%|          | 0/10 [00:00<?, ?it/s]"
      ]
     },
     "metadata": {},
     "output_type": "display_data"
    },
    {
     "data": {
      "application/vnd.jupyter.widget-view+json": {
       "model_id": "fda19828d2d84cf18b3c01ed6cea09a4",
       "version_major": 2,
       "version_minor": 0
      },
      "text/plain": [
       "Training SVD:   0%|          | 0/10 [00:00<?, ?it/s]"
      ]
     },
     "metadata": {},
     "output_type": "display_data"
    },
    {
     "data": {
      "application/vnd.jupyter.widget-view+json": {
       "model_id": "9dca29ef2e0e492691d5223108550fa5",
       "version_major": 2,
       "version_minor": 0
      },
      "text/plain": [
       "Training SVD:   0%|          | 0/10 [00:00<?, ?it/s]"
      ]
     },
     "metadata": {},
     "output_type": "display_data"
    },
    {
     "data": {
      "application/vnd.jupyter.widget-view+json": {
       "model_id": "934ead8f58534bd7aa556b1e9a6f067a",
       "version_major": 2,
       "version_minor": 0
      },
      "text/plain": [
       "Training SVD:   0%|          | 0/50 [00:00<?, ?it/s]"
      ]
     },
     "metadata": {},
     "output_type": "display_data"
    },
    {
     "data": {
      "application/vnd.jupyter.widget-view+json": {
       "model_id": "056e8bccf814496aabef97263e136018",
       "version_major": 2,
       "version_minor": 0
      },
      "text/plain": [
       "Training SVD:   0%|          | 0/50 [00:00<?, ?it/s]"
      ]
     },
     "metadata": {},
     "output_type": "display_data"
    },
    {
     "data": {
      "application/vnd.jupyter.widget-view+json": {
       "model_id": "044e4177a6b54b2d8e343d31edf55ec3",
       "version_major": 2,
       "version_minor": 0
      },
      "text/plain": [
       "Training SVD:   0%|          | 0/50 [00:00<?, ?it/s]"
      ]
     },
     "metadata": {},
     "output_type": "display_data"
    },
    {
     "data": {
      "application/vnd.jupyter.widget-view+json": {
       "model_id": "9996b53f8be84e3eb23128c608fe30b9",
       "version_major": 2,
       "version_minor": 0
      },
      "text/plain": [
       "Training SVD:   0%|          | 0/100 [00:00<?, ?it/s]"
      ]
     },
     "metadata": {},
     "output_type": "display_data"
    },
    {
     "data": {
      "application/vnd.jupyter.widget-view+json": {
       "model_id": "4f3bd3e1236448bfbd293e20c5ef594a",
       "version_major": 2,
       "version_minor": 0
      },
      "text/plain": [
       "Training SVD:   0%|          | 0/100 [00:00<?, ?it/s]"
      ]
     },
     "metadata": {},
     "output_type": "display_data"
    },
    {
     "data": {
      "application/vnd.jupyter.widget-view+json": {
       "model_id": "08540a27a01e435a85dea6dfad2c9381",
       "version_major": 2,
       "version_minor": 0
      },
      "text/plain": [
       "Training SVD:   0%|          | 0/100 [00:00<?, ?it/s]"
      ]
     },
     "metadata": {},
     "output_type": "display_data"
    },
    {
     "data": {
      "application/vnd.jupyter.widget-view+json": {
       "model_id": "143d79749aca4811a12004b99b5abbf5",
       "version_major": 2,
       "version_minor": 0
      },
      "text/plain": [
       "Training SVD:   0%|          | 0/10 [00:00<?, ?it/s]"
      ]
     },
     "metadata": {},
     "output_type": "display_data"
    },
    {
     "data": {
      "application/vnd.jupyter.widget-view+json": {
       "model_id": "d2139ba7dadd4a9f9628fdae2bab3204",
       "version_major": 2,
       "version_minor": 0
      },
      "text/plain": [
       "Training SVD:   0%|          | 0/10 [00:00<?, ?it/s]"
      ]
     },
     "metadata": {},
     "output_type": "display_data"
    },
    {
     "data": {
      "application/vnd.jupyter.widget-view+json": {
       "model_id": "e9ad31054fa241888608b8372f146bcd",
       "version_major": 2,
       "version_minor": 0
      },
      "text/plain": [
       "Training SVD:   0%|          | 0/10 [00:00<?, ?it/s]"
      ]
     },
     "metadata": {},
     "output_type": "display_data"
    },
    {
     "data": {
      "application/vnd.jupyter.widget-view+json": {
       "model_id": "f361b403aebc4e7e8d01ec1a5ace8132",
       "version_major": 2,
       "version_minor": 0
      },
      "text/plain": [
       "Training SVD:   0%|          | 0/50 [00:00<?, ?it/s]"
      ]
     },
     "metadata": {},
     "output_type": "display_data"
    },
    {
     "data": {
      "application/vnd.jupyter.widget-view+json": {
       "model_id": "62ec90fcbe5949b6b66b7f25e303a9b4",
       "version_major": 2,
       "version_minor": 0
      },
      "text/plain": [
       "Training SVD:   0%|          | 0/50 [00:00<?, ?it/s]"
      ]
     },
     "metadata": {},
     "output_type": "display_data"
    },
    {
     "data": {
      "application/vnd.jupyter.widget-view+json": {
       "model_id": "c211499602804b08b5a012f77bfa7536",
       "version_major": 2,
       "version_minor": 0
      },
      "text/plain": [
       "Training SVD:   0%|          | 0/50 [00:00<?, ?it/s]"
      ]
     },
     "metadata": {},
     "output_type": "display_data"
    },
    {
     "data": {
      "application/vnd.jupyter.widget-view+json": {
       "model_id": "92b74bf5b33944728a30657c2a3b5547",
       "version_major": 2,
       "version_minor": 0
      },
      "text/plain": [
       "Training SVD:   0%|          | 0/100 [00:00<?, ?it/s]"
      ]
     },
     "metadata": {},
     "output_type": "display_data"
    },
    {
     "data": {
      "application/vnd.jupyter.widget-view+json": {
       "model_id": "3f625e72d0b54b2496758d3ec2700204",
       "version_major": 2,
       "version_minor": 0
      },
      "text/plain": [
       "Training SVD:   0%|          | 0/100 [00:00<?, ?it/s]"
      ]
     },
     "metadata": {},
     "output_type": "display_data"
    },
    {
     "data": {
      "application/vnd.jupyter.widget-view+json": {
       "model_id": "e5e792e3d3a84959b25ba806858f22f0",
       "version_major": 2,
       "version_minor": 0
      },
      "text/plain": [
       "Training SVD:   0%|          | 0/100 [00:00<?, ?it/s]"
      ]
     },
     "metadata": {},
     "output_type": "display_data"
    }
   ],
   "source": [
    "param_grid = {\n",
    "    'K': [2, 10, 50],\n",
    "    'iterations': [10, 50, 100],\n",
    "    'alpha': [0.001, 0.02, 0.2],\n",
    "    'beta': [0.02]\n",
    "}\n",
    "\n",
    "results = []\n",
    "\n",
    "for K in param_grid['K']:\n",
    "    for iterations in param_grid['iterations']:\n",
    "        for alpha in param_grid['alpha']:\n",
    "            for beta in param_grid['beta']:\n",
    "                # Запуск моделей\n",
    "                svd = SVD(R_train, K=K, iterations=iterations, alpha=alpha, beta=beta)\n",
    "                svd.train()\n",
    "                svd_rmse = calculate_rmse(R_test, svd)\n",
    "                svd_map_2 = mean_average_precision_at_k(svd, R_train, R_test, top_k=50, grade=2)\n",
    "                svd_map_1 = mean_average_precision_at_k(svd, R_train, R_test, top_k=50, grade=1)\n",
    "                results.append([K, iterations, alpha, beta, svd_rmse, svd_map_2, svd_map_1])"
   ]
  },
  {
   "cell_type": "code",
   "execution_count": 73,
   "metadata": {},
   "outputs": [
    {
     "name": "stdout",
     "output_type": "stream",
     "text": [
      "+----+-----+------------+---------+--------+------------+-------------+-------------+\n",
      "|    |   K |   Итерации |   Alpha |   Beta |   SVD RMSE |   SVD MAP 2 |   SVD MAP 1 |\n",
      "|----+-----+------------+---------+--------+------------+-------------+-------------|\n",
      "|  4 |   2 |         50 |   0.02  |   0.02 |   0.503334 |   0.126704  |   0.0730712 |\n",
      "| 12 |  10 |         50 |   0.001 |   0.02 |   0.46152  |   0.0682597 |   0.0460555 |\n",
      "| 18 |  50 |         10 |   0.001 |   0.02 |   0.485122 |   0.0529464 |   0.0420663 |\n",
      "| 15 |  10 |        100 |   0.001 |   0.02 |   0.436162 |   0.0519864 |   0.0379007 |\n",
      "| 21 |  50 |         50 |   0.001 |   0.02 |   0.456798 |   0.0506502 |   0.0404747 |\n",
      "|  0 |   2 |         10 |   0.001 |   0.02 |   0.665919 |   0.0481157 |   0.101338  |\n",
      "| 24 |  50 |        100 |   0.001 |   0.02 |   0.442905 |   0.0466611 |   0.0387294 |\n",
      "|  1 |   2 |         10 |   0.02  |   0.02 |   0.522874 |   0.0445338 |   0.0331465 |\n",
      "| 11 |  10 |         10 |   0.2   |   0.02 |   0.485662 |   0.0394295 |   0.0277122 |\n",
      "| 19 |  50 |         10 |   0.02  |   0.02 |   0.438529 |   0.0389509 |   0.0303729 |\n",
      "|  3 |   2 |         50 |   0.001 |   0.02 |   0.623279 |   0.0376282 |   0.0346114 |\n",
      "| 25 |  50 |        100 |   0.02  |   0.02 |   0.499714 |   0.0354643 |   0.0312555 |\n",
      "| 26 |  50 |        100 |   0.2   |   0.02 |   0.497192 |   0.035324  |   0.0296449 |\n",
      "| 10 |  10 |         10 |   0.02  |   0.02 |   0.444372 |   0.0339679 |   0.0295971 |\n",
      "| 22 |  50 |         50 |   0.02  |   0.02 |   0.476136 |   0.0338618 |   0.0280344 |\n",
      "|  9 |  10 |         10 |   0.001 |   0.02 |   0.482043 |   0.0326552 |   0.0259283 |\n",
      "|  7 |   2 |        100 |   0.02  |   0.02 |   0.614884 |   0.0314986 |   0.0366397 |\n",
      "|  2 |   2 |         10 |   0.2   |   0.02 |   0.506197 |   0.0305582 |   0.0295854 |\n",
      "| 13 |  10 |         50 |   0.02  |   0.02 |   0.472288 |   0.0298504 |   0.0254146 |\n",
      "| 20 |  50 |         10 |   0.2   |   0.02 |   0.497492 |   0.0292875 |   0.0247849 |\n",
      "|  6 |   2 |        100 |   0.001 |   0.02 |   0.566842 |   0.0290187 |   0.0237769 |\n",
      "| 16 |  10 |        100 |   0.02  |   0.02 |   0.496598 |   0.0287837 |   0.0495021 |\n",
      "| 14 |  10 |         50 |   0.2   |   0.02 |   0.484282 |   0.0281579 |   0.0243056 |\n",
      "| 23 |  50 |         50 |   0.2   |   0.02 |   0.498909 |   0.0270895 |   0.0234611 |\n",
      "|  5 |   2 |         50 |   0.2   |   0.02 |   0.590945 |   0.0218904 |   0.0268659 |\n",
      "| 17 |  10 |        100 |   0.2   |   0.02 |   0.492369 |   0.0203438 |   0.0171702 |\n",
      "|  8 |   2 |        100 |   0.2   |   0.02 |   0.644466 |   0.013221  |   0.0380458 |\n",
      "+----+-----+------------+---------+--------+------------+-------------+-------------+\n"
     ]
    }
   ],
   "source": [
    "df = pd.DataFrame(results, columns=['K', 'Итерации', 'Alpha', 'Beta', 'SVD RMSE', 'SVD MAP 2', 'SVD MAP 1']).sort_values(['SVD MAP 2', 'SVD MAP 1'], ascending=False)\n",
    "print(tabulate(df, headers='keys', tablefmt='psql'))"
   ]
  },
  {
   "cell_type": "markdown",
   "metadata": {},
   "source": [
    "### Выводы\n",
    "\n",
    "1. SVD работает.\n",
    "2. Предварительная фильтрация работает еще лучше. Также обучается быстрее, так как данных становится меньше.\n",
    "3. Контекстная рекомендация работает еще лучше, чем предварительная фильтрация.\n",
    "    * Требует меньше эпох дял обучения для более высокого качества, чем контекстная рекомендация.\n"
   ]
  }
 ],
 "metadata": {
  "kernelspec": {
   "display_name": ".venv",
   "language": "python",
   "name": "python3"
  },
  "language_info": {
   "codemirror_mode": {
    "name": "ipython",
    "version": 3
   },
   "file_extension": ".py",
   "mimetype": "text/x-python",
   "name": "python",
   "nbconvert_exporter": "python",
   "pygments_lexer": "ipython3",
   "version": "3.10.11"
  }
 },
 "nbformat": 4,
 "nbformat_minor": 2
}
