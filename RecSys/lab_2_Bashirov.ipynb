{
 "cells": [
  {
   "cell_type": "code",
   "execution_count": 1,
   "metadata": {},
   "outputs": [],
   "source": [
    "import pandas as pd\n",
    "import numpy as np\n",
    "from sklearn.model_selection import train_test_split\n",
    "from sklearn.metrics import mean_squared_error\n",
    "from sklearn.metrics.pairwise import cosine_similarity\n",
    "from sklearn.cluster import KMeans\n",
    "from sklearn.neighbors import NearestNeighbors\n",
    "\n",
    "import time\n",
    "import logging\n",
    "logging.basicConfig(level=logging.INFO)\n",
    "logger = logging.getLogger(__name__)"
   ]
  },
  {
   "cell_type": "code",
   "execution_count": 2,
   "metadata": {},
   "outputs": [],
   "source": [
    "def create_cf_matrix(train, cf_type='user'):\n",
    "\n",
    "    \"\"\"\n",
    "    Создает матрицу для коллаборативной фильтрации.\n",
    "    \n",
    "    Параметры:\n",
    "    - train: DataFrame с обучающими данными.\n",
    "    - cf_type: 'user' для пользователь-фильм матрицы или 'item' для фильм-пользователь матрицы.\n",
    "    \n",
    "    Возвращает:\n",
    "    - Матрица для коллаборативной фильтрации.\n",
    "    \"\"\"\n",
    "    if cf_type == 'user':\n",
    "        # Матрица пользователь-фильм\n",
    "        return train.pivot(index='userId', columns='movieId', values='rating')\n",
    "    elif cf_type == 'item':\n",
    "        # Матрица фильм-пользователь\n",
    "        return train.pivot(index='movieId', columns='userId', values='rating')\n",
    "    else:\n",
    "        raise ValueError(\"cf_type должен быть 'user' или 'item'\")\n",
    "    \n",
    "# Функция для замера времени\n",
    "def time_function(func, *args, **kwargs):\n",
    "    start_time = time.time()\n",
    "    result = func(*args, **kwargs)\n",
    "    elapsed_time = time.time() - start_time\n",
    "    return result, elapsed_time\n",
    "\n",
    "# Оформление результата\n",
    "def create_results_dataframe(results):\n",
    "    \"\"\"\n",
    "    Создает pandas DataFrame из словаря результатов.\n",
    "    \n",
    "    :param results: Словарь с названиями методов в качестве ключей и RMSE в качестве значений\n",
    "    :return: pandas DataFrame с результатами\n",
    "    \"\"\"\n",
    "    df = pd.DataFrame(results).T\n",
    "    df.columns = ['RMSE', 'Время (с)']\n",
    "    df.index.name = 'Метод'\n",
    "    return df\n",
    "\n",
    "# Загрузка и разделение данных\n",
    "def load_and_split_data(file_path, test_size=0.3, random_state=42):\n",
    "    df = pd.read_csv(file_path)\n",
    "    train, test = train_test_split(df, test_size=test_size, random_state=random_state)\n",
    "    return train, test"
   ]
  },
  {
   "cell_type": "code",
   "execution_count": 3,
   "metadata": {},
   "outputs": [],
   "source": [
    "def svd():\n",
    "    pass"
   ]
  },
  {
   "cell_type": "code",
   "execution_count": 4,
   "metadata": {},
   "outputs": [],
   "source": [
    "def svd_p():\n",
    "    pass"
   ]
  },
  {
   "cell_type": "code",
   "execution_count": 30,
   "metadata": {},
   "outputs": [],
   "source": [
    "import numpy as np\n",
    "import pandas as pd\n",
    "from tqdm import tqdm\n",
    "from sklearn.model_selection import train_test_split\n",
    "\n",
    "# Загрузка данных\n",
    "df = pd.read_csv('data/ml-latest-small/ratings.csv')\n",
    "n_users = df['userId'].nunique()\n",
    "n_items = df['movieId'].nunique()\n",
    "\n",
    "# Создание индексов для пользователей и фильмов\n",
    "user_ids = df['userId'].astype('category').cat.codes.values\n",
    "item_ids = df['movieId'].astype('category').cat.codes.values\n",
    "\n",
    "df['user_idx'] = user_ids\n",
    "df['item_idx'] = item_ids\n",
    "\n",
    "# Разделение данных на тренировочные и тестовые наборы\n",
    "train_df, test_df = train_test_split(df, test_size=0.3, random_state=42)"
   ]
  },
  {
   "cell_type": "code",
   "execution_count": 19,
   "metadata": {},
   "outputs": [],
   "source": [
    "# Матрица рейтингов\n",
    "def create_matrix(df, n_users, n_items):\n",
    "    matrix = np.zeros((n_users, n_items))\n",
    "    for row in df.itertuples():\n",
    "        matrix[row.user_idx, row.item_idx] = row.rating\n",
    "    return matrix\n",
    "\n",
    "R_train = create_matrix(train_df, n_users, n_items)\n",
    "R_test = create_matrix(test_df, n_users, n_items)"
   ]
  },
  {
   "cell_type": "code",
   "execution_count": 37,
   "metadata": {},
   "outputs": [],
   "source": [
    "# Реализация SVD с градиентным спуском\n",
    "class SVD:\n",
    "    def __init__(self, R, K=20, alpha=0.002, beta=0.02, iterations=100):\n",
    "        self.R = R\n",
    "        self.num_users, self.num_items = R.shape\n",
    "        self.K = K\n",
    "        self.alpha = alpha  # Скорость обучения\n",
    "        self.beta = beta  # Регуляризация\n",
    "        self.iterations = iterations\n",
    "\n",
    "    def train(self):\n",
    "        self.P = np.random.normal(scale=1./self.K, size=(self.num_users, self.K))\n",
    "        self.Q = np.random.normal(scale=1./self.K, size=(self.num_items, self.K))\n",
    "\n",
    "        self.b_u = np.zeros(self.num_users)\n",
    "        self.b_i = np.zeros(self.num_items)\n",
    "        self.b = np.mean(self.R[self.R > 0])\n",
    "\n",
    "        self.samples = [\n",
    "            (i, j, self.R[i, j])\n",
    "            for i in range(self.num_users)\n",
    "            for j in range(self.num_items)\n",
    "            if self.R[i, j] > 0\n",
    "        ]\n",
    "\n",
    "        progress_bar = tqdm(total=self.iterations, desc=\"Training Progress\")\n",
    "        for iteration in range(self.iterations):\n",
    "            np.random.shuffle(self.samples)\n",
    "            self.sgd()\n",
    "            rmse = self.rmse()\n",
    "            progress_bar.set_postfix({'RMSE': f\"{rmse:.4f}\"})\n",
    "            progress_bar.update(1)\n",
    "        progress_bar.close()\n",
    "\n",
    "    def sgd(self):\n",
    "        for i, j, r in self.samples:\n",
    "            prediction = self.predict(i, j)\n",
    "            error = r - prediction\n",
    "\n",
    "            # Обновление биасов\n",
    "            self.b_u[i] += self.alpha * (error - self.beta * self.b_u[i])\n",
    "            self.b_i[j] += self.alpha * (error - self.beta * self.b_i[j])\n",
    "\n",
    "            # Обновление скрытых факторов\n",
    "            self.P[i, :] += self.alpha * (error * self.Q[j, :] - self.beta * self.P[i, :])\n",
    "            self.Q[j, :] += self.alpha * (error * self.P[i, :] - self.beta * self.Q[j, :])\n",
    "\n",
    "    def predict(self, i, j):\n",
    "        return self.b + self.b_u[i] + self.b_i[j] + self.P[i, :].dot(self.Q[j, :].T)\n",
    "\n",
    "    def rmse(self):\n",
    "        xs, ys = self.R.nonzero()\n",
    "        predicted = []\n",
    "        actual = []\n",
    "        for x, y in zip(xs, ys):\n",
    "            predicted.append(self.predict(x, y))\n",
    "            actual.append(self.R[x, y])\n",
    "        return np.sqrt(np.mean((np.array(predicted) - np.array(actual)) ** 2))\n",
    "\n",
    "    def predict(self, i, j):\n",
    "        return self.b + self.b_u[i] + self.b_i[j] + self.P[i, :].dot(self.Q[j, :].T)\n",
    "\n",
    "    def rmse(self):\n",
    "        xs, ys = self.R.nonzero()\n",
    "        predicted = []\n",
    "        actual = []\n",
    "        for x, y in zip(xs, ys):\n",
    "            predicted.append(self.predict(x, y))\n",
    "            actual.append(self.R[x, y])\n",
    "        return np.sqrt(np.mean((np.array(predicted) - np.array(actual)) ** 2))"
   ]
  },
  {
   "cell_type": "code",
   "execution_count": 38,
   "metadata": {},
   "outputs": [
    {
     "name": "stderr",
     "output_type": "stream",
     "text": [
      "Training Progress: 100%|██████████| 50/50 [01:05<00:00,  1.31s/it, RMSE=0.8091]\n"
     ]
    }
   ],
   "source": [
    "# Запуск модели\n",
    "svd = SVD(R_train, K=20, iterations=50, alpha=0.002, beta=0.02)\n",
    "svd.train()"
   ]
  },
  {
   "cell_type": "code",
   "execution_count": 39,
   "metadata": {},
   "outputs": [],
   "source": [
    "# Функция для расчета RMSE на тестовом наборе\n",
    "def calculate_rmse(R_test, svd):\n",
    "    xs, ys = R_test.nonzero()\n",
    "    predicted = []\n",
    "    actual = []\n",
    "    progress_bar = tqdm(total=len(xs), desc=\"Calculating RMSE\")\n",
    "    for x, y in zip(xs, ys):\n",
    "        predicted.append(svd.predict(x, y))\n",
    "        actual.append(R_test[x, y])\n",
    "        progress_bar.update(1)\n",
    "    progress_bar.close()\n",
    "    return np.sqrt(np.mean((np.array(predicted) - np.array(actual)) ** 2))"
   ]
  },
  {
   "cell_type": "code",
   "execution_count": 40,
   "metadata": {},
   "outputs": [
    {
     "name": "stderr",
     "output_type": "stream",
     "text": [
      "Calculating RMSE: 100%|██████████| 30251/30251 [00:00<00:00, 205793.02it/s]"
     ]
    },
    {
     "name": "stdout",
     "output_type": "stream",
     "text": [
      "Test RMSE: 0.8761\n"
     ]
    },
    {
     "name": "stderr",
     "output_type": "stream",
     "text": [
      "\n"
     ]
    }
   ],
   "source": [
    "rmse_test = calculate_rmse(R_test, svd)\n",
    "print(f\"Test RMSE: {rmse_test:.4f}\")"
   ]
  },
  {
   "cell_type": "code",
   "execution_count": 41,
   "metadata": {},
   "outputs": [
    {
     "name": "stderr",
     "output_type": "stream",
     "text": [
      "Calculating MAP@50: 100%|██████████| 610/610 [00:13<00:00, 44.40it/s]"
     ]
    },
    {
     "name": "stdout",
     "output_type": "stream",
     "text": [
      "MAP@50: 0.0197\n"
     ]
    },
    {
     "name": "stderr",
     "output_type": "stream",
     "text": [
      "\n"
     ]
    }
   ],
   "source": [
    "# Функция для расчета MAP@50\n",
    "def calculate_map_k(R_test, svd, k=50):\n",
    "    map_total = 0\n",
    "    num_users = R_test.shape[0]\n",
    "\n",
    "    progress_bar = tqdm(total=num_users, desc=\"Calculating MAP@50\")\n",
    "    for user in range(num_users):\n",
    "        relevant_items = np.where(R_test[user, :] > 0)[0]\n",
    "        if len(relevant_items) == 0:\n",
    "            progress_bar.update(1)\n",
    "            continue\n",
    "\n",
    "        # Предсказания для всех фильмов\n",
    "        predictions = [svd.predict(user, item) for item in range(R_test.shape[1])]\n",
    "        top_k_items = np.argsort(predictions)[::-1][:k]\n",
    "\n",
    "        # Вычисляем точность\n",
    "        num_relevant = 0\n",
    "        avg_precision = 0\n",
    "        for i, item in enumerate(top_k_items):\n",
    "            if item in relevant_items:\n",
    "                num_relevant += 1\n",
    "                avg_precision += num_relevant / (i + 1)\n",
    "\n",
    "        if num_relevant > 0:\n",
    "            map_total += avg_precision / min(len(relevant_items), k)\n",
    "\n",
    "        progress_bar.update(1)\n",
    "    \n",
    "    progress_bar.close()\n",
    "    return map_total / num_users\n",
    "\n",
    "map_50 = calculate_map_k(R_test, svd, k=50)\n",
    "print(f\"MAP@50: {map_50:.4f}\")"
   ]
  }
 ],
 "metadata": {
  "kernelspec": {
   "display_name": ".venv",
   "language": "python",
   "name": "python3"
  },
  "language_info": {
   "codemirror_mode": {
    "name": "ipython",
    "version": 3
   },
   "file_extension": ".py",
   "mimetype": "text/x-python",
   "name": "python",
   "nbconvert_exporter": "python",
   "pygments_lexer": "ipython3",
   "version": "3.10.9"
  }
 },
 "nbformat": 4,
 "nbformat_minor": 2
}
