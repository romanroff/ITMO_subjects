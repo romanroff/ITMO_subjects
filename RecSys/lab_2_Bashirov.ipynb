{
 "cells": [
  {
   "cell_type": "markdown",
   "metadata": {},
   "source": [
    "### Функция ошибки (с регуляризацией)\n",
    "\n",
    "Основная функция ошибки для одного элемента матрицы взаимодействий $ A_{ij} $:\n",
    "$$\n",
    "E_{ij} = (A_{ij} - U_i^T V_j)^2 + \\lambda (||U_i||^2 + ||V_j||^2)\n",
    "$$\n",
    "Здесь:\n",
    "- $ A_{ij} $ — фактическое взаимодействие (например, рейтинг).\n",
    "- $ U_i $ и $ V_j $ — вектора скрытых факторов для пользователя $ i $ и товара $ j $, соответственно.\n",
    "- $ U_i^T V_j $ — предсказанное взаимодействие.\n",
    "- $ \\lambda $ — коэффициент регуляризации для предотвращения переобучения.\n",
    "\n",
    "### Вычисление градиента для каждого параметра\n",
    "\n",
    "1. **Градиент по $ U_i $**\n",
    "\n",
    "   Нам нужно минимизировать функцию ошибки $ E_{ij} $, изменяя $ U_i $. Для этого вычисляется частная производная ошибки по каждому элементу вектора $ U_i $:\n",
    "\n",
    "   $$\n",
    "   \\frac{\\partial E_{ij}}{\\partial U_i} = -2 (A_{ij} - U_i^T V_j) V_j + 2 \\lambda U_i\n",
    "   $$\n",
    "   - $ -2 (A_{ij} - U_i^T V_j) V_j $ — это градиент без регуляризации, который корректирует вектор $ U_i $ на основе ошибки предсказания.\n",
    "   - $ 2 \\lambda U_i $ — регуляризация, которая уменьшает значения элементов $ U_i $, чтобы избежать переобучения.\n",
    "\n",
    "   Итоговое обновление $ U_i $ с использованием градиентного спуска:\n",
    "   $$\n",
    "   U_i \\gets U_i + \\alpha \\left( (A_{ij} - U_i^T V_j) V_j - \\lambda U_i \\right)\n",
    "   $$\n",
    "   Здесь $ \\alpha $ — скорость обучения (learning rate).\n",
    "\n",
    "   **Аналогично, градиент по $ V_j $:**\n",
    "   $$\n",
    "   V_j \\gets V_j + \\alpha \\left( (A_{ij} - U_i^T V_j) U_i - \\lambda V_j \\right)\n",
    "   $$"
   ]
  },
  {
   "cell_type": "code",
   "execution_count": 138,
   "metadata": {},
   "outputs": [],
   "source": [
    "import numpy as np\n",
    "import pandas as pd\n",
    "from sklearn.model_selection import train_test_split\n",
    "\n",
    "from tqdm import tqdm\n",
    "import logging\n",
    "logging.basicConfig(level=logging.INFO)\n",
    "logger = logging.getLogger(__name__)"
   ]
  },
  {
   "cell_type": "code",
   "execution_count": 133,
   "metadata": {},
   "outputs": [],
   "source": [
    "# Загрузка и разделение данных\n",
    "def load_and_split_data(file_path, test_size=0.3, random_state=42):\n",
    "    df = pd.read_csv(file_path)\n",
    "    train, test = train_test_split(df, test_size=test_size, random_state=random_state)\n",
    "    return train, test\n",
    "\n",
    "def create_cf_matrix(train, cf_type='user'):\n",
    "    if cf_type == 'user':\n",
    "        # Матрица пользователь-фильм\n",
    "        return train.pivot(index='userId', columns='movieId', values='rating').fillna(0).to_numpy()\n",
    "    elif cf_type == 'item':\n",
    "        # Матрица фильм-пользователь\n",
    "        return train.pivot(index='movieId', columns='userId', values='rating').fillna(0).to_numpy()\n",
    "    else:\n",
    "        raise ValueError(\"cf_type должен быть 'user' или 'item'\")"
   ]
  },
  {
   "cell_type": "code",
   "execution_count": 145,
   "metadata": {},
   "outputs": [],
   "source": [
    "# Загрузка данных\n",
    "df = pd.read_csv('data/ml-latest-small/ratings.csv')\n",
    "n_users = df['userId'].nunique()\n",
    "n_items = df['movieId'].nunique()\n",
    "\n",
    "# Создание индексов для пользователей и фильмов\n",
    "user_ids = df['userId'].astype('category').cat.codes.values\n",
    "item_ids = df['movieId'].astype('category').cat.codes.values\n",
    "\n",
    "df['user_idx'] = user_ids\n",
    "df['item_idx'] = item_ids\n",
    "\n",
    "# Разделение данных на тренировочные и тестовые наборы\n",
    "train_df, test_df = train_test_split(df, test_size=0.3, random_state=42)\n",
    "\n",
    "# Матрица рейтингов\n",
    "def create_matrix(df, n_users, n_items):\n",
    "    matrix = np.zeros((n_users, n_items))\n",
    "    for row in df.itertuples():\n",
    "        matrix[row.user_idx, row.item_idx] = row.rating\n",
    "    return matrix\n",
    "\n",
    "A_train = create_matrix(train_df, n_users, n_items)\n",
    "A_test = create_matrix(test_df, n_users, n_items)\n",
    "assert A_train.shape == A_test.shape"
   ]
  },
  {
   "cell_type": "code",
   "execution_count": 146,
   "metadata": {},
   "outputs": [
    {
     "name": "stderr",
     "output_type": "stream",
     "text": [
      "Epochs:   1%|▏         | 14/1000 [01:58<2:19:32,  8.49s/it, Loss=4.82e+4]\n"
     ]
    },
    {
     "ename": "KeyboardInterrupt",
     "evalue": "",
     "output_type": "error",
     "traceback": [
      "\u001b[1;31m---------------------------------------------------------------------------\u001b[0m",
      "\u001b[1;31mKeyboardInterrupt\u001b[0m                         Traceback (most recent call last)",
      "Cell \u001b[1;32mIn[146], line 27\u001b[0m\n\u001b[0;32m     24\u001b[0m \u001b[38;5;28;01mfor\u001b[39;00m j \u001b[38;5;129;01min\u001b[39;00m \u001b[38;5;28mrange\u001b[39m(num_items):\n\u001b[0;32m     25\u001b[0m     \u001b[38;5;28;01mif\u001b[39;00m A_train[i, j] \u001b[38;5;241m>\u001b[39m \u001b[38;5;241m0\u001b[39m:  \u001b[38;5;66;03m# Обновляем только ненулевые элементы\u001b[39;00m\n\u001b[0;32m     26\u001b[0m         \u001b[38;5;66;03m# Вычисляем ошибку предсказания: e_ij = A_ij - U_i^T V_j\u001b[39;00m\n\u001b[1;32m---> 27\u001b[0m         e_ij \u001b[38;5;241m=\u001b[39m A_train[i, j] \u001b[38;5;241m-\u001b[39m \u001b[43mnp\u001b[49m\u001b[38;5;241;43m.\u001b[39;49m\u001b[43mdot\u001b[49m\u001b[43m(\u001b[49m\u001b[43mU\u001b[49m\u001b[43m[\u001b[49m\u001b[43mi\u001b[49m\u001b[43m,\u001b[49m\u001b[43m \u001b[49m\u001b[43m:\u001b[49m\u001b[43m]\u001b[49m\u001b[43m,\u001b[49m\u001b[43m \u001b[49m\u001b[43mV\u001b[49m\u001b[43m[\u001b[49m\u001b[43mj\u001b[49m\u001b[43m,\u001b[49m\u001b[43m \u001b[49m\u001b[43m:\u001b[49m\u001b[43m]\u001b[49m\u001b[43m)\u001b[49m\n\u001b[0;32m     29\u001b[0m         \u001b[38;5;66;03m# Градиент для U_i: U_i = U_i + alpha * (e_ij * V_j - lambda * U_i)\u001b[39;00m\n\u001b[0;32m     30\u001b[0m         U[i, :] \u001b[38;5;241m+\u001b[39m\u001b[38;5;241m=\u001b[39m learning_rate \u001b[38;5;241m*\u001b[39m (e_ij \u001b[38;5;241m*\u001b[39m V[j, :] \u001b[38;5;241m-\u001b[39m reg_param \u001b[38;5;241m*\u001b[39m U[i, :])\n",
      "\u001b[1;31mKeyboardInterrupt\u001b[0m: "
     ]
    }
   ],
   "source": [
    "# Гиперпараметры\n",
    "num_users, num_items = A_train.shape\n",
    "latent_dim = 2  # Количество скрытых факторов\n",
    "learning_rate = 0.01\n",
    "reg_param = 0.1  # Параметр регуляризации\n",
    "epochs = 1000\n",
    "\n",
    "# Инициализация матриц скрытых факторов для пользователей и товаров\n",
    "U = np.random.normal(scale=1./latent_dim, size=(num_users, latent_dim))\n",
    "V = np.random.normal(scale=1./latent_dim, size=(num_items, latent_dim))\n",
    "\n",
    "# Функция потерь (MSE + регуляризация)\n",
    "def loss(A, U, V, reg_param):\n",
    "    predicted = U.dot(V.T)\n",
    "    mask = A > 0\n",
    "    error = (A[mask] - predicted[mask])**2\n",
    "    return np.sum(error) + reg_param * (np.sum(U**2) + np.sum(V**2))\n",
    "\n",
    "# Градиентный спуск\n",
    "with tqdm(total=epochs, desc=\"Epochs\") as epoch_bar:\n",
    "    for epoch in range(epochs):\n",
    "        with tqdm(total=num_users*num_items, desc=f\"Epoch {epoch+1}\", leave=False) as step_bar:\n",
    "            for i in range(num_users):\n",
    "                for j in range(num_items):\n",
    "                    if A_train[i, j] > 0:  # Обновляем только ненулевые элементы\n",
    "                        # Вычисляем ошибку предсказания: e_ij = A_ij - U_i^T V_j\n",
    "                        e_ij = A_train[i, j] - np.dot(U[i, :], V[j, :])\n",
    "\n",
    "                        # Градиент для U_i: U_i = U_i + alpha * (e_ij * V_j - lambda * U_i)\n",
    "                        U[i, :] += learning_rate * (e_ij * V[j, :] - reg_param * U[i, :])\n",
    "\n",
    "                        # Градиент для V_j: V_j = V_j + alpha * (e_ij * U_i - lambda * V_j)\n",
    "                        V[j, :] += learning_rate * (e_ij * U[i, :] - reg_param * V[j, :])\n",
    "                    \n",
    "                    # Обновляем прогресс-бар для каждого шага\n",
    "                    step_bar.update(1)\n",
    "\n",
    "            # Вычисляем ошибку после каждой эпохи\n",
    "            current_loss = loss(A_test, U, V, reg_param)\n",
    "            epoch_bar.set_postfix(Loss=current_loss)\n",
    "\n",
    "        # Обновляем прогресс-бар для эпох\n",
    "        epoch_bar.update(1)"
   ]
  },
  {
   "cell_type": "code",
   "execution_count": 147,
   "metadata": {},
   "outputs": [
    {
     "name": "stderr",
     "output_type": "stream",
     "text": [
      "Training Progress: 100%|██████████| 15/15 [00:29<00:00,  1.95s/it, RMSE=0.8963]\n",
      "Calculating RMSE: 100%|██████████| 30251/30251 [00:00<00:00, 189040.20it/s]"
     ]
    },
    {
     "name": "stdout",
     "output_type": "stream",
     "text": [
      "Test RMSE: 0.9227\n"
     ]
    },
    {
     "name": "stderr",
     "output_type": "stream",
     "text": [
      "\n"
     ]
    }
   ],
   "source": [
    "import numpy as np\n",
    "import pandas as pd\n",
    "from sklearn.model_selection import train_test_split\n",
    "from tqdm import tqdm\n",
    "\n",
    "# Загрузка данных\n",
    "df = pd.read_csv('data/ml-latest-small/ratings.csv')\n",
    "n_users = df['userId'].nunique()\n",
    "n_items = df['movieId'].nunique()\n",
    "\n",
    "# Создание индексов для пользователей и фильмов\n",
    "user_ids = df['userId'].astype('category').cat.codes.values\n",
    "item_ids = df['movieId'].astype('category').cat.codes.values\n",
    "\n",
    "df['user_idx'] = user_ids\n",
    "df['item_idx'] = item_ids\n",
    "\n",
    "# Разделение данных на тренировочные и тестовые наборы\n",
    "train_df, test_df = train_test_split(df, test_size=0.3, random_state=42)\n",
    "\n",
    "# Матрица рейтингов\n",
    "def create_matrix(df, n_users, n_items):\n",
    "    matrix = np.zeros((n_users, n_items))\n",
    "    for row in df.itertuples():\n",
    "        matrix[row.user_idx, row.item_idx] = row.rating\n",
    "    return matrix\n",
    "\n",
    "R_train = create_matrix(train_df, n_users, n_items)\n",
    "R_test = create_matrix(test_df, n_users, n_items)\n",
    "\n",
    "# Реализация SVD с градиентным спуском\n",
    "class SVD:\n",
    "    def __init__(self, R, K=20, alpha=0.002, beta=0.02, iterations=100):\n",
    "        self.R = R\n",
    "        self.num_users, self.num_items = R.shape\n",
    "        self.K = K\n",
    "        self.alpha = alpha  # Скорость обучения\n",
    "        self.beta = beta  # Регуляризация\n",
    "        self.iterations = iterations\n",
    "\n",
    "    def train(self):\n",
    "        self.P = np.random.normal(scale=1./self.K, size=(self.num_users, self.K))\n",
    "        self.Q = np.random.normal(scale=1./self.K, size=(self.num_items, self.K))\n",
    "\n",
    "        self.b_u = np.zeros(self.num_users)\n",
    "        self.b_i = np.zeros(self.num_items)\n",
    "        self.b = np.mean(self.R[self.R > 0])\n",
    "\n",
    "        self.samples = [\n",
    "            (i, j, self.R[i, j])\n",
    "            for i in range(self.num_users)\n",
    "            for j in range(self.num_items)\n",
    "            if self.R[i, j] > 0\n",
    "        ]\n",
    "\n",
    "        progress_bar = tqdm(total=self.iterations, desc=\"Training Progress\")\n",
    "        for iteration in range(self.iterations):\n",
    "            np.random.shuffle(self.samples)\n",
    "            self.sgd()\n",
    "            rmse = self.rmse()\n",
    "            progress_bar.set_postfix({'RMSE': f\"{rmse:.4f}\"})\n",
    "            progress_bar.update(1)\n",
    "        progress_bar.close()\n",
    "\n",
    "    def sgd(self):\n",
    "        for i, j, r in self.samples:\n",
    "            prediction = self.predict(i, j)\n",
    "            error = r - prediction\n",
    "\n",
    "            # Обновление биасов\n",
    "            self.b_u[i] += self.alpha * (error - self.beta * self.b_u[i])\n",
    "            self.b_i[j] += self.alpha * (error - self.beta * self.b_i[j])\n",
    "\n",
    "            # Обновление скрытых факторов\n",
    "            self.P[i, :] += self.alpha * (error * self.Q[j, :] - self.beta * self.P[i, :])\n",
    "            self.Q[j, :] += self.alpha * (error * self.P[i, :] - self.beta * self.Q[j, :])\n",
    "\n",
    "    def predict(self, i, j):\n",
    "        return self.b + self.b_u[i] + self.b_i[j] + self.P[i, :].dot(self.Q[j, :].T)\n",
    "\n",
    "    def rmse(self):\n",
    "        xs, ys = self.R.nonzero()\n",
    "        predicted = []\n",
    "        actual = []\n",
    "        for x, y in zip(xs, ys):\n",
    "            predicted.append(self.predict(x, y))\n",
    "            actual.append(self.R[x, y])\n",
    "        return np.sqrt(np.mean((np.array(predicted) - np.array(actual)) ** 2))\n",
    "\n",
    "# Запуск модели\n",
    "svd = SVD(R_train, K=2, iterations=15, alpha=0.001, beta=0.1)\n",
    "svd.train()\n",
    "\n",
    "# Функция для расчета RMSE на тестовом наборе\n",
    "def calculate_rmse(R_test, svd):\n",
    "    xs, ys = R_test.nonzero()\n",
    "    predicted = []\n",
    "    actual = []\n",
    "    progress_bar = tqdm(total=len(xs), desc=\"Calculating RMSE\")\n",
    "    for x, y in zip(xs, ys):\n",
    "        predicted.append(svd.predict(x, y))\n",
    "        actual.append(R_test[x, y])\n",
    "        progress_bar.update(1)\n",
    "    progress_bar.close()\n",
    "    return np.sqrt(np.mean((np.array(predicted) - np.array(actual)) ** 2))\n",
    "\n",
    "rmse_test = calculate_rmse(R_test, svd)\n",
    "print(f\"Test RMSE: {rmse_test:.4f}\")"
   ]
  },
  {
   "cell_type": "code",
   "execution_count": 143,
   "metadata": {},
   "outputs": [
    {
     "data": {
      "text/plain": [
       "((610, 8566), (610, 6124))"
      ]
     },
     "execution_count": 143,
     "metadata": {},
     "output_type": "execute_result"
    }
   ],
   "source": [
    "A_train.shape, A_test.shape"
   ]
  }
 ],
 "metadata": {
  "kernelspec": {
   "display_name": ".venv",
   "language": "python",
   "name": "python3"
  },
  "language_info": {
   "codemirror_mode": {
    "name": "ipython",
    "version": 3
   },
   "file_extension": ".py",
   "mimetype": "text/x-python",
   "name": "python",
   "nbconvert_exporter": "python",
   "pygments_lexer": "ipython3",
   "version": "3.10.11"
  }
 },
 "nbformat": 4,
 "nbformat_minor": 2
}
