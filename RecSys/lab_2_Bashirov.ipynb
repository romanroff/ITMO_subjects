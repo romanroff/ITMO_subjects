{
 "cells": [
  {
   "cell_type": "code",
   "execution_count": 1,
   "metadata": {},
   "outputs": [],
   "source": [
    "import numpy as np\n",
    "import pandas as pd\n",
    "from sklearn.model_selection import train_test_split\n",
    "\n",
    "import time\n",
    "import matplotlib.pyplot as plt\n",
    "from tabulate import tabulate\n",
    "from tqdm.notebook import tqdm"
   ]
  },
  {
   "cell_type": "code",
   "execution_count": 2,
   "metadata": {},
   "outputs": [],
   "source": [
    "# Загрузка данных\n",
    "df = pd.read_csv('data/ml-latest-small/ratings.csv')\n",
    "n_users = df['userId'].nunique()\n",
    "n_items = df['movieId'].nunique()\n",
    "\n",
    "# Создание индексов для пользователей и фильмов\n",
    "user_ids = df['userId'].astype('category').cat.codes.values\n",
    "item_ids = df['movieId'].astype('category').cat.codes.values\n",
    "\n",
    "df['user_idx'] = user_ids\n",
    "df['item_idx'] = item_ids\n",
    "\n",
    "# Разделение данных на тренировочные и тестовые наборы\n",
    "train_df, test_df = train_test_split(df, test_size=0.3, random_state=42)\n",
    "\n",
    "# Матрица рейтингов\n",
    "def create_matrix(df, n_users, n_items):\n",
    "    matrix = np.zeros((n_users, n_items))\n",
    "    for row in df.itertuples():\n",
    "        matrix[row.user_idx, row.item_idx] = row.rating\n",
    "    return matrix\n",
    "\n",
    "R_train = create_matrix(train_df, n_users, n_items)\n",
    "R_test = create_matrix(test_df, n_users, n_items)"
   ]
  },
  {
   "cell_type": "code",
   "execution_count": 3,
   "metadata": {},
   "outputs": [],
   "source": [
    "# Функция для расчета RMSE\n",
    "def calculate_rmse(R_test, model):\n",
    "    xs, ys = R_test.nonzero()\n",
    "    predicted = []\n",
    "    actual = []\n",
    "    # progress_bar = tqdm(total=len(xs), desc=\"Calculating RMSE\")\n",
    "    for x, y in zip(xs, ys):\n",
    "        predicted.append(model.predict(x, y))\n",
    "        actual.append(R_test[x, y])\n",
    "        # progress_bar.update(1)\n",
    "    # progress_bar.close()\n",
    "    return np.sqrt(np.mean((np.array(predicted) - np.array(actual)) ** 2))\n",
    "\n",
    "# Функция для расчета precision@k\n",
    "def precision_at_k(recommended_items, relevant_items, k):\n",
    "    recommended_k = recommended_items[:k]\n",
    "    hits = len(set(recommended_k) & set(relevant_items))\n",
    "    return hits / k\n",
    "\n",
    "# Функция для расчета Average Precision (AP) для одного пользователя\n",
    "def average_precision_at_k(recommended_items, relevant_items, k):\n",
    "    # Проверяем, есть ли релевантные элементы\n",
    "    if len(relevant_items) == 0:\n",
    "        return 0.0\n",
    "    \n",
    "    score = 0.0\n",
    "    num_hits = 0.0\n",
    "    for i in range(1, k+1):\n",
    "        if recommended_items[i-1] in relevant_items:\n",
    "            num_hits += 1.0\n",
    "            score += num_hits / i\n",
    "    return score / min(len(relevant_items), k)\n",
    "\n",
    "\n",
    "def mean_average_precision_at_k(model, R_train, R_test, top_k=50, grade=5):\n",
    "    aps = []\n",
    "    num_users = R_test.shape[0]\n",
    "    for user in range(num_users):\n",
    "        # Получаем релевантные айтемы из тестового набора (например, рейтинги >= 4)\n",
    "        relevant_items = np.where(R_test[user, :] >= grade)[0]\n",
    "        if len(relevant_items) == 0:\n",
    "            continue  # Пропускаем пользователей без релевантных айтемов в тесте\n",
    "\n",
    "        # Получаем предсказанные рейтинги для всех айтемов\n",
    "        scores = model.predict(user, np.arange(model.num_items))\n",
    "        \n",
    "        # Убираем индексы из тренировочного набора данных\n",
    "        train_items = np.where(R_train[user, :] > 0)[0]\n",
    "        scores[train_items] = -np.inf  # Присваиваем им минимально возможное значение\n",
    "        \n",
    "        # Сортируем айтемы по убыванию предсказанных рейтингов\n",
    "        recommended_items = np.argsort(-scores)\n",
    "\n",
    "        # Вычисляем Average Precision для текущего пользователя\n",
    "        ap = average_precision_at_k(recommended_items, relevant_items, top_k)\n",
    "        aps.append(ap)\n",
    "\n",
    "    return np.mean(aps)"
   ]
  },
  {
   "cell_type": "code",
   "execution_count": 4,
   "metadata": {},
   "outputs": [],
   "source": [
    "class SVD:\n",
    "    def __init__(self, R, K=20, alpha=0.002, beta=0.02, iterations=100):\n",
    "        self.R = R\n",
    "        self.num_users, self.num_items = R.shape\n",
    "        self.K = K\n",
    "        self.alpha = alpha  # Скорость обучения\n",
    "        self.beta = beta  # Регуляризация\n",
    "        self.iterations = iterations\n",
    "        self.rmse_values = []  # Список для хранения значений RMSE\n",
    "        self.map_values = []  # Список для хранения значений MAP\n",
    "\n",
    "\n",
    "    def train(self):\n",
    "        self.P = np.random.normal(scale=1./self.K, size=(self.num_users, self.K))\n",
    "        self.Q = np.random.normal(scale=1./self.K, size=(self.num_items, self.K))\n",
    "\n",
    "        self.b_u = np.zeros(self.num_users)\n",
    "        self.b_i = np.zeros(self.num_items)\n",
    "        self.b = np.mean(self.R[self.R > 0])\n",
    "\n",
    "        self.samples = [\n",
    "            (i, j, self.R[i, j])\n",
    "            for i in range(self.num_users)\n",
    "            for j in range(self.num_items)\n",
    "            if self.R[i, j] > 0\n",
    "        ]\n",
    "\n",
    "        progress_bar = tqdm(total=self.iterations, desc=\"Training SVD\")\n",
    "        for iteration in range(self.iterations):\n",
    "            np.random.shuffle(self.samples)\n",
    "            self.sgd()\n",
    "            rmse = self.rmse()\n",
    "            map50_5 = mean_average_precision_at_k(self, R_train, R_test, top_k=50, grade=5)\n",
    "            map50_4 = mean_average_precision_at_k(self, R_train, R_test, top_k=50, grade=4)\n",
    "            self.rmse_values.append(rmse)  # Сохраняем значение RMSE\n",
    "            self.map_values.append((map50_5, map50_4))  # Сохраняем значение MAP\n",
    "            progress_bar.set_postfix({'RMSE': f\"{rmse:.4f}\", 'MAP 5': f\"{map50_5:.4f}\", 'MAP 4': f\"{map50_4:.4f}\"})\n",
    "            progress_bar.update(1)\n",
    "        progress_bar.close()\n",
    "\n",
    "    def sgd(self):\n",
    "        for i, j, r in self.samples:\n",
    "            prediction = self.predict(i, j)\n",
    "            error = r - prediction\n",
    "\n",
    "            # Обновление биасов\n",
    "            self.b_u[i] += self.alpha * (error - self.beta * self.b_u[i])\n",
    "            self.b_i[j] += self.alpha * (error - self.beta * self.b_i[j])\n",
    "\n",
    "            # Обновление скрытых факторов\n",
    "            self.P[i, :] += self.alpha * (error * self.Q[j, :] - self.beta * self.P[i, :])\n",
    "            self.Q[j, :] += self.alpha * (error * self.P[i, :] - self.beta * self.Q[j, :])\n",
    "\n",
    "\n",
    "    def predict(self, i, j):\n",
    "        return self.b + self.b_u[i] + self.b_i[j] + self.P[i, :].dot(self.Q[j, :].T)\n",
    "\n",
    "\n",
    "    def rmse(self):\n",
    "        xs, ys = self.R.nonzero()\n",
    "        predicted = []\n",
    "        actual = []\n",
    "        for x, y in zip(xs, ys):\n",
    "            predicted.append(self.predict(x, y))\n",
    "            actual.append(self.R[x, y])\n",
    "        return np.sqrt(np.mean((np.array(predicted) - np.array(actual)) ** 2))\n",
    "\n",
    "\n",
    "    def plot_results(self):\n",
    "        fig, ax1 = plt.subplots()\n",
    "        \n",
    "        # Первая ось y (RMSE)\n",
    "        ax1.plot(self.rmse_values, label='RMSE', color='b')\n",
    "        ax1.set_xlabel('Итерация')\n",
    "        ax1.set_ylabel('RMSE', color='b')\n",
    "        ax1.tick_params(axis='y', labelcolor='b')\n",
    "        \n",
    "        # Второстепенная ось y (MAP)\n",
    "        ax2 = ax1.twinx()\n",
    "        ax2.plot(self.map_values, label='MAP', color='r')\n",
    "        ax2.set_ylabel('MAP', color='r')\n",
    "        ax2.tick_params(axis='y', labelcolor='r')\n",
    "        \n",
    "        # Общая легенда\n",
    "        lines = ax1.get_lines() + ax2.get_lines()\n",
    "        labels = [line.get_label() for line in lines]\n",
    "        plt.legend(lines, labels, loc='upper left')\n",
    "        \n",
    "        plt.title('Зависимость RMSE и MAP от итерации')\n",
    "        plt.show()"
   ]
  },
  {
   "cell_type": "code",
   "execution_count": 7,
   "metadata": {},
   "outputs": [],
   "source": [
    "class SVDPlusPlus:\n",
    "    def __init__(self, R, K=20, alpha=0.002, beta=0.02, iterations=100):\n",
    "        self.R = R\n",
    "        self.num_users, self.num_items = R.shape\n",
    "        self.K = K  # Количество скрытых факторов\n",
    "        self.alpha = alpha  # Скорость обучения\n",
    "        self.beta = beta  # Регуляризация\n",
    "        self.iterations = iterations\n",
    "        self.rmse_values = []  # Список для хранения значений RMSE\n",
    "        self.map_values = []  # Список для хранения значений MAP\n",
    "\n",
    "        # Инициализация параметров\n",
    "        self.P = np.random.normal(scale=1./self.K, size=(self.num_users, self.K))  # Пользовательские факторы\n",
    "        self.Q = np.random.normal(scale=1./self.K, size=(self.num_items, self.K))  # Товарные факторы\n",
    "        self.y = np.random.normal(scale=1./self.K, size=(self.num_items, self.K))  # Латентные векторы для товаров\n",
    "\n",
    "        self.b_u = np.zeros(self.num_users)  # Биасы пользователей\n",
    "        self.b_i = np.zeros(self.num_items)  # Биасы товаров\n",
    "        self.b = np.mean(self.R[self.R > 0])  # Глобальный биас\n",
    "\n",
    "        # Предварительное сохранение индексов непустых оценок\n",
    "        self.samples = [\n",
    "            (int(i), int(j), self.R[i, j])\n",
    "            for i in range(self.num_users)\n",
    "            for j in range(self.num_items)\n",
    "            if self.R[i, j] > 0\n",
    "        ]\n",
    "\n",
    "        # Предварительное вычисление множества N_u для каждого пользователя\n",
    "        self.N_u = {i: np.where(self.R[i, :] > 0)[0] for i in range(self.num_users)}\n",
    "\n",
    "    def train(self):\n",
    "        progress_bar = tqdm(total=self.iterations, desc=\"Training SVD++\")\n",
    "        for iteration in range(self.iterations):\n",
    "            np.random.shuffle(self.samples)\n",
    "            self.sgd()\n",
    "            rmse = self.rmse()\n",
    "            map50_5 = mean_average_precision_at_k(self, R_train, R_test, top_k=50, grade=5)\n",
    "            map50_4 = mean_average_precision_at_k(self, R_train, R_test, top_k=50, grade=4)\n",
    "            self.rmse_values.append(rmse)  # Сохраняем значение RMSE\n",
    "            self.map_values.append((map50_5, map50_4))  # Сохраняем значение MAP\n",
    "            progress_bar.set_postfix({'RMSE': f\"{rmse:.4f}\", 'MAP 5': f\"{map50_5:.4f}\", 'MAP 4': f\"{map50_4:.4f}\"})\n",
    "            progress_bar.update(1)\n",
    "        progress_bar.close()\n",
    "\n",
    "    def sgd(self):\n",
    "        y_update = np.zeros_like(self.y)  # Для обновления латентных векторов y_j\n",
    "\n",
    "        for i, j, r in self.samples:\n",
    "            # Имплицитный фидбек для пользователя i\n",
    "            N_u = self.N_u[i]\n",
    "            sqrt_len_N_u = np.sqrt(len(N_u)) if len(N_u) > 0 else 1  # Число sqrt(len(N_u))\n",
    "            implicit_feedback = np.sum(self.y[N_u], axis=0) / sqrt_len_N_u if len(N_u) > 0 else np.zeros(self.K)\n",
    "\n",
    "            # Предсказание\n",
    "            prediction = self.b + self.b_u[i] + self.b_i[j] + np.dot(self.P[i, :] + implicit_feedback, self.Q[j, :].T)\n",
    "            error = r - prediction\n",
    "\n",
    "            # Обновление биасов\n",
    "            self.b_u[i] += self.alpha * (error - self.beta * self.b_u[i])\n",
    "            self.b_i[j] += self.alpha * (error - self.beta * self.b_i[j])\n",
    "\n",
    "            # Обновление факторов\n",
    "            self.P[i, :] += self.alpha * (error * self.Q[j, :] - self.beta * self.P[i, :])\n",
    "            self.Q[j, :] += self.alpha * (error * (self.P[i, :] + implicit_feedback) - self.beta * self.Q[j, :])\n",
    "\n",
    "            # Обновление латентных факторов y для каждого товара в N_u\n",
    "            if len(N_u) > 0:\n",
    "                y_update[N_u] += self.alpha * (error / sqrt_len_N_u * self.Q[j, :] - self.beta * self.y[N_u])\n",
    "\n",
    "        # Обновление латентных векторов y для всех товаров после прохода по данным\n",
    "        self.y += y_update\n",
    "\n",
    "    def predict(self, i, j):\n",
    "        N_u = self.N_u[i]\n",
    "        sqrt_len_N_u = np.sqrt(len(N_u)) if len(N_u) > 0 else 1\n",
    "        implicit_feedback = np.sum(self.y[N_u], axis=0) / sqrt_len_N_u if len(N_u) > 0 else np.zeros(self.K)\n",
    "        return self.b + self.b_u[i] + self.b_i[j] + np.dot(self.P[i, :] + implicit_feedback, self.Q[j, :].T)\n",
    "\n",
    "    def rmse(self):\n",
    "        xs, ys = self.R.nonzero()\n",
    "        predicted = np.array([self.predict(x, y) for x, y in zip(xs, ys)])\n",
    "        actual = self.R[xs, ys]\n",
    "        return np.sqrt(np.mean((predicted - actual) ** 2))\n",
    "\n",
    "    def plot_results(self):\n",
    "        fig, ax1 = plt.subplots()\n",
    "        \n",
    "        # Первая ось y (RMSE)\n",
    "        ax1.plot(self.rmse_values, label='RMSE', color='b')\n",
    "        ax1.set_xlabel('Итерация')\n",
    "        ax1.set_ylabel('RMSE', color='b')\n",
    "        ax1.tick_params(axis='y', labelcolor='b')\n",
    "        \n",
    "        # Второстепенная ось y (MAP)\n",
    "        ax2 = ax1.twinx()\n",
    "        ax2.plot(self.map_values, label='MAP', color='r')\n",
    "        ax2.set_ylabel('MAP', color='r')\n",
    "        ax2.tick_params(axis='y', labelcolor='r')\n",
    "        \n",
    "        # Общая легенда\n",
    "        lines = ax1.get_lines() + ax2.get_lines()\n",
    "        labels = [line.get_label() for line in lines]\n",
    "        plt.legend(lines, labels, loc='upper left')\n",
    "        \n",
    "        plt.title('Зависимость RMSE и MAP от итерации')\n",
    "        plt.show()"
   ]
  },
  {
   "cell_type": "code",
   "execution_count": 6,
   "metadata": {},
   "outputs": [
    {
     "data": {
      "application/vnd.jupyter.widget-view+json": {
       "model_id": "deb5a89006b74cc49ae12cb4f56ed73b",
       "version_major": 2,
       "version_minor": 0
      },
      "text/plain": [
       "Training SVD:   0%|          | 0/10 [00:00<?, ?it/s]"
      ]
     },
     "metadata": {},
     "output_type": "display_data"
    },
    {
     "data": {
      "application/vnd.jupyter.widget-view+json": {
       "model_id": "3b4d6a84d3d841908494a5629cc54420",
       "version_major": 2,
       "version_minor": 0
      },
      "text/plain": [
       "Training SVD:   0%|          | 0/10 [00:00<?, ?it/s]"
      ]
     },
     "metadata": {},
     "output_type": "display_data"
    },
    {
     "data": {
      "application/vnd.jupyter.widget-view+json": {
       "model_id": "d2905d77e64642e98303fe12c4babd7d",
       "version_major": 2,
       "version_minor": 0
      },
      "text/plain": [
       "Training SVD:   0%|          | 0/10 [00:00<?, ?it/s]"
      ]
     },
     "metadata": {},
     "output_type": "display_data"
    },
    {
     "data": {
      "application/vnd.jupyter.widget-view+json": {
       "model_id": "fef48487206a45dca656533f38f440c0",
       "version_major": 2,
       "version_minor": 0
      },
      "text/plain": [
       "Training SVD:   0%|          | 0/10 [00:00<?, ?it/s]"
      ]
     },
     "metadata": {},
     "output_type": "display_data"
    },
    {
     "data": {
      "application/vnd.jupyter.widget-view+json": {
       "model_id": "219241eb06554a9aa9188998e9dc2a38",
       "version_major": 2,
       "version_minor": 0
      },
      "text/plain": [
       "Training SVD:   0%|          | 0/10 [00:00<?, ?it/s]"
      ]
     },
     "metadata": {},
     "output_type": "display_data"
    },
    {
     "data": {
      "application/vnd.jupyter.widget-view+json": {
       "model_id": "01dfb078c538410bbad661e3ec159741",
       "version_major": 2,
       "version_minor": 0
      },
      "text/plain": [
       "Training SVD:   0%|          | 0/10 [00:00<?, ?it/s]"
      ]
     },
     "metadata": {},
     "output_type": "display_data"
    },
    {
     "data": {
      "application/vnd.jupyter.widget-view+json": {
       "model_id": "e751d482495a4870b72ac7dfbdb7c79c",
       "version_major": 2,
       "version_minor": 0
      },
      "text/plain": [
       "Training SVD:   0%|          | 0/10 [00:00<?, ?it/s]"
      ]
     },
     "metadata": {},
     "output_type": "display_data"
    },
    {
     "name": "stdout",
     "output_type": "stream",
     "text": [
      "+----+-----+------------+---------+--------+------------+-------------+-------------+\n",
      "|    |   K |   Итерации |   Alpha |   Beta |   SVD RMSE |   SVD MAP 5 |   SVD MAP 4 |\n",
      "|----+-----+------------+---------+--------+------------+-------------+-------------|\n",
      "|  0 |   2 |         10 |   0.001 |   0.02 |   0.940011 |   0.0290063 |   0.027767  |\n",
      "|  1 |  10 |         10 |   0.001 |   0.02 |   0.919406 |   0.0725462 |   0.074795  |\n",
      "|  2 |  50 |         10 |   0.001 |   0.02 |   0.919152 |   0.0748193 |   0.0776152 |\n",
      "|  3 | 100 |         10 |   0.001 |   0.02 |   0.919162 |   0.074906  |   0.0772399 |\n",
      "|  4 | 200 |         10 |   0.001 |   0.02 |   0.919157 |   0.0749154 |   0.0773167 |\n",
      "|  5 | 400 |         10 |   0.001 |   0.02 |   0.91918  |   0.0749148 |   0.0773074 |\n",
      "|  6 | 600 |         10 |   0.001 |   0.02 |   0.919155 |   0.0748119 |   0.0769712 |\n",
      "+----+-----+------------+---------+--------+------------+-------------+-------------+\n"
     ]
    }
   ],
   "source": [
    "param_grid = {\n",
    "    'K': [2, 10, 50, 100, 200, 400, 600],\n",
    "    'iterations': [10],\n",
    "    'alpha': [0.001],\n",
    "    'beta': [0.02]\n",
    "}\n",
    "\n",
    "results = []\n",
    "\n",
    "for K in param_grid['K']:\n",
    "    for iterations in param_grid['iterations']:\n",
    "        for alpha in param_grid['alpha']:\n",
    "            for beta in param_grid['beta']:\n",
    "                # Запуск моделей\n",
    "                svd = SVD(R_train, K=K, iterations=iterations, alpha=alpha, beta=beta)\n",
    "                svd.train()\n",
    "                svd_rmse = calculate_rmse(R_test, svd)\n",
    "                svd_map_5 = svd.map_values[-1][0]\n",
    "                svd_map_4 = svd.map_values[-1][1]\n",
    "                \n",
    "                results.append([K, iterations, alpha, beta, svd_rmse, svd_map_5, svd_map_4])\n",
    "\n",
    "df = pd.DataFrame(results, columns=['K', 'Итерации', 'Alpha', 'Beta', 'SVD RMSE', 'SVD MAP 5', 'SVD MAP 4'])\n",
    "\n",
    "print(tabulate(df, headers='keys', tablefmt='psql'))"
   ]
  },
  {
   "cell_type": "markdown",
   "metadata": {},
   "source": [
    "**Вывод 1:**\n",
    "1. В качестве данных для обучения взято 70%. 30% использовано для расчета MAP@50.\n",
    "2. Скрытая размерность более 50 не нужна, так как модель точнее не становится, а время обучения растет.\n",
    "3. Использована для подбора _K_ только SVD (не SVD++), так как скорость обучения у нее выше, а результаты с SVD++ похожи.\n",
    "4. Предполагалось, что из-за большого количества предсказанных фильмов, топ 50 будет только из оценок ~5, поэтому MAP@50 считалось для релевантных фильмов с оценкой >=5 и >=4 для сравнения, но видно, что >=4 результат даже получше.\n",
    "\n",
    "Далее будет использовано _K_ = 50 и различные варианты других гиперпараметров для SVD и SVD++"
   ]
  },
  {
   "cell_type": "code",
   "execution_count": 9,
   "metadata": {},
   "outputs": [
    {
     "data": {
      "application/vnd.jupyter.widget-view+json": {
       "model_id": "c25f7c04bcea46468aab26ca1b827b85",
       "version_major": 2,
       "version_minor": 0
      },
      "text/plain": [
       "Training SVD:   0%|          | 0/10 [00:00<?, ?it/s]"
      ]
     },
     "metadata": {},
     "output_type": "display_data"
    },
    {
     "data": {
      "application/vnd.jupyter.widget-view+json": {
       "model_id": "140f312280dd499796c7807ae12f9ffd",
       "version_major": 2,
       "version_minor": 0
      },
      "text/plain": [
       "Training SVD++:   0%|          | 0/10 [00:00<?, ?it/s]"
      ]
     },
     "metadata": {},
     "output_type": "display_data"
    },
    {
     "data": {
      "application/vnd.jupyter.widget-view+json": {
       "model_id": "587fa6a1d25d470081c479d4e6f5358a",
       "version_major": 2,
       "version_minor": 0
      },
      "text/plain": [
       "Training SVD:   0%|          | 0/15 [00:00<?, ?it/s]"
      ]
     },
     "metadata": {},
     "output_type": "display_data"
    },
    {
     "data": {
      "application/vnd.jupyter.widget-view+json": {
       "model_id": "b304687dcdac4338ba721f018360ffea",
       "version_major": 2,
       "version_minor": 0
      },
      "text/plain": [
       "Training SVD++:   0%|          | 0/15 [00:00<?, ?it/s]"
      ]
     },
     "metadata": {},
     "output_type": "display_data"
    },
    {
     "data": {
      "application/vnd.jupyter.widget-view+json": {
       "model_id": "5e5132b6fd4f4aef87236f8492f7f9e2",
       "version_major": 2,
       "version_minor": 0
      },
      "text/plain": [
       "Training SVD:   0%|          | 0/20 [00:00<?, ?it/s]"
      ]
     },
     "metadata": {},
     "output_type": "display_data"
    },
    {
     "data": {
      "application/vnd.jupyter.widget-view+json": {
       "model_id": "4ae98a6a0fbe4660a00f50b8646c9e4a",
       "version_major": 2,
       "version_minor": 0
      },
      "text/plain": [
       "Training SVD++:   0%|          | 0/20 [00:00<?, ?it/s]"
      ]
     },
     "metadata": {},
     "output_type": "display_data"
    },
    {
     "data": {
      "application/vnd.jupyter.widget-view+json": {
       "model_id": "3a2a668ac93643fbb63303f8905b99ed",
       "version_major": 2,
       "version_minor": 0
      },
      "text/plain": [
       "Training SVD:   0%|          | 0/30 [00:00<?, ?it/s]"
      ]
     },
     "metadata": {},
     "output_type": "display_data"
    },
    {
     "data": {
      "application/vnd.jupyter.widget-view+json": {
       "model_id": "56ddb43af6e441cfb166a69e1fc92ffe",
       "version_major": 2,
       "version_minor": 0
      },
      "text/plain": [
       "Training SVD++:   0%|          | 0/30 [00:00<?, ?it/s]"
      ]
     },
     "metadata": {},
     "output_type": "display_data"
    },
    {
     "name": "stdout",
     "output_type": "stream",
     "text": [
      "+----+-----+------------+---------+--------+------------+-------------+-------------+-------------+--------------+---------------+---------------+---------------+\n",
      "|    |   K |   Итерации |   Alpha |   Beta |   SVD RMSE |   SVD MAP 5 |   SVD MAP 4 |   SVD Время |   SVD++ RMSE |   SVD++ MAP 5 |   SVD++ MAP 4 |   SVD++ Время |\n",
      "|----+-----+------------+---------+--------+------------+-------------+-------------+-------------+--------------+---------------+---------------+---------------|\n",
      "|  0 |  50 |         10 |   0.002 |   0.02 |   0.901485 |   0.067194  |   0.0673111 |     68.8881 |     0.901168 |     0.067066  |     0.0677881 |       268.144 |\n",
      "|  1 |  50 |         15 |   0.002 |   0.02 |   0.893043 |   0.0582419 |   0.056292  |    103.125  |     0.892571 |     0.0582945 |     0.0561718 |       428.048 |\n",
      "|  2 |  50 |         20 |   0.002 |   0.02 |   0.88787  |   0.0509426 |   0.0479676 |    135.682  |     0.886349 |     0.0507051 |     0.0479773 |       570.363 |\n",
      "|  3 |  50 |         30 |   0.002 |   0.02 |   0.881661 |   0.0439885 |   0.0394244 |    210.21   |     0.877751 |     0.0437477 |     0.0393251 |       862.976 |\n",
      "+----+-----+------------+---------+--------+------------+-------------+-------------+-------------+--------------+---------------+---------------+---------------+\n"
     ]
    }
   ],
   "source": [
    "param_grid = {\n",
    "    'K': [50],\n",
    "    'iterations': [10, 15, 20, 30],\n",
    "    'alpha': [0.002],\n",
    "    'beta': [0.02]\n",
    "}\n",
    "\n",
    "results = []\n",
    "\n",
    "for K in param_grid['K']:\n",
    "    for iterations in param_grid['iterations']:\n",
    "        for alpha in param_grid['alpha']:\n",
    "            for beta in param_grid['beta']:\n",
    "                # Запуск моделей\n",
    "                start_time = time.time()\n",
    "                svd = SVD(R_train, K=K, iterations=iterations, alpha=alpha, beta=beta)\n",
    "                svd.train()\n",
    "                svd_rmse = calculate_rmse(R_test, svd)\n",
    "                svd_map_5 = svd.map_values[-1][0]\n",
    "                svd_map_4 = svd.map_values[-1][1]\n",
    "                svd_time = time.time() - start_time\n",
    "                \n",
    "                start_time = time.time()\n",
    "                svdpp = SVDPlusPlus(R_train, K=K, iterations=iterations, alpha=alpha, beta=beta)\n",
    "                svdpp.train()\n",
    "                svdpp_rmse = calculate_rmse(R_test, svdpp)\n",
    "                svdpp_map_5 = svdpp.map_values[-1][0]\n",
    "                svdpp_map_4 = svdpp.map_values[-1][1]\n",
    "                svdpp_time = time.time() - start_time\n",
    "                \n",
    "                results.append([K, iterations, alpha, beta, svd_rmse, svd_map_5, svd_map_4, svd_time, svdpp_rmse, svdpp_map_5, svdpp_map_4, svdpp_time])\n",
    "\n",
    "df = pd.DataFrame(results, columns=['K', 'Итерации', 'Alpha', 'Beta', 'SVD RMSE', 'SVD MAP 5', 'SVD MAP 4', 'SVD Время', 'SVD++ RMSE', 'SVD++ MAP 5', 'SVD++ MAP 4', 'SVD++ Время'])\n",
    "\n",
    "print(tabulate(df, headers='keys', tablefmt='psql'))"
   ]
  },
  {
   "cell_type": "markdown",
   "metadata": {},
   "source": [
    "**Вывод 2:**\n",
    "1. На всех итерациях SVD показывает себя также как и SVD++, однако работает в 4 раза быстрее.\n",
    "2. Чем больше итераций, тем хуже результаты для MAP@k. Очевидно, что модели довольно быстро переобучаются. Повод попробовать количество эпох до 10 штук. Возможно, можно еще лучше при меньшем обучении.\n",
    "   1. **Note:** Хотя ошибка RMSE для тестовых данных становится меньше при большем количестве эпох. При этом SVD++ выдает метрику получше, но не достаточно, чтобы ждать х4 времени обучения.\n",
    "3. В процессе заметил, что параметр регуляризации и скорость обучения влияют на результаты, но речь скорее о скорости изменения качества, поэтому решил, что их можно зафиксировать."
   ]
  },
  {
   "cell_type": "code",
   "execution_count": 14,
   "metadata": {},
   "outputs": [
    {
     "name": "stdout",
     "output_type": "stream",
     "text": [
      "+----+-----+------------+---------+--------+------------+-------------+-------------+-------------+--------------+---------------+---------------+---------------+\n",
      "|    |   K |   Итерации |   Alpha |   Beta |   SVD RMSE |   SVD MAP 5 |   SVD MAP 4 |   SVD Время |   SVD++ RMSE |   SVD++ MAP 5 |   SVD++ MAP 4 |   SVD++ Время |\n",
      "|----+-----+------------+---------+--------+------------+-------------+-------------+-------------+--------------+---------------+---------------+---------------|\n",
      "|  0 |  50 |          1 |   0.002 |   0.02 |   0.97252  |   0.0782903 |   0.0819495 |     8.75771 |     0.972457 |     0.0770169 |     0.0819083 |       34.4019 |\n",
      "|  1 |  50 |          2 |   0.002 |   0.02 |   0.94838  |   0.0778722 |   0.0812835 |    15.2741  |     0.948483 |     0.0774478 |     0.0812752 |       62.4027 |\n",
      "|  2 |  50 |          3 |   0.002 |   0.02 |   0.934798 |   0.0775521 |   0.0809653 |    22.227   |     0.934628 |     0.0768882 |     0.0807487 |       92.6128 |\n",
      "|  3 |  50 |          4 |   0.002 |   0.02 |   0.925696 |   0.0759069 |   0.0788417 |    30.048   |     0.925721 |     0.0760083 |     0.0791964 |      124.206  |\n",
      "|  4 |  50 |          5 |   0.002 |   0.02 |   0.919128 |   0.0743015 |   0.0766422 |    35.8863  |     0.919119 |     0.0747695 |     0.0771747 |      145.944  |\n",
      "|  5 |  50 |          6 |   0.002 |   0.02 |   0.914241 |   0.0728946 |   0.075058  |    42.4579  |     0.914049 |     0.0731196 |     0.0748396 |      174.284  |\n",
      "|  6 |  50 |          7 |   0.002 |   0.02 |   0.910122 |   0.0726157 |   0.0731309 |    50.4879  |     0.909986 |     0.0724185 |     0.072829  |      209.691  |\n",
      "|  7 |  50 |          8 |   0.002 |   0.02 |   0.906833 |   0.0715197 |   0.072001  |    56.645   |     0.906517 |     0.0716052 |     0.0717801 |      242.299  |\n",
      "|  8 |  50 |          9 |   0.002 |   0.02 |   0.903993 |   0.0684642 |   0.0697818 |    62.9853  |     0.903634 |     0.0675424 |     0.0683533 |      266.222  |\n",
      "|  9 |  50 |         10 |   0.002 |   0.02 |   0.90161  |   0.0668997 |   0.0679658 |    69.9753  |     0.901198 |     0.066769  |     0.0679561 |      296.233  |\n",
      "+----+-----+------------+---------+--------+------------+-------------+-------------+-------------+--------------+---------------+---------------+---------------+\n"
     ]
    }
   ],
   "source": [
    "param_grid = {\n",
    "    'K': [50],\n",
    "    'iterations': np.arange(1, 11),\n",
    "    'alpha': [0.002],\n",
    "    'beta': [0.02]\n",
    "}\n",
    "\n",
    "results = []\n",
    "\n",
    "for K in param_grid['K']:\n",
    "    for iterations in param_grid['iterations']:\n",
    "        for alpha in param_grid['alpha']:\n",
    "            for beta in param_grid['beta']:\n",
    "                # Запуск моделей\n",
    "                start_time = time.time()\n",
    "                svd = SVD(R_train, K=K, iterations=iterations, alpha=alpha, beta=beta)\n",
    "                svd.train()\n",
    "                svd_rmse = calculate_rmse(R_test, svd)\n",
    "                svd_map_5 = svd.map_values[-1][0]\n",
    "                svd_map_4 = svd.map_values[-1][1]\n",
    "                svd_time = time.time() - start_time\n",
    "                \n",
    "                start_time = time.time()\n",
    "                svdpp = SVDPlusPlus(R_train, K=K, iterations=iterations, alpha=alpha, beta=beta)\n",
    "                svdpp.train()\n",
    "                svdpp_rmse = calculate_rmse(R_test, svdpp)\n",
    "                svdpp_map_5 = svdpp.map_values[-1][0]\n",
    "                svdpp_map_4 = svdpp.map_values[-1][1]\n",
    "                svdpp_time = time.time() - start_time\n",
    "                \n",
    "                results.append([K, iterations, alpha, beta, svd_rmse, svd_map_5, svd_map_4, svd_time, svdpp_rmse, svdpp_map_5, svdpp_map_4, svdpp_time])\n",
    "\n",
    "df = pd.DataFrame(results, columns=['K', 'Итерации', 'Alpha', 'Beta', 'SVD RMSE', 'SVD MAP 5', 'SVD MAP 4', 'SVD Время', 'SVD++ RMSE', 'SVD++ MAP 5', 'SVD++ MAP 4', 'SVD++ Время'])\n",
    "\n",
    "print(tabulate(df, headers='keys', tablefmt='psql'))"
   ]
  },
  {
   "cell_type": "markdown",
   "metadata": {},
   "source": [
    "**Вывод 3:**\n",
    "1. Если смотреть на итерации от 1 до 30, то RMSE на тесте все время падает => нужно учить дольше.\n",
    "2. Если смотреть на метрику MAP@k, то метрика также падает => нужно учить меньше.\n",
    "3. Видимо, как и в большинстве случаев, нужен какой-то баланс, который больше нравится.\n",
    "4. Самый важный вывод: SVD++ не стоит своих свеч. Слишком долго и дорого ради тысячных значений."
   ]
  },
  {
   "cell_type": "code",
   "execution_count": 15,
   "metadata": {},
   "outputs": [
    {
     "data": {
      "image/png": "[encoded data removed]",
      "text/plain": [
       "<Figure size 640x480 with 2 Axes>"
      ]
     },
     "metadata": {},
     "output_type": "display_data"
    },
    {
     "data": {
      "image/png": "[encoded data removed]",
      "text/plain": [
       "<Figure size 640x480 with 2 Axes>"
      ]
     },
     "metadata": {},
     "output_type": "display_data"
    }
   ],
   "source": [
    "svd.plot_results()\n",
    "svdpp.plot_results()\n",
    "\n",
    "#P.S. Метод был написан до того, как я решил, что буду сохранять MAP для оценок от 4 и 5 в кортеж, поэтому две линии без названий получилось."
   ]
  }
 ],
 "metadata": {
  "kernelspec": {
   "display_name": ".venv",
   "language": "python",
   "name": "python3"
  },
  "language_info": {
   "codemirror_mode": {
    "name": "ipython",
    "version": 3
   },
   "file_extension": ".py",
   "mimetype": "text/x-python",
   "name": "python",
   "nbconvert_exporter": "python",
   "pygments_lexer": "ipython3",
   "version": "3.10.11"
  }
 },
 "nbformat": 4,
 "nbformat_minor": 2
}
