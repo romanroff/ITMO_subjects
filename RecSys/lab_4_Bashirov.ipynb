{
 "cells": [
  {
   "cell_type": "code",
   "execution_count": 55,
   "metadata": {},
   "outputs": [],
   "source": [
    "# Импорт библиотек\n",
    "import pandas as pd\n",
    "import numpy as np\n",
    "from sklearn.model_selection import train_test_split\n",
    "from sklearn.metrics import mean_squared_error, pairwise_distances\n",
    "from sklearn.metrics.pairwise import cosine_similarity\n",
    "from sklearn.cluster import KMeans\n",
    "from sklearn.neighbors import NearestNeighbors\n",
    "\n",
    "import time\n",
    "import logging\n",
    "logging.basicConfig(level=logging.INFO)\n",
    "logger = logging.getLogger(__name__)\n",
    "\n",
    "from joblib import Parallel, delayed\n",
    "\n",
    "import cornac\n",
    "import surprise\n",
    "from tqdm.notebook import tqdm\n",
    "\n",
    "import warnings\n",
    "warnings.filterwarnings(\"ignore\")"
   ]
  },
  {
   "cell_type": "code",
   "execution_count": 56,
   "metadata": {},
   "outputs": [],
   "source": [
    "# Функции для метрик\n",
    "def calculate_rmse(df):\n",
    "    return np.sqrt(mean_squared_error(df.dropna()['rating'], df.dropna()['predicted_rating']))\n",
    "\n",
    "def apk(actual, predicted, k=10):\n",
    "    if len(predicted) > k:\n",
    "        predicted = predicted[:k]\n",
    "    score = 0.0\n",
    "    num_hits = 0.0\n",
    "    for i, p in enumerate(predicted):\n",
    "        if p in actual: #and p not in predicted[:i]:\n",
    "            num_hits += 1.0\n",
    "            score += num_hits / (i + 1.0)\n",
    "    return score / min(len(actual), k) if len(actual) > 0 else 0.0\n",
    "\n",
    "def calculate_mapk(df, k=10):\n",
    "    user_group = df.groupby('userId')\n",
    "    apk_scores = []\n",
    "    for user, group in user_group:\n",
    "        actual = group.dropna()['movieId'].values\n",
    "        if len(actual) == 0:\n",
    "            continue\n",
    "        predicted = group.sort_values(by='predicted_rating', ascending=False)['movieId'].values\n",
    "        apk_scores.append(apk(actual, predicted, k))\n",
    "    return np.mean(apk_scores)\n",
    "\n",
    "def dcg_at_k(r, k):\n",
    "    r = np.asfarray(r)[:k] # to float\n",
    "    if r.size:\n",
    "        return np.sum(r / np.log2(np.arange(2, r.size + 2)))\n",
    "    return 0.0\n",
    "\n",
    "def ndcg_at_k(actual, predicted, k=10):\n",
    "    predicted = predicted[:k]\n",
    "    ideal = sorted(actual, reverse=True)[:k]\n",
    "    return dcg_at_k(predicted, k) / dcg_at_k(ideal, k)\n",
    "\n",
    "def calculate_ndcgk(df, k=10):\n",
    "    user_group = df.dropna().groupby('userId') # разделить пользователей\n",
    "    ndcg_scores = []\n",
    "    for user, group in user_group:\n",
    "        actual = group['rating'].values # реальный рейтинг\n",
    "        predicted = group.sort_values(by='predicted_rating', ascending=False)['rating'].values # рейтинг, как решила модель\n",
    "        ndcg_scores.append(ndcg_at_k(actual, predicted, k))\n",
    "    return np.mean(ndcg_scores)\n",
    "\n",
    "# def calculate_novelty(df, item_popularity, k=10):\n",
    "#     user_group = df.groupby('userId')\n",
    "#     novelty_scores = []\n",
    "#     for user, group in tqdm(user_group):\n",
    "#         recommended_items = group.sort_values(by='predicted_rating', ascending=False)['movieId'].values[:k]\n",
    "#         novelty = np.mean([np.log2(len(df['userId'].unique()) / item_popularity[item]) for item in recommended_items if item in item_popularity and item_popularity[item] != 0])\n",
    "#         if not np.isnan(novelty):\n",
    "#             novelty_scores.append(novelty)\n",
    "#     print(rf'$log_2$ max: {np.log2(len(df[\"userId\"].unique())):.3}')\n",
    "#     return np.mean(novelty_scores) if novelty_scores else 0\n",
    "\n",
    "\n",
    "def calculate_novelty(df, item_popularity, k=10):\n",
    "    num_users = len(df['userId'].unique())\n",
    "\n",
    "    # Предварительно вычисляем логарифмы для всех элементов\n",
    "    log_popularity = {item: np.log2(num_users / pop) for item, pop in item_popularity.items() if pop != 0}\n",
    "    \n",
    "    # Функция для расчета новизны для одного пользователя\n",
    "    def user_novelty(group):\n",
    "        recommended_items = group.nlargest(k, 'predicted_rating')['movieId'].values\n",
    "        novelty = [log_popularity[item] for item in recommended_items if item in log_popularity]\n",
    "        return np.mean(novelty) if novelty else np.nan\n",
    "    \n",
    "    # Применяем к каждой группе\n",
    "    novelty_scores = df.groupby('userId').apply(user_novelty).dropna()\n",
    "\n",
    "    print(rf'$log_2$ max: {np.log2(num_users):.3}')\n",
    "    return novelty_scores.mean() if not novelty_scores.empty else 0\n",
    "\n",
    "def calculate_diversity(df, item_similarity_matrix, k=10, matrix_columns=None):\n",
    "    user_group = df.groupby('userId')\n",
    "    diversity_scores = []\n",
    "    \n",
    "    for user, group in user_group:\n",
    "        recommended_items = group.sort_values(by='predicted_rating', ascending=False)['movieId'].values[:k]\n",
    "        total_pairs = 0\n",
    "        diversity = 0\n",
    "        for i in range(len(recommended_items)):\n",
    "            for j in range(i + 1, len(recommended_items)):\n",
    "                # Получаем индексы фильмов в матрице\n",
    "                if recommended_items[i] in matrix_columns and recommended_items[j] in matrix_columns:\n",
    "                    idx_i = matrix_columns.get_loc(recommended_items[i])\n",
    "                    idx_j = matrix_columns.get_loc(recommended_items[j])\n",
    "                    total_pairs += 1\n",
    "                    diversity += (1 - item_similarity_matrix[idx_i, idx_j])\n",
    "        \n",
    "        if total_pairs > 0:\n",
    "            diversity_scores.append(diversity / total_pairs)\n",
    "    \n",
    "    return np.mean(diversity_scores) if diversity_scores else 0\n"
   ]
  },
  {
   "cell_type": "code",
   "execution_count": 57,
   "metadata": {},
   "outputs": [],
   "source": [
    "def create_cf_matrix(train, cf_type='user'):\n",
    "\n",
    "    \"\"\"\n",
    "    Создает матрицу для коллаборативной фильтрации.\n",
    "    \n",
    "    Параметры:\n",
    "    - train: DataFrame с обучающими данными.\n",
    "    - cf_type: 'user' для пользователь-фильм матрицы или 'item' для фильм-пользователь матрицы.\n",
    "    \n",
    "    Возвращает:\n",
    "    - Матрица для коллаборативной фильтрации.\n",
    "    \"\"\"\n",
    "    if cf_type == 'user':\n",
    "        # Матрица пользователь-фильм\n",
    "        return train.pivot(index='userId', columns='movieId', values='rating')\n",
    "    elif cf_type == 'item':\n",
    "        # Матрица фильм-пользователь\n",
    "        return train.pivot(index='movieId', columns='userId', values='rating')\n",
    "    else:\n",
    "        raise ValueError(\"cf_type должен быть 'user' или 'item'\")"
   ]
  },
  {
   "cell_type": "code",
   "execution_count": 58,
   "metadata": {},
   "outputs": [],
   "source": [
    "def load_and_split_data(file_path, test_size=0.3, random_state=42):\n",
    "    df = pd.read_csv(file_path)\n",
    "    train, test = train_test_split(df, test_size=test_size, random_state=random_state)\n",
    "    return train, test, df"
   ]
  },
  {
   "cell_type": "code",
   "execution_count": 59,
   "metadata": {},
   "outputs": [],
   "source": [
    "# Загрузка данных\n",
    "df = pd.read_csv('data/ml-latest-small/ratings.csv')\n",
    "n_users = df['userId'].nunique()\n",
    "n_items = df['movieId'].nunique()\n",
    "\n",
    "# Создание индексов для пользователей и фильмов\n",
    "user_ids = df['userId'].astype('category').cat.codes.values\n",
    "item_ids = df['movieId'].astype('category').cat.codes.values\n",
    "\n",
    "df['user_idx'] = user_ids\n",
    "df['item_idx'] = item_ids\n",
    "\n",
    "# Разделение данных на тренировочные и тестовые наборы\n",
    "train_df, test_df = train_test_split(df, test_size=0.3, random_state=42)\n",
    "\n",
    "# Матрица рейтингов\n",
    "def create_matrix(df, n_users, n_items):\n",
    "    matrix = np.zeros((n_users, n_items))\n",
    "    matrix[:] = np.nan\n",
    "    for row in df.itertuples():\n",
    "        matrix[row.user_idx, row.item_idx] = row.rating\n",
    "    return matrix\n",
    "\n",
    "R_train = create_matrix(train_df, n_users, n_items)\n",
    "R_test = create_matrix(test_df, n_users, n_items)"
   ]
  },
  {
   "cell_type": "code",
   "execution_count": 60,
   "metadata": {},
   "outputs": [],
   "source": [
    "def counting_metrics(train, test, results, names):\n",
    "    test_df_flatten = pd.DataFrame(test).stack(dropna=False).reset_index()\n",
    "    test_df_flatten.columns = ['userId', 'movieId', 'rating']\n",
    "\n",
    "    # Подготовка для сбора всех результатов\n",
    "    all_results = []\n",
    "\n",
    "    for result, name in zip(results, names):  # Пройдем по результатам и именам методов одновременно\n",
    "        pred_df_flatten = result.stack().reset_index()\n",
    "        pred_df_flatten.columns = ['userId', 'movieId', 'predicted_rating']\n",
    "\n",
    "        merged_df = pd.merge(test_df_flatten, pred_df_flatten, on=['userId', 'movieId'])\n",
    "\n",
    "        # Расчет RMSE\n",
    "        rmse = calculate_rmse(merged_df)\n",
    "\n",
    "        # Определяем значения K для MAP и NDCG\n",
    "        k_values = [1, 5, 10, 20]\n",
    "\n",
    "        # Считаем MAP@K для каждого значения K\n",
    "        mapk_results = {f'MAP@{k}': calculate_mapk(merged_df, k=k) for k in k_values}\n",
    "\n",
    "        # Считаем NDCG@K для каждого значения K\n",
    "        ndcgk_results = {f'NDCG@{k}': calculate_ndcgk(merged_df, k=k) for k in k_values}\n",
    "\n",
    "        # Рассчитываем Novelty и Diversity\n",
    "        item_popularity = pd.DataFrame(train).count().to_dict()\n",
    "        item_similarity_matrix = 1 - pairwise_distances(pd.DataFrame(train).T.fillna(0), metric='cosine')\n",
    "\n",
    "        novelty = calculate_novelty(merged_df, item_popularity, k=10)\n",
    "        diversity = calculate_diversity(merged_df, item_similarity_matrix, k=10, matrix_columns=pd.DataFrame(train).columns)\n",
    "\n",
    "        # Собираем метрики для текущего result\n",
    "        result_metrics = {\n",
    "            'Method': name,  # Добавляем название метода\n",
    "            'RMSE': rmse,\n",
    "            'Novelty': novelty,\n",
    "            'Diversity': diversity,\n",
    "            **mapk_results,  # Добавляем результаты MAP@K\n",
    "            **ndcgk_results  # Добавляем результаты NDCG@K\n",
    "        }\n",
    "\n",
    "        # Добавляем в общий список результатов\n",
    "        all_results.append(result_metrics)\n",
    "\n",
    "    # Преобразуем результаты в DataFrame\n",
    "    return pd.DataFrame(all_results)"
   ]
  },
  {
   "cell_type": "markdown",
   "metadata": {},
   "source": [
    "#### Основная часть"
   ]
  },
  {
   "cell_type": "code",
   "execution_count": 61,
   "metadata": {},
   "outputs": [],
   "source": [
    "def collaborative_filtering(train, test, cf_type='user', use_z_score=True, N=50):\n",
    "    matrix = pd.DataFrame(train)\n",
    "    matrix_test = pd.DataFrame(test)\n",
    "    similarity = cosine_similarity(matrix.fillna(0))\n",
    "    means = matrix.mean(axis=1) # [610, mean]\n",
    "    stds = matrix.fillna(0).std(axis=1) if use_z_score else None\n",
    "\n",
    "    if use_z_score:\n",
    "        matrix_normalized = matrix.sub(means, axis=0).div(stds, axis=0).fillna(0)\n",
    "\n",
    "    # Предварительно вычисляем топ-N для всех пользователей\n",
    "    top_similarities = np.argsort(-similarity, axis=1)[:, :N]\n",
    "\n",
    "\n",
    "    # Массив для предсказанных рейтингов\n",
    "    predicted_ratings = np.zeros(matrix_test.shape)\n",
    "\n",
    "\n",
    "    for user_index in range(matrix_test.shape[0]):\n",
    "        # Получаем топ-N похожих пользователей\n",
    "        top_similar = top_similarities[user_index]\n",
    "\n",
    "        similarities = similarity[user_index, top_similar]\n",
    "\n",
    "        # Все рейтинги топ-N пользователей\n",
    "        if use_z_score:\n",
    "            relevant_ratings = matrix_normalized.iloc[top_similar]\n",
    "        else:\n",
    "            relevant_ratings = matrix.iloc[top_similar] # (610, 9724) -> (top_similar, 9724)\n",
    "\n",
    "        # Маска для фильмов, которые были оценены похожими пользователями\n",
    "        mask = relevant_ratings > 0\n",
    "\n",
    "        # Векторная операция для предсказания всех рейтингов для данного пользователя\n",
    "        numerator = np.dot(similarities, (relevant_ratings.fillna(0).values - means.iloc[top_similar].values.reshape(-1, 1)) * mask.values)\n",
    "        denominator = np.sum(np.abs(similarities[:, np.newaxis]) * mask.values, axis=0)\n",
    "\n",
    "        # Предсказанные значения\n",
    "        predicted_ratings[user_index, :] = means.iloc[user_index] + (numerator / (denominator + 1e-9))  # Добавляем малое число для избежания деления на 0\n",
    "\n",
    "        if use_z_score:\n",
    "            predicted_ratings[user_index, :] = means.iloc[user_index] + predicted_ratings[user_index, :] * stds.iloc[user_index]\n",
    "\n",
    "    # Создаем DataFrame для предсказанных рейтингов\n",
    "    predicted_matrix = pd.DataFrame(predicted_ratings, index=matrix.index, columns=matrix.columns)\n",
    "    return predicted_matrix"
   ]
  },
  {
   "cell_type": "code",
   "execution_count": 62,
   "metadata": {},
   "outputs": [],
   "source": [
    "def cluster_based_cf(train, test, n_clusters=40, use_z_score=False, cf_type='user'):\n",
    "    \"\"\"\n",
    "    Кластерная коллаборативная фильтрация с векторизованными операциями.\n",
    "    \n",
    "    Параметры:\n",
    "    - train: DataFrame с обучающими данными.\n",
    "    - test: DataFrame M*N с тестовыми данными (где M - пользователи, N - фильмы).\n",
    "    - n_clusters: количество кластеров для K-means.\n",
    "    - use_z_score: флаг для использования Z-score нормализации.\n",
    "    - cf_type: 'user' для пользователь-фильм матрицы или 'item' для фильм-пользователь матрицы.\n",
    "    \"\"\"\n",
    "    # Преобразуем train и test в DataFrame\n",
    "    matrix = pd.DataFrame(train)\n",
    "    test = pd.DataFrame(test)\n",
    "    pred = test.copy()\n",
    "\n",
    "    if use_z_score:\n",
    "        # Нормализуем оценки с помощью z-score\n",
    "        means = matrix.mean(axis=1)  # Среднее по пользователям (или фильмам)\n",
    "        stds = matrix.fillna(0).std(axis=1)  # Стандартное отклонение по пользователям (или фильмам)\n",
    "        matrix_normalized = matrix.sub(means, axis=0).div(stds, axis=0)\n",
    "        matrix_for_clustering = matrix_normalized.fillna(0)\n",
    "    else:\n",
    "        # Используем обычную матрицу для кластеризации\n",
    "        matrix_for_clustering = matrix.fillna(0)\n",
    "    \n",
    "    # Применяем K-means кластеризацию\n",
    "    kmeans = KMeans(n_clusters=n_clusters, random_state=42)\n",
    "    clusters = kmeans.fit_predict(matrix_for_clustering)\n",
    "    \n",
    "    # Создаем DataFrame для кластеров\n",
    "    cluster_df = pd.DataFrame({'userId': matrix.index, 'cluster': clusters})\n",
    "    \n",
    "    if use_z_score:\n",
    "        # Рассчитываем средние рейтинги для каждого кластера в нормализованной матрице\n",
    "        cluster_means = matrix_normalized.groupby(clusters).mean()\n",
    "        \n",
    "        # Получаем предсказанные рейтинги для всех пользователей и фильмов\n",
    "        user_clusters = cluster_df['cluster'].values  # Кластеры для каждого пользователя\n",
    "        predicted_z_scores = cluster_means.loc[user_clusters].values  # Предсказания для всех пользователей\n",
    "        \n",
    "        # Преобразуем предсказания обратно в исходные единицы\n",
    "        user_means = means.values[:, np.newaxis]  # Преобразуем вектора средних значений\n",
    "        user_stds = stds.values[:, np.newaxis]  # Преобразуем вектора стандартных отклонений\n",
    "        predicted_ratings = user_means + predicted_z_scores * user_stds  # Восстанавливаем рейтинги\n",
    "        \n",
    "        # Присваиваем предсказанные рейтинги обратно в матрицу test\n",
    "        pred[:] = predicted_ratings\n",
    "    else:\n",
    "        # Рассчитываем средние рейтинги для каждого кластера\n",
    "        cluster_means = matrix.groupby(clusters).mean()\n",
    "        \n",
    "        # Получаем предсказанные рейтинги для всех пользователей и фильмов\n",
    "        user_clusters = cluster_df['cluster'].values\n",
    "        predicted_ratings = cluster_means.loc[user_clusters].values\n",
    "        \n",
    "        # Присваиваем предсказанные рейтинги обратно в матрицу test\n",
    "        pred[:] = predicted_ratings\n",
    "\n",
    "    return pred"
   ]
  },
  {
   "cell_type": "code",
   "execution_count": 63,
   "metadata": {},
   "outputs": [],
   "source": [
    "def voting_based_cf(train, test, cf_type='user', n_neighbors=40, use_knn=False):\n",
    "    \"\"\"\n",
    "    Коллаборативная фильтрация с голосованием на основе сходства и KNN.\n",
    "\n",
    "    Параметры:\n",
    "    - train: DataFrame с обучающими данными (M пользователей * N фильмов).\n",
    "    - test: DataFrame (M пользователей * N фильмов), где необходимо предсказать рейтинги.\n",
    "    - cf_type: 'user' для пользователь-фильм матрицы или 'item' для фильм-пользователь матрицы.\n",
    "    - n_neighbors: количество соседей для KNN или топ-N для голосования.\n",
    "    - use_knn: флаг для использования KNN вместо простого выбора топ-N похожих пользователей/фильмов.\n",
    "\n",
    "    Возвращает:\n",
    "    - test: DataFrame с предсказанными значениями для матрицы теста.\n",
    "    \"\"\"\n",
    "    matrix = pd.DataFrame(train)\n",
    "    test = pd.DataFrame(test)\n",
    "    pred = test.copy()\n",
    "\n",
    "    # Транспонирование матрицы для item-based подхода\n",
    "    if cf_type == 'item':\n",
    "        matrix = matrix.T\n",
    "\n",
    "    matrix_for_knn = matrix.fillna(0)\n",
    "    \n",
    "    # Если используем KNN\n",
    "    if use_knn:\n",
    "        knn = NearestNeighbors(n_neighbors=n_neighbors, metric='cosine').fit(matrix_for_knn)\n",
    "        distances, neighbors = knn.kneighbors(matrix_for_knn)\n",
    "    else:\n",
    "        # Вычисляем косинусное сходство\n",
    "        similarity = cosine_similarity(matrix_for_knn)\n",
    "        # Получаем индексы топ-N похожих пользователей/фильмов\n",
    "        neighbors = np.argsort(similarity, axis=1)[:, -n_neighbors-1:-1]\n",
    "\n",
    "    def predict_ratings(matrix, neighbors):\n",
    "        \"\"\"\n",
    "        Векторизованное предсказание рейтингов.\n",
    "        \"\"\"\n",
    "        num_users, num_items = matrix.shape\n",
    "        predicted_ratings = np.zeros((num_users, num_items))\n",
    "        \n",
    "        # Проходим по каждому пользователю\n",
    "        for user_index in tqdm(range(num_users)):\n",
    "            neighbor_indices = neighbors[user_index]\n",
    "            for item_index in range(num_items):\n",
    "                neighbor_ratings = matrix.values[neighbor_indices, item_index]\n",
    "                valid_ratings = neighbor_ratings[neighbor_ratings > 0]\n",
    "                \n",
    "                if len(valid_ratings) > 0:\n",
    "                    predicted_ratings[user_index, item_index] = valid_ratings.mean()\n",
    "                else:\n",
    "                    predicted_ratings[user_index, item_index] = matrix.values[user_index].mean()\n",
    "        \n",
    "        return predicted_ratings\n",
    "    \n",
    "    predicted_ratings = predict_ratings(matrix, neighbors)\n",
    "\n",
    "    pred[:] = predicted_ratings\n",
    "\n",
    "    return pred"
   ]
  },
  {
   "cell_type": "code",
   "execution_count": 64,
   "metadata": {},
   "outputs": [],
   "source": [
    "class SVD:\n",
    "    def __init__(self, R, K=20, alpha=0.002, beta=0.02, iterations=100):\n",
    "        self.R = np.nan_to_num(R)  # Заменяем NaN на 0\n",
    "        self.num_users, self.num_items = R.shape\n",
    "        self.K = K\n",
    "        self.alpha = alpha\n",
    "        self.beta = beta\n",
    "        self.iterations = iterations\n",
    "        self.rmse_values = []\n",
    "        self.map_values = []\n",
    "\n",
    "    def train(self):\n",
    "        self.P = np.random.normal(scale=1./self.K, size=(self.num_users, self.K))\n",
    "        self.Q = np.random.normal(scale=1./self.K, size=(self.num_items, self.K))\n",
    "\n",
    "        self.b_u = np.zeros(self.num_users)\n",
    "        self.b_i = np.zeros(self.num_items)\n",
    "        self.b = np.nanmean(self.R)  # Учитываем только ненулевые значения\n",
    "\n",
    "        # Сбор выборки, исключая NaN\n",
    "        self.samples = [\n",
    "            (i, j, self.R[i, j])\n",
    "            for i in range(self.num_users) for j in range(self.num_items)\n",
    "            if not np.isnan(self.R[i, j]) and self.R[i, j] > 0\n",
    "        ]\n",
    "\n",
    "        progress_bar = tqdm(total=self.iterations, desc=\"Training SVD\")\n",
    "        for iteration in range(self.iterations):\n",
    "            np.random.shuffle(self.samples)\n",
    "            self.sgd()\n",
    "            progress_bar.set_postfix({'Iteration': iteration+1})\n",
    "            progress_bar.update(1)\n",
    "        progress_bar.close()\n",
    "\n",
    "    def sgd(self):\n",
    "        for i, j, r in self.samples:\n",
    "            prediction = self.predict(i, j)\n",
    "            error = r - prediction\n",
    "\n",
    "            # Обновление биасов\n",
    "            self.b_u[i] += self.alpha * (error - self.beta * self.b_u[i])\n",
    "            self.b_i[j] += self.alpha * (error - self.beta * self.b_i[j])\n",
    "\n",
    "            # Обновление скрытых факторов\n",
    "            self.P[i, :] += self.alpha * (error * self.Q[j, :] - self.beta * self.P[i, :])\n",
    "            self.Q[j, :] += self.alpha * (error * self.P[i, :] - self.beta * self.Q[j, :])\n",
    "\n",
    "    def predict(self, i, j):\n",
    "        return self.b + self.b_u[i] + self.b_i[j] + self.P[i, :].dot(self.Q[j, :].T)\n",
    "    \n",
    "    def predict_all(self):\n",
    "        predictions = np.zeros((self.num_users, self.num_items))\n",
    "        # progress_bar = tqdm(total=self.num_users * self.num_items, desc=\"Predicting\")\n",
    "        for i in range(self.num_users):\n",
    "            for j in range(self.num_items):\n",
    "                predictions[i, j] = self.predict(i, j)\n",
    "        #         progress_bar.update(1)  # Обновляем прогресс после каждого j\n",
    "        # progress_bar.close()\n",
    "        return predictions\n",
    "\n",
    "    def rmse(self):\n",
    "        xs, ys = np.where(~np.isnan(self.R))  # Исключаем NaN значения\n",
    "        predicted = []\n",
    "        actual = []\n",
    "        for x, y in zip(xs, ys):\n",
    "            predicted.append(self.predict(x, y))\n",
    "            actual.append(self.R[x, y])\n",
    "        return np.sqrt(np.mean((np.array(predicted) - np.array(actual)) ** 2))\n"
   ]
  },
  {
   "cell_type": "markdown",
   "metadata": {},
   "source": [
    "##### Ручная реализация"
   ]
  },
  {
   "cell_type": "code",
   "execution_count": 65,
   "metadata": {},
   "outputs": [
    {
     "data": {
      "application/vnd.jupyter.widget-view+json": {
       "model_id": "e855b871bf5f4c79a8a7306df4147cda",
       "version_major": 2,
       "version_minor": 0
      },
      "text/plain": [
       "  0%|          | 0/610 [00:00<?, ?it/s]"
      ]
     },
     "metadata": {},
     "output_type": "display_data"
    },
    {
     "data": {
      "application/vnd.jupyter.widget-view+json": {
       "model_id": "6bf0294f95c04c50abf568b0371b1290",
       "version_major": 2,
       "version_minor": 0
      },
      "text/plain": [
       "Training SVD:   0%|          | 0/10 [00:00<?, ?it/s]"
      ]
     },
     "metadata": {},
     "output_type": "display_data"
    },
    {
     "name": "stdout",
     "output_type": "stream",
     "text": [
      "$log_2$ max: 9.25\n",
      "$log_2$ max: 9.25\n",
      "$log_2$ max: 9.25\n",
      "$log_2$ max: 9.25\n",
      "$log_2$ max: 13.1\n"
     ]
    }
   ],
   "source": [
    "result_user_cf = collaborative_filtering(R_train, R_test, cf_type='user', use_z_score=False, N=10)\n",
    "result_item_cf = collaborative_filtering(R_train.T, R_test.T, cf_type='item', use_z_score=False, N=10)\n",
    "result_cluster_based_cf = cluster_based_cf(R_train, R_test, n_clusters=30, use_z_score=False, cf_type='user')\n",
    "result_cluster_based_cf_z = cluster_based_cf(R_train, R_test, n_clusters=30, use_z_score=True, cf_type='user')\n",
    "result_voting_based_cf = voting_based_cf(R_train, R_test, cf_type='user', n_neighbors=200, use_knn=False)\n",
    "\n",
    "K = 50\n",
    "iterations = 10\n",
    "alpha = 0.02\n",
    "beta = 0.02\n",
    "\n",
    "svd = SVD(R_train, K=K, iterations=iterations, alpha=alpha, beta=beta)\n",
    "svd.train()\n",
    "results_MF = svd.predict_all()\n",
    "\n",
    "metrics = counting_metrics(R_train, R_test, [result_user_cf, result_cluster_based_cf, result_cluster_based_cf_z, result_voting_based_cf], ['user', 'cluster', 'cluster_z','SVD'])\n",
    "metrics2 = counting_metrics(R_train.T, R_test.T, [result_item_cf], ['item'])"
   ]
  },
  {
   "cell_type": "markdown",
   "metadata": {},
   "source": [
    "##### Surpise and Cornac реализация"
   ]
  },
  {
   "cell_type": "code",
   "execution_count": 66,
   "metadata": {},
   "outputs": [
    {
     "data": {
      "text/plain": [
       "<surprise.prediction_algorithms.matrix_factorization.SVD at 0x12af93ce560>"
      ]
     },
     "execution_count": 66,
     "metadata": {},
     "output_type": "execute_result"
    }
   ],
   "source": [
    "import pandas as pd\n",
    "from surprise import Dataset, Reader\n",
    "from surprise import SVD\n",
    "from surprise.model_selection import train_test_split\n",
    "import numpy as np\n",
    "\n",
    "# Загрузка данных\n",
    "df = pd.read_csv('data/ml-latest-small/ratings.csv')\n",
    "\n",
    "# Подготовка данных для Surprise\n",
    "reader = Reader(rating_scale=(0.5, 5.0))\n",
    "data = Dataset.load_from_df(df[['userId', 'movieId', 'rating']], reader)\n",
    "\n",
    "# Разделение данных на 70/30\n",
    "trainset, testset = train_test_split(data, test_size=0.3, random_state=42)\n",
    "\n",
    "# Обучение модели SVD\n",
    "model_svd = SVD(n_factors=50, n_epochs=100, lr_all=0.02, reg_all=0.02)\n",
    "model_svd.fit(trainset)"
   ]
  },
  {
   "cell_type": "code",
   "execution_count": 67,
   "metadata": {},
   "outputs": [
    {
     "name": "stdout",
     "output_type": "stream",
     "text": [
      "$log_2$ max: 9.25\n"
     ]
    }
   ],
   "source": [
    "# Получаем список всех пользователей и фильмов из оригинального DataFrame\n",
    "all_users = df['userId'].unique()  # Все userId\n",
    "all_items = df['movieId'].unique()  # Все movieId\n",
    "\n",
    "# Создаем матрицу для предсказаний\n",
    "pred_matrix = np.zeros((len(all_users), len(all_items)))\n",
    "\n",
    "# Для каждого пользователя и фильма делаем предсказание\n",
    "for user_index, user_id in enumerate(all_users):\n",
    "    for item_index, item_id in enumerate(all_items):\n",
    "        pred_matrix[user_index, item_index] = model_svd.predict(uid=user_id, iid=item_id).est\n",
    "surprise_metrics = counting_metrics(R_train, R_test, [pd.DataFrame(pred_matrix)], ['SVD_Surprise'])"
   ]
  },
  {
   "cell_type": "code",
   "execution_count": 39,
   "metadata": {},
   "outputs": [
    {
     "name": "stdout",
     "output_type": "stream",
     "text": [
      "\n",
      "TEST:\n",
      "...\n",
      "         |   RMSE | Train (s) | Test (s)\n",
      "-------- + ------ + --------- + --------\n",
      "LightGCN | 1.6592 |  303.6181 |   0.4340\n",
      "NMF      | 0.9396 |    0.0997 |   0.5504\n",
      "\n"
     ]
    }
   ],
   "source": [
    "import cornac\n",
    "from cornac.eval_methods import RatioSplit\n",
    "from cornac.models import NeuMF, BiVAECF, LightGCN, NMF\n",
    "from cornac.metrics import RMSE\n",
    "\n",
    "# Подготовка данных для Cornac\n",
    "df = pd.read_csv('data/ml-latest-small/ratings.csv')\n",
    "feedback = df[['userId', 'movieId', 'rating']].values.tolist()\n",
    "\n",
    "rs = RatioSplit(data=feedback, test_size=0.3, rating_threshold=4.0, seed=42)\n",
    "\n",
    "# model_neumf = NeuMF(num_epochs=1, batch_size=256, num_factors=20, backend='pytorch', layers=(16, 8,), reg=0.01)\n",
    "# model_BiVAECF = BiVAECF(k=10, batch_size=256, n_epochs=10)\n",
    "model_LightGCN = LightGCN(num_epochs=30)\n",
    "model_NMF = NMF(max_iter=10)\n",
    "\n",
    "# Обучение и оценка модели\n",
    "cornac.Experiment(\n",
    "    eval_method=rs,\n",
    "    models=[model_LightGCN, model_NMF],\n",
    "    metrics=[RMSE()]\n",
    ").run()"
   ]
  },
  {
   "cell_type": "code",
   "execution_count": 40,
   "metadata": {},
   "outputs": [
    {
     "data": {
      "application/vnd.jupyter.widget-view+json": {
       "model_id": "80e4626030e44bdab8cbe562941f2471",
       "version_major": 2,
       "version_minor": 0
      },
      "text/plain": [
       "  0%|          | 0/610 [00:00<?, ?it/s]"
      ]
     },
     "metadata": {},
     "output_type": "display_data"
    }
   ],
   "source": [
    "all_user_ids = np.arange(len(df['userId'].unique()))\n",
    "all_item_ids = np.arange(len(df['movieId'].unique()))\n",
    "\n",
    "# Сделать предсказания для всех пар пользователь-фильм\n",
    "predictions_NMF = np.full((len(all_user_ids), len(all_item_ids)), np.nan)\n",
    "predictions_LightGCN = np.full((len(all_user_ids), len(all_item_ids)), np.nan)\n",
    "\n",
    "for user_id in tqdm(all_user_ids):\n",
    "    for item_id in all_item_ids:  # Перебираем все фильмы\n",
    "        try:\n",
    "            pred_NMF = model_NMF.score(user_id, item_id)  # Предсказание для каждого фильма\n",
    "            predictions_NMF[user_id, item_id] = pred_NMF\n",
    "            pred_LightGCN = model_LightGCN.score(user_id, item_id)  # Предсказание для каждого фильма\n",
    "            predictions_LightGCN[user_id, item_id] = pred_LightGCN\n",
    "        except Exception as e:\n",
    "            continue"
   ]
  },
  {
   "cell_type": "code",
   "execution_count": 68,
   "metadata": {},
   "outputs": [
    {
     "name": "stdout",
     "output_type": "stream",
     "text": [
      "$log_2$ max: 9.25\n",
      "$log_2$ max: 9.25\n"
     ]
    }
   ],
   "source": [
    "cornac_metrics = counting_metrics(R_train, R_test, [pd.DataFrame(predictions_NMF), pd.DataFrame(predictions_LightGCN)], ['NMF', 'LightGCN'])"
   ]
  },
  {
   "cell_type": "code",
   "execution_count": 69,
   "metadata": {},
   "outputs": [],
   "source": [
    "metrics_all = pd.concat([metrics, metrics2, surprise_metrics, cornac_metrics], ignore_index=True)"
   ]
  },
  {
   "cell_type": "code",
   "execution_count": 70,
   "metadata": {},
   "outputs": [
    {
     "data": {
      "text/plain": [
       "<Axes: >"
      ]
     },
     "execution_count": 70,
     "metadata": {},
     "output_type": "execute_result"
    },
    {
     "data": {
      "image/png": "[encoded data removed]",
      "text/plain": [
       "<Figure size 640x480 with 1 Axes>"
      ]
     },
     "metadata": {},
     "output_type": "display_data"
    }
   ],
   "source": [
    "metrics_all.set_index('Method')[['MAP@1', 'MAP@5', 'MAP@10', 'MAP@20']].T.plot()"
   ]
  },
  {
   "cell_type": "code",
   "execution_count": 71,
   "metadata": {},
   "outputs": [
    {
     "data": {
      "text/plain": [
       "<Axes: >"
      ]
     },
     "execution_count": 71,
     "metadata": {},
     "output_type": "execute_result"
    },
    {
     "data": {
      "image/png": "[encoded data removed]",
      "text/plain": [
       "<Figure size 640x480 with 1 Axes>"
      ]
     },
     "metadata": {},
     "output_type": "display_data"
    }
   ],
   "source": [
    "metrics_all.set_index('Method')[['NDCG@1', 'NDCG@5', 'NDCG@10', 'NDCG@20']].T.plot()"
   ]
  }
 ],
 "metadata": {
  "kernelspec": {
   "display_name": ".venv",
   "language": "python",
   "name": "python3"
  },
  "language_info": {
   "codemirror_mode": {
    "name": "ipython",
    "version": 3
   },
   "file_extension": ".py",
   "mimetype": "text/x-python",
   "name": "python",
   "nbconvert_exporter": "python",
   "pygments_lexer": "ipython3",
   "version": "3.10.11"
  }
 },
 "nbformat": 4,
 "nbformat_minor": 2
}
