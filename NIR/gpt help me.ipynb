{
 "cells": [
  {
   "cell_type": "markdown",
   "metadata": {},
   "source": [
    "# pems-bay.h5"
   ]
  },
  {
   "cell_type": "code",
   "execution_count": 2,
   "metadata": {},
   "outputs": [],
   "source": [
    "import h5py\n",
    "import pickle\n",
    "import folium\n",
    "import pandas as pd\n",
    "import networkx as nx\n",
    "import matplotlib.pyplot as plt"
   ]
  },
  {
   "cell_type": "code",
   "execution_count": 3,
   "metadata": {},
   "outputs": [],
   "source": [
    "with h5py.File('data/PEMS-BAY/pems-bay.h5', 'r') as file:\n",
    "\n",
    "    axis0 = file['speed']['axis0'][:]               # Идентификаторы датчиков\n",
    "    block0_items = file['speed']['block0_items'][:] # Идентификаторы датчиков\n",
    "    axis1 = file['speed']['axis1'][:]               # Метки времени\n",
    "    timestamps = pd.to_datetime(axis1)              # Преобразование меток времени в формат datetime\n",
    "    speed_data = file['speed']['block0_values'][:]  # Данные замеров скорости\n",
    "\n",
    "perms_bay = pd.DataFrame(speed_data, index=timestamps, columns=axis0)"
   ]
  },
  {
   "cell_type": "code",
   "execution_count": 4,
   "metadata": {},
   "outputs": [
    {
     "name": "stdout",
     "output_type": "stream",
     "text": [
      "<class 'pandas.core.frame.DataFrame'>\n",
      "DatetimeIndex: 52116 entries, 2017-01-01 00:00:00 to 2017-06-30 23:55:00\n",
      "Columns: 325 entries, 400001 to 414694\n",
      "dtypes: float64(325)\n",
      "memory usage: 129.6 MB\n"
     ]
    }
   ],
   "source": [
    "perms_bay.info()"
   ]
  },
  {
   "cell_type": "code",
   "execution_count": 5,
   "metadata": {},
   "outputs": [],
   "source": [
    "# Открытие .pkl файла\n",
    "with open('data/PEMS-BAY/adj_mx_bay.pkl', 'rb') as file:\n",
    "    data = pickle.load(file, encoding='bytes')"
   ]
  },
  {
   "cell_type": "code",
   "execution_count": 6,
   "metadata": {},
   "outputs": [],
   "source": [
    "node_ids = [x.decode('utf-8') for x in data[0]]                     # Получаем список id узлов из data[0]\n",
    "adj_matrix = data[2]                                                # Получаем матрицу смежности из data[2]\n",
    "adj_df = pd.DataFrame(adj_matrix, index=node_ids, columns=node_ids) # Создание DataFrame с использованием id узлов как индексов и названий колонок"
   ]
  },
  {
   "cell_type": "code",
   "execution_count": 7,
   "metadata": {},
   "outputs": [],
   "source": [
    "distances_df = pd.read_csv('data/PEMS-BAY/distances_bay_2017.csv', header=None)\n",
    "locations_df = pd.read_csv('data/PEMS-BAY/graph_sensor_locations_bay.csv', header=None)"
   ]
  },
  {
   "cell_type": "code",
   "execution_count": 8,
   "metadata": {},
   "outputs": [],
   "source": [
    "distances_df.columns = ['from', 'to', 'distance']"
   ]
  },
  {
   "cell_type": "markdown",
   "metadata": {},
   "source": [
    "# Model\n"
   ]
  },
  {
   "cell_type": "code",
   "execution_count": 13,
   "metadata": {},
   "outputs": [
    {
     "ename": "RuntimeError",
     "evalue": "Sizes of tensors must match except in dimension 2. Expected size 32 but got size 1 for tensor number 1 in the list.",
     "output_type": "error",
     "traceback": [
      "\u001b[1;31m---------------------------------------------------------------------------\u001b[0m",
      "\u001b[1;31mRuntimeError\u001b[0m                              Traceback (most recent call last)",
      "Cell \u001b[1;32mIn[13], line 156\u001b[0m\n\u001b[0;32m    153\u001b[0m model \u001b[38;5;241m=\u001b[39m GRU_GCN_Decoder(input_dim, hidden_dim, output_dim, window_size, prediction_size)\n\u001b[0;32m    155\u001b[0m \u001b[38;5;66;03m# Обучение модели\u001b[39;00m\n\u001b[1;32m--> 156\u001b[0m \u001b[43mtrain_model\u001b[49m\u001b[43m(\u001b[49m\u001b[43mmodel\u001b[49m\u001b[43m,\u001b[49m\u001b[43m \u001b[49m\u001b[43mdataloader\u001b[49m\u001b[43m,\u001b[49m\u001b[43m \u001b[49m\u001b[43mepochs\u001b[49m\u001b[43m,\u001b[49m\u001b[43m \u001b[49m\u001b[43mlr\u001b[49m\u001b[43m,\u001b[49m\u001b[43m \u001b[49m\u001b[43mnum_nodes\u001b[49m\u001b[43m,\u001b[49m\u001b[43m \u001b[49m\u001b[43mdevice\u001b[49m\u001b[43m)\u001b[49m\n",
      "Cell \u001b[1;32mIn[13], line 119\u001b[0m, in \u001b[0;36mtrain_model\u001b[1;34m(model, dataloader, epochs, lr, num_nodes, device)\u001b[0m\n\u001b[0;32m    116\u001b[0m y \u001b[38;5;241m=\u001b[39m y\u001b[38;5;241m.\u001b[39mto(device)\n\u001b[0;32m    118\u001b[0m optimizer\u001b[38;5;241m.\u001b[39mzero_grad()\n\u001b[1;32m--> 119\u001b[0m output, h \u001b[38;5;241m=\u001b[39m \u001b[43mmodel\u001b[49m\u001b[43m(\u001b[49m\u001b[43mA\u001b[49m\u001b[43m,\u001b[49m\u001b[43m \u001b[49m\u001b[43mx\u001b[49m\u001b[43m,\u001b[49m\u001b[43m \u001b[49m\u001b[43mh\u001b[49m\u001b[43m)\u001b[49m\n\u001b[0;32m    120\u001b[0m loss \u001b[38;5;241m=\u001b[39m criterion(output, y\u001b[38;5;241m.\u001b[39munsqueeze(\u001b[38;5;241m0\u001b[39m))\n\u001b[0;32m    121\u001b[0m loss\u001b[38;5;241m.\u001b[39mbackward()\n",
      "File \u001b[1;32me:\\Github\\ITMO_subjects\\.venv\\Lib\\site-packages\\torch\\nn\\modules\\module.py:1736\u001b[0m, in \u001b[0;36mModule._wrapped_call_impl\u001b[1;34m(self, *args, **kwargs)\u001b[0m\n\u001b[0;32m   1734\u001b[0m     \u001b[38;5;28;01mreturn\u001b[39;00m \u001b[38;5;28mself\u001b[39m\u001b[38;5;241m.\u001b[39m_compiled_call_impl(\u001b[38;5;241m*\u001b[39margs, \u001b[38;5;241m*\u001b[39m\u001b[38;5;241m*\u001b[39mkwargs)  \u001b[38;5;66;03m# type: ignore[misc]\u001b[39;00m\n\u001b[0;32m   1735\u001b[0m \u001b[38;5;28;01melse\u001b[39;00m:\n\u001b[1;32m-> 1736\u001b[0m     \u001b[38;5;28;01mreturn\u001b[39;00m \u001b[38;5;28;43mself\u001b[39;49m\u001b[38;5;241;43m.\u001b[39;49m\u001b[43m_call_impl\u001b[49m\u001b[43m(\u001b[49m\u001b[38;5;241;43m*\u001b[39;49m\u001b[43margs\u001b[49m\u001b[43m,\u001b[49m\u001b[43m \u001b[49m\u001b[38;5;241;43m*\u001b[39;49m\u001b[38;5;241;43m*\u001b[39;49m\u001b[43mkwargs\u001b[49m\u001b[43m)\u001b[49m\n",
      "File \u001b[1;32me:\\Github\\ITMO_subjects\\.venv\\Lib\\site-packages\\torch\\nn\\modules\\module.py:1747\u001b[0m, in \u001b[0;36mModule._call_impl\u001b[1;34m(self, *args, **kwargs)\u001b[0m\n\u001b[0;32m   1742\u001b[0m \u001b[38;5;66;03m# If we don't have any hooks, we want to skip the rest of the logic in\u001b[39;00m\n\u001b[0;32m   1743\u001b[0m \u001b[38;5;66;03m# this function, and just call forward.\u001b[39;00m\n\u001b[0;32m   1744\u001b[0m \u001b[38;5;28;01mif\u001b[39;00m \u001b[38;5;129;01mnot\u001b[39;00m (\u001b[38;5;28mself\u001b[39m\u001b[38;5;241m.\u001b[39m_backward_hooks \u001b[38;5;129;01mor\u001b[39;00m \u001b[38;5;28mself\u001b[39m\u001b[38;5;241m.\u001b[39m_backward_pre_hooks \u001b[38;5;129;01mor\u001b[39;00m \u001b[38;5;28mself\u001b[39m\u001b[38;5;241m.\u001b[39m_forward_hooks \u001b[38;5;129;01mor\u001b[39;00m \u001b[38;5;28mself\u001b[39m\u001b[38;5;241m.\u001b[39m_forward_pre_hooks\n\u001b[0;32m   1745\u001b[0m         \u001b[38;5;129;01mor\u001b[39;00m _global_backward_pre_hooks \u001b[38;5;129;01mor\u001b[39;00m _global_backward_hooks\n\u001b[0;32m   1746\u001b[0m         \u001b[38;5;129;01mor\u001b[39;00m _global_forward_hooks \u001b[38;5;129;01mor\u001b[39;00m _global_forward_pre_hooks):\n\u001b[1;32m-> 1747\u001b[0m     \u001b[38;5;28;01mreturn\u001b[39;00m \u001b[43mforward_call\u001b[49m\u001b[43m(\u001b[49m\u001b[38;5;241;43m*\u001b[39;49m\u001b[43margs\u001b[49m\u001b[43m,\u001b[49m\u001b[43m \u001b[49m\u001b[38;5;241;43m*\u001b[39;49m\u001b[38;5;241;43m*\u001b[39;49m\u001b[43mkwargs\u001b[49m\u001b[43m)\u001b[49m\n\u001b[0;32m   1749\u001b[0m result \u001b[38;5;241m=\u001b[39m \u001b[38;5;28;01mNone\u001b[39;00m\n\u001b[0;32m   1750\u001b[0m called_always_called_hooks \u001b[38;5;241m=\u001b[39m \u001b[38;5;28mset\u001b[39m()\n",
      "Cell \u001b[1;32mIn[13], line 76\u001b[0m, in \u001b[0;36mGRU_GCN_Decoder.forward\u001b[1;34m(self, A, X, h)\u001b[0m\n\u001b[0;32m     74\u001b[0m \u001b[38;5;28;01mfor\u001b[39;00m t \u001b[38;5;129;01min\u001b[39;00m \u001b[38;5;28mrange\u001b[39m(\u001b[38;5;28mself\u001b[39m\u001b[38;5;241m.\u001b[39mwindow_size):\n\u001b[0;32m     75\u001b[0m     x_t \u001b[38;5;241m=\u001b[39m X[:, t, :, :]  \u001b[38;5;66;03m# (batch_size, num_nodes, input_dim)\u001b[39;00m\n\u001b[1;32m---> 76\u001b[0m     h \u001b[38;5;241m=\u001b[39m \u001b[38;5;28;43mself\u001b[39;49m\u001b[38;5;241;43m.\u001b[39;49m\u001b[43mgru\u001b[49m\u001b[43m(\u001b[49m\u001b[43mx_t\u001b[49m\u001b[43m,\u001b[49m\u001b[43m \u001b[49m\u001b[43mh\u001b[49m\u001b[43m)\u001b[49m  \u001b[38;5;66;03m# (batch_size, num_nodes, hidden_dim)\u001b[39;00m\n\u001b[0;32m     78\u001b[0m \u001b[38;5;66;03m# Проход GCN\u001b[39;00m\n\u001b[0;32m     79\u001b[0m gcn_output \u001b[38;5;241m=\u001b[39m \u001b[38;5;28mself\u001b[39m\u001b[38;5;241m.\u001b[39mgcn(A, h)  \u001b[38;5;66;03m# (batch_size, num_nodes, hidden_dim)\u001b[39;00m\n",
      "File \u001b[1;32me:\\Github\\ITMO_subjects\\.venv\\Lib\\site-packages\\torch\\nn\\modules\\module.py:1736\u001b[0m, in \u001b[0;36mModule._wrapped_call_impl\u001b[1;34m(self, *args, **kwargs)\u001b[0m\n\u001b[0;32m   1734\u001b[0m     \u001b[38;5;28;01mreturn\u001b[39;00m \u001b[38;5;28mself\u001b[39m\u001b[38;5;241m.\u001b[39m_compiled_call_impl(\u001b[38;5;241m*\u001b[39margs, \u001b[38;5;241m*\u001b[39m\u001b[38;5;241m*\u001b[39mkwargs)  \u001b[38;5;66;03m# type: ignore[misc]\u001b[39;00m\n\u001b[0;32m   1735\u001b[0m \u001b[38;5;28;01melse\u001b[39;00m:\n\u001b[1;32m-> 1736\u001b[0m     \u001b[38;5;28;01mreturn\u001b[39;00m \u001b[38;5;28;43mself\u001b[39;49m\u001b[38;5;241;43m.\u001b[39;49m\u001b[43m_call_impl\u001b[49m\u001b[43m(\u001b[49m\u001b[38;5;241;43m*\u001b[39;49m\u001b[43margs\u001b[49m\u001b[43m,\u001b[49m\u001b[43m \u001b[49m\u001b[38;5;241;43m*\u001b[39;49m\u001b[38;5;241;43m*\u001b[39;49m\u001b[43mkwargs\u001b[49m\u001b[43m)\u001b[49m\n",
      "File \u001b[1;32me:\\Github\\ITMO_subjects\\.venv\\Lib\\site-packages\\torch\\nn\\modules\\module.py:1747\u001b[0m, in \u001b[0;36mModule._call_impl\u001b[1;34m(self, *args, **kwargs)\u001b[0m\n\u001b[0;32m   1742\u001b[0m \u001b[38;5;66;03m# If we don't have any hooks, we want to skip the rest of the logic in\u001b[39;00m\n\u001b[0;32m   1743\u001b[0m \u001b[38;5;66;03m# this function, and just call forward.\u001b[39;00m\n\u001b[0;32m   1744\u001b[0m \u001b[38;5;28;01mif\u001b[39;00m \u001b[38;5;129;01mnot\u001b[39;00m (\u001b[38;5;28mself\u001b[39m\u001b[38;5;241m.\u001b[39m_backward_hooks \u001b[38;5;129;01mor\u001b[39;00m \u001b[38;5;28mself\u001b[39m\u001b[38;5;241m.\u001b[39m_backward_pre_hooks \u001b[38;5;129;01mor\u001b[39;00m \u001b[38;5;28mself\u001b[39m\u001b[38;5;241m.\u001b[39m_forward_hooks \u001b[38;5;129;01mor\u001b[39;00m \u001b[38;5;28mself\u001b[39m\u001b[38;5;241m.\u001b[39m_forward_pre_hooks\n\u001b[0;32m   1745\u001b[0m         \u001b[38;5;129;01mor\u001b[39;00m _global_backward_pre_hooks \u001b[38;5;129;01mor\u001b[39;00m _global_backward_hooks\n\u001b[0;32m   1746\u001b[0m         \u001b[38;5;129;01mor\u001b[39;00m _global_forward_hooks \u001b[38;5;129;01mor\u001b[39;00m _global_forward_pre_hooks):\n\u001b[1;32m-> 1747\u001b[0m     \u001b[38;5;28;01mreturn\u001b[39;00m \u001b[43mforward_call\u001b[49m\u001b[43m(\u001b[49m\u001b[38;5;241;43m*\u001b[39;49m\u001b[43margs\u001b[49m\u001b[43m,\u001b[49m\u001b[43m \u001b[49m\u001b[38;5;241;43m*\u001b[39;49m\u001b[38;5;241;43m*\u001b[39;49m\u001b[43mkwargs\u001b[49m\u001b[43m)\u001b[49m\n\u001b[0;32m   1749\u001b[0m result \u001b[38;5;241m=\u001b[39m \u001b[38;5;28;01mNone\u001b[39;00m\n\u001b[0;32m   1750\u001b[0m called_always_called_hooks \u001b[38;5;241m=\u001b[39m \u001b[38;5;28mset\u001b[39m()\n",
      "Cell \u001b[1;32mIn[13], line 32\u001b[0m, in \u001b[0;36mGRU.forward\u001b[1;34m(self, x, h)\u001b[0m\n\u001b[0;32m     29\u001b[0m \u001b[38;5;28;01mdef\u001b[39;00m \u001b[38;5;21mforward\u001b[39m(\u001b[38;5;28mself\u001b[39m, x, h):\n\u001b[0;32m     30\u001b[0m     \u001b[38;5;66;03m# x: (batch_size, num_nodes, input_dim)\u001b[39;00m\n\u001b[0;32m     31\u001b[0m     \u001b[38;5;66;03m# h: (batch_size, num_nodes, hidden_dim)\u001b[39;00m\n\u001b[1;32m---> 32\u001b[0m     combined \u001b[38;5;241m=\u001b[39m \u001b[43mtorch\u001b[49m\u001b[38;5;241;43m.\u001b[39;49m\u001b[43mcat\u001b[49m\u001b[43m(\u001b[49m\u001b[43m(\u001b[49m\u001b[43mx\u001b[49m\u001b[43m,\u001b[49m\u001b[43m \u001b[49m\u001b[43mh\u001b[49m\u001b[43m)\u001b[49m\u001b[43m,\u001b[49m\u001b[43m \u001b[49m\u001b[43mdim\u001b[49m\u001b[38;5;241;43m=\u001b[39;49m\u001b[38;5;241;43m2\u001b[39;49m\u001b[43m)\u001b[49m\n\u001b[0;32m     33\u001b[0m     r \u001b[38;5;241m=\u001b[39m torch\u001b[38;5;241m.\u001b[39msigmoid(\u001b[38;5;28mself\u001b[39m\u001b[38;5;241m.\u001b[39mreset_gate(combined))\n\u001b[0;32m     34\u001b[0m     z \u001b[38;5;241m=\u001b[39m torch\u001b[38;5;241m.\u001b[39msigmoid(\u001b[38;5;28mself\u001b[39m\u001b[38;5;241m.\u001b[39mupdate_gate(combined))\n",
      "\u001b[1;31mRuntimeError\u001b[0m: Sizes of tensors must match except in dimension 2. Expected size 32 but got size 1 for tensor number 1 in the list."
     ]
    }
   ],
   "source": [
    "import torch\n",
    "import torch.nn as nn\n",
    "import torch.optim as optim\n",
    "from torch.utils.data import Dataset, DataLoader\n",
    "import numpy as np\n",
    "\n",
    "# 4. Генерация данных\n",
    "def generate_data(num_nodes, time_steps):\n",
    "    # Матрица смежности\n",
    "    A = np.random.rand(num_nodes, num_nodes)\n",
    "    A = (A > 0.9).astype(np.float32)  # Случайный граф с плотностью 0.1\n",
    "    np.fill_diagonal(A, 1)  # Убедимся, что узлы связаны сами с собой\n",
    "    A = torch.tensor(A, dtype=torch.float32)\n",
    "\n",
    "    # Временной ряд средней скорости\n",
    "    X = np.random.rand(time_steps, num_nodes, 1).astype(np.float32)  # (time_steps, num_nodes, 1)\n",
    "    X = torch.tensor(X, dtype=torch.float32)\n",
    "\n",
    "    return A, X\n",
    "\n",
    "class GRU(nn.Module):\n",
    "    def __init__(self, input_dim, hidden_dim):\n",
    "        super(GRU, self).__init__()\n",
    "        self.hidden_dim = hidden_dim\n",
    "        self.reset_gate = nn.Linear(input_dim + hidden_dim, hidden_dim)\n",
    "        self.update_gate = nn.Linear(input_dim + hidden_dim, hidden_dim)\n",
    "        self.new_gate = nn.Linear(input_dim + hidden_dim, hidden_dim)\n",
    "\n",
    "    def forward(self, x, h):\n",
    "        # x: (batch_size, num_nodes, input_dim)\n",
    "        # h: (batch_size, num_nodes, hidden_dim)\n",
    "        combined = torch.cat((x, h), dim=2)\n",
    "        r = torch.sigmoid(self.reset_gate(combined))\n",
    "        z = torch.sigmoid(self.update_gate(combined))\n",
    "        combined_r = torch.cat((x, r * h), dim=2)\n",
    "        n = torch.tanh(self.new_gate(combined_r))\n",
    "        h_new = (1 - z) * h + z * n\n",
    "        return h_new\n",
    "\n",
    "class GCN(nn.Module):\n",
    "    def __init__(self, input_dim, output_dim):\n",
    "        super(GCN, self).__init__()\n",
    "        self.weight = nn.Parameter(torch.randn(input_dim, output_dim))\n",
    "\n",
    "    def forward(self, A, X):\n",
    "        # A: (num_nodes, num_nodes)\n",
    "        # X: (batch_size, num_nodes, input_dim)\n",
    "        # Нормализация матрицы смежности\n",
    "        D = torch.sum(A, dim=1)\n",
    "        D_inv_sqrt = torch.diag(torch.pow(D, -0.5))\n",
    "        A_norm = torch.mm(torch.mm(D_inv_sqrt, A), D_inv_sqrt)\n",
    "        \n",
    "        # Применяем GCN свертку\n",
    "        output = torch.matmul(A_norm, X)\n",
    "        output = torch.matmul(output, self.weight)\n",
    "        return output\n",
    "\n",
    "class GRU_GCN_Decoder(nn.Module):\n",
    "    def __init__(self, input_dim, hidden_dim, output_dim, window_size, prediction_size):\n",
    "        super(GRU_GCN_Decoder, self).__init__()\n",
    "        self.gru = GRU(input_dim, hidden_dim)\n",
    "        self.gcn = GCN(hidden_dim, hidden_dim)\n",
    "        self.linear_decoder = nn.Linear(hidden_dim, prediction_size)\n",
    "        self.hidden_dim = hidden_dim\n",
    "        self.window_size = window_size\n",
    "\n",
    "    def forward(self, A, X, h):\n",
    "        # A: (num_nodes, num_nodes)\n",
    "        # X: (batch_size, window_size, num_nodes, input_dim)\n",
    "        # h: (batch_size, num_nodes, hidden_dim)\n",
    "        batch_size, _, num_nodes, _ = X.shape\n",
    "        \n",
    "        # Проход GRU по окну\n",
    "        for t in range(self.window_size):\n",
    "            x_t = X[:, t, :, :]  # (batch_size, num_nodes, input_dim)\n",
    "            h = self.gru(x_t, h)  # (batch_size, num_nodes, hidden_dim)\n",
    "\n",
    "        # Проход GCN\n",
    "        gcn_output = self.gcn(A, h)  # (batch_size, num_nodes, hidden_dim)\n",
    "\n",
    "        # Декодер\n",
    "        output = self.linear_decoder(gcn_output)  # (batch_size, num_nodes, prediction_size)\n",
    "        return output, h\n",
    "\n",
    "class TrafficDataset(Dataset):\n",
    "    def __init__(self, A, X, window_size, prediction_size):\n",
    "        self.A = A\n",
    "        self.X = X\n",
    "        self.window_size = window_size\n",
    "        self.prediction_size = prediction_size\n",
    "\n",
    "    def __len__(self):\n",
    "        return len(self.X) - self.window_size - self.prediction_size + 1\n",
    "\n",
    "    def __getitem__(self, idx):\n",
    "        x = self.X[idx:idx + self.window_size]\n",
    "        y = self.X[idx + self.window_size:idx + self.window_size + self.prediction_size]\n",
    "        return self.A, x, y\n",
    "\n",
    "def train_model(model, dataloader, epochs, lr, num_nodes, device):\n",
    "    criterion = nn.MSELoss()\n",
    "    optimizer = optim.Adam(model.parameters(), lr=lr)\n",
    "    \n",
    "    model = model.to(device)\n",
    "\n",
    "    for epoch in range(epochs):\n",
    "        model.train()\n",
    "        total_loss = 0\n",
    "        # Инициализируем h с правильной размерностью\n",
    "        h = torch.zeros(1, num_nodes, model.hidden_dim, device=device)\n",
    "\n",
    "        for A, x, y in dataloader:\n",
    "            # Перемещаем данные на устройство\n",
    "            A = A.to(device)\n",
    "            x = x.to(device)\n",
    "            y = y.to(device)\n",
    "            \n",
    "            optimizer.zero_grad()\n",
    "            output, h = model(A, x.unsqueeze(0), h)\n",
    "            loss = criterion(output, y.unsqueeze(0))\n",
    "            loss.backward()\n",
    "            optimizer.step()\n",
    "            \n",
    "            # Отсоединяем h от графа вычислений\n",
    "            h = h.detach()\n",
    "            total_loss += loss.item()\n",
    "\n",
    "        print(f\"Epoch {epoch+1}/{epochs}, Loss: {total_loss/len(dataloader)}\")\n",
    "\n",
    "# Параметры\n",
    "device = torch.device('cuda' if torch.cuda.is_available() else 'cpu')\n",
    "num_nodes = 50\n",
    "time_steps = 1000\n",
    "input_dim = 1\n",
    "hidden_dim = 64\n",
    "output_dim = 1\n",
    "window_size = 12\n",
    "prediction_size = 3\n",
    "epochs = 10\n",
    "lr = 0.001\n",
    "batch_size = 32\n",
    "\n",
    "# Генерация данных\n",
    "A, X = generate_data(num_nodes, time_steps)\n",
    "A = A.to(device)\n",
    "X = X.to(device)\n",
    "\n",
    "# Создание датасета и загрузчика данных\n",
    "dataset = TrafficDataset(A, X, window_size, prediction_size)\n",
    "dataloader = DataLoader(dataset, batch_size=batch_size, shuffle=True)\n",
    "\n",
    "# Инициализация модели\n",
    "model = GRU_GCN_Decoder(input_dim, hidden_dim, output_dim, window_size, prediction_size)\n",
    "\n",
    "# Обучение модели\n",
    "train_model(model, dataloader, epochs, lr, num_nodes, device)"
   ]
  },
  {
   "cell_type": "code",
   "execution_count": 12,
   "metadata": {},
   "outputs": [
    {
     "name": "stdout",
     "output_type": "stream",
     "text": [
      "A.shape, x.shape, y.shape = (torch.Size([32, 50, 50]), torch.Size([32, 12, 50, 1]), torch.Size([32, 3, 50, 1]))\n"
     ]
    }
   ],
   "source": [
    "for A, x, y in dataloader:\n",
    "    print(f'{A.shape, x.shape, y.shape = }')\n",
    "    break"
   ]
  }
 ],
 "metadata": {
  "kernelspec": {
   "display_name": ".venv",
   "language": "python",
   "name": "python3"
  },
  "language_info": {
   "codemirror_mode": {
    "name": "ipython",
    "version": 3
   },
   "file_extension": ".py",
   "mimetype": "text/x-python",
   "name": "python",
   "nbconvert_exporter": "python",
   "pygments_lexer": "ipython3",
   "version": "3.11.7"
  }
 },
 "nbformat": 4,
 "nbformat_minor": 2
}
