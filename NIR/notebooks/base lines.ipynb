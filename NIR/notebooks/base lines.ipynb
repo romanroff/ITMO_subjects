{
 "cells": [
  {
   "cell_type": "code",
   "execution_count": 40,
   "metadata": {},
   "outputs": [],
   "source": [
    "import os\n",
    "import sys\n",
    "from pathlib import Path\n",
    "sys.path.append(str(Path(os.getcwd()).resolve().parent))\n",
    "\n",
    "import math\n",
    "import numpy as np\n",
    "import pandas as pd\n",
    "import numpy.linalg as la\n",
    "from utils.load_data import load_data\n",
    "from sklearn.metrics import mean_squared_error, mean_absolute_error\n",
    "from sklearn.svm import SVR\n",
    "from statsmodels.tsa.arima.model import ARIMA\n",
    "from tqdm import tqdm\n",
    "from tabulate import tabulate\n",
    "\n",
    "import warnings\n",
    "warnings.filterwarnings(\"ignore\")\n",
    "\n",
    "\n",
    "# Предобработка данных\n",
    "def preprocess_data(data, time_len, rate, seq_len, pre_len):\n",
    "    data = np.array(data)\n",
    "    train_size = int(time_len * rate)\n",
    "    train_data = data[:train_size]\n",
    "    test_data = data[train_size:time_len]\n",
    "\n",
    "    trainX, trainY, testX, testY = [], [], [], []\n",
    "    for i in range(len(train_data) - seq_len - pre_len):\n",
    "        a = train_data[i: i + seq_len + pre_len]\n",
    "        trainX.append(a[0: seq_len])\n",
    "        trainY.append(a[seq_len: seq_len + pre_len])\n",
    "    for i in range(len(test_data) - seq_len - pre_len):\n",
    "        b = test_data[i: i + seq_len + pre_len]\n",
    "        testX.append(b[0: seq_len])\n",
    "        testY.append(b[seq_len: seq_len + pre_len])\n",
    "    return np.array(trainX), np.array(trainY), np.array(testX), np.array(testY)\n",
    "\n",
    "# Метрики\n",
    "def evaluation(a, b):\n",
    "    rmse = math.sqrt(mean_squared_error(a, b))\n",
    "    mae = mean_absolute_error(a, b)\n",
    "    F_norm = la.norm(a - b) / la.norm(a)\n",
    "    r2 = 1 - ((a - b) ** 2).sum() / ((a - a.mean()) ** 2).sum()\n",
    "    var = 1 - (np.var(a - b)) / np.var(a)\n",
    "    return rmse, mae, 1 - F_norm, r2, var"
   ]
  },
  {
   "cell_type": "code",
   "execution_count": 41,
   "metadata": {},
   "outputs": [],
   "source": [
    "# Модель HA\n",
    "def run_ha(data, pre_len):\n",
    "    \"\"\"\n",
    "    Простая модель HA (Historical Average).\n",
    "\n",
    "    Параметры:\n",
    "    - data: данные в формате [ts, nodes].\n",
    "    - pre_len: длина предсказания.\n",
    "\n",
    "    Возвращает:\n",
    "    - Список метрик: ['HA', rmse, mae, accuracy, r2, var].\n",
    "    \"\"\"\n",
    "    historical_data = data[:-pre_len, :]  # Все данные, кроме последних pre_len\n",
    "    ha_prediction = np.mean(historical_data, axis=0)  # Среднее по временной оси\n",
    "    result = np.tile(ha_prediction, (pre_len, 1))  # Повторяем предсказание для pre_len шагов\n",
    "\n",
    "    testY = data[-pre_len:, :]  # Реальные значения для сравнения\n",
    "    rmse, mae, accuracy, r2, var = evaluation(testY, result)  # Расчет метрик\n",
    "\n",
    "    return ['HA', rmse, mae, accuracy, r2, var]\n",
    "\n",
    "# Модель SVR\n",
    "def run_svr(trainX, trainY, testX, testY, seq_len, pre_len, num_nodes):\n",
    "    result = []\n",
    "    \n",
    "    for i in tqdm(range(num_nodes), desc=\"Processing SVR\"):\n",
    "        # Преобразование входных и выходных данных\n",
    "        a_X = trainX[:, :, i].reshape(-1, seq_len)  # Входные данные\n",
    "        a_Y = trainY[:, :, i].reshape(-1, pre_len).mean(axis=1)  # Усреднение по следующим шагам\n",
    "        \n",
    "        t_X = testX[:, :, i].reshape(-1, seq_len)  # Данные для предсказания\n",
    "\n",
    "        # Инициализация и обучение модели\n",
    "        svr_model = SVR(kernel='linear')\n",
    "        svr_model.fit(a_X, a_Y)\n",
    "\n",
    "        # Предсказания для каждого шага\n",
    "        pre = svr_model.predict(t_X)\n",
    "        \n",
    "        # Рекурсивное обновление предсказаний для нескольких шагов (если pre_len > 1)\n",
    "        if pre_len > 1:\n",
    "            pred_sequence = pre[:, None]\n",
    "            for j in range(1, pre_len):\n",
    "                t_X_new = np.roll(t_X, shift=-1, axis=0)\n",
    "                t_X_new[-1, :] = pred_sequence[-1, :]\n",
    "                pred = svr_model.predict(t_X_new)\n",
    "                pred_sequence = np.concatenate([pred_sequence, pred[:, None]], axis=1)\n",
    "            pre = pred_sequence.mean(axis=1)  # Усреднение предсказаний, если требуется\n",
    "        \n",
    "        # Расширение предсказаний до нужной размерности\n",
    "        pre = np.tile(pre[:, None], (1, pre_len))  \n",
    "        result.append(pre)\n",
    "\n",
    "    # Конвертация в нужную форму\n",
    "    result = np.array(result).transpose(1, 2, 0).reshape(-1, num_nodes) \n",
    "    testY = testY.reshape(-1, num_nodes) \n",
    "\n",
    "    # Оценка модели\n",
    "    rmse, mae, accuracy, r2, var = evaluation(testY, result)\n",
    "    return ['SVR', rmse, mae, accuracy, r2, var]\n",
    "\n",
    "\n",
    "# Модель ARIMA\n",
    "# Модель ARIMA\n",
    "def run_arima(data, pre_len, num_nodes):\n",
    "    rmse, mae, accuracy, r2, var = [], [], [], [], []\n",
    "    \n",
    "    for i in tqdm(range(num_nodes), desc=\"Processing ARIMA\"):\n",
    "        # Получаем временной ряд для текущего узла\n",
    "        ts = data[:, i]\n",
    "        \n",
    "        # Убираем последние `pre_len` шагов из обучающего ряда\n",
    "        ts_train = ts[:-pre_len]  # Все, кроме последних pre_len шагов\n",
    "        ts_test = ts[-pre_len:]   # Последние pre_len шагов для тестирования\n",
    "        \n",
    "        # Логарифмируем временной ряд для стабильности модели\n",
    "        ts_log = np.log1p(ts_train)\n",
    "        ts_series = pd.Series(ts_log)\n",
    "        \n",
    "        try:\n",
    "            # Обучаем модель ARIMA на всем обучающем ряду\n",
    "            model = ARIMA(ts_series, order=(1, 0, 0))\n",
    "            properModel = model.fit()\n",
    "\n",
    "            # Предсказание на следующие `pre_len` шагов\n",
    "            predict_ts = properModel.predict(start=len(ts_series), end=len(ts_series) + pre_len - 1, dynamic=True)\n",
    "            log_recover = np.expm1(predict_ts)  # Преобразуем обратно в исходную шкалу\n",
    "\n",
    "            # Оценка ошибки предсказания\n",
    "            er_rmse, er_mae, er_acc, r2_score, var_score = evaluation(ts_test, log_recover)\n",
    "\n",
    "        except Exception as e:\n",
    "            er_rmse = er_mae = er_acc = r2_score = var_score = np.nan\n",
    "\n",
    "        rmse.append(er_rmse)\n",
    "        mae.append(er_mae)\n",
    "        accuracy.append(er_acc)\n",
    "        r2.append(r2_score)\n",
    "        var.append(var_score)\n",
    "\n",
    "    # Возвращаем усредненные метрики\n",
    "    accuracy = np.clip(accuracy, 0, None)\n",
    "    return ['ARIMA', np.nanmean(rmse), np.nanmean(mae), np.nanmean(accuracy), np.nanmean(r2), np.nanmean(var)]\n"
   ]
  },
  {
   "cell_type": "markdown",
   "metadata": {},
   "source": [
    "# METR-LA"
   ]
  },
  {
   "cell_type": "code",
   "execution_count": 48,
   "metadata": {},
   "outputs": [],
   "source": [
    "data_dir = '../data/all_data/METR-LA'\n",
    "metr_la, metadata, adj_matrix = load_data(data_dir)\n",
    "metr_la = metr_la[:, :12, 0]"
   ]
  },
  {
   "cell_type": "code",
   "execution_count": 51,
   "metadata": {},
   "outputs": [
    {
     "name": "stderr",
     "output_type": "stream",
     "text": [
      "Processing ARIMA:   0%|          | 0/12 [00:00<?, ?it/s]"
     ]
    },
    {
     "name": "stderr",
     "output_type": "stream",
     "text": [
      "Processing ARIMA: 100%|██████████| 12/12 [00:03<00:00,  3.26it/s]\n",
      "Processing ARIMA: 100%|██████████| 12/12 [00:03<00:00,  3.75it/s]\n",
      "Processing ARIMA: 100%|██████████| 12/12 [00:03<00:00,  3.78it/s]"
     ]
    },
    {
     "name": "stdout",
     "output_type": "stream",
     "text": [
      "\n",
      "Results for pre_len=3:\n",
      "Method       RMSE      MAE    Accuracy        R2        Var\n",
      "--------  -------  -------  ----------  --------  ---------\n",
      "HA        8.36438  6.99219    0.871012  -11.2082   -2.73174\n",
      "ARIMA     6.17932  5.69297    0.904676  -86.6429  -10.2661\n",
      "\n",
      "Results for pre_len=6:\n",
      "Method       RMSE     MAE    Accuracy        R2       Var\n",
      "--------  -------  ------  ----------  --------  --------\n",
      "HA        8.55453  7.1496    0.868181  -10.1381  -2.62996\n",
      "ARIMA     8.51614  7.9938    0.868742  -36.4206  -2.86803\n",
      "\n",
      "Results for pre_len=12:\n",
      "Method       RMSE      MAE    Accuracy         R2       Var\n",
      "--------  -------  -------  ----------  ---------  --------\n",
      "HA         8.3993  6.99218    0.870008   -6.63941  -1.7203\n",
      "ARIMA     10.4309  9.79772    0.838421  -29.8846   -2.13142\n"
     ]
    },
    {
     "name": "stderr",
     "output_type": "stream",
     "text": [
      "\n"
     ]
    }
   ],
   "source": [
    "# Основные параметры\n",
    "time_len = metr_la.shape[0]\n",
    "num_nodes = metr_la.shape[1]\n",
    "train_rate = 0.8\n",
    "seq_len = 12\n",
    "pre_len_list = [3, 6, 12]  # Шаги предсказания\n",
    "\n",
    "# Словарь для хранения результатов\n",
    "results_dict = {pre_len: [] for pre_len in pre_len_list}\n",
    "\n",
    "# Запуск для каждого шага предсказания\n",
    "for pre_len in pre_len_list:\n",
    "    trainX, trainY, testX, testY = preprocess_data(metr_la, time_len, train_rate, seq_len, pre_len)\n",
    "    \n",
    "    # HA\n",
    "    results_dict[pre_len].append(run_ha(metr_la, pre_len))\n",
    "    # SVR\n",
    "    # results_dict[pre_len].append(run_svr(trainX, trainY, testX, testY, seq_len, pre_len, num_nodes))\n",
    "    # ARIMA\n",
    "    results_dict[pre_len].append(run_arima(metr_la, pre_len, num_nodes))\n",
    "\n",
    "# Вывод результатов\n",
    "for pre_len, results in results_dict.items():\n",
    "    print(f\"\\nResults for pre_len={pre_len}:\")\n",
    "    print(tabulate(results, headers=[\"Method\", \"RMSE\", \"MAE\", \"Accuracy\", \"R2\", \"Var\"]))"
   ]
  },
  {
   "cell_type": "markdown",
   "metadata": {},
   "source": [
    "# PEMS-BAY"
   ]
  },
  {
   "cell_type": "code",
   "execution_count": 47,
   "metadata": {},
   "outputs": [],
   "source": [
    "data_dir = '../data/all_data/PEMS-BAY'\n",
    "pems_bay, metadata, adj_matrix = load_data(data_dir)\n",
    "pems_bay = pems_bay[:, :12, 0]"
   ]
  },
  {
   "cell_type": "code",
   "execution_count": 50,
   "metadata": {},
   "outputs": [
    {
     "name": "stderr",
     "output_type": "stream",
     "text": [
      "Processing ARIMA:   0%|          | 0/12 [00:00<?, ?it/s]"
     ]
    },
    {
     "name": "stderr",
     "output_type": "stream",
     "text": [
      "Processing ARIMA: 100%|██████████| 12/12 [00:05<00:00,  2.25it/s]\n",
      "Processing ARIMA: 100%|██████████| 12/12 [00:04<00:00,  2.47it/s]\n",
      "Processing ARIMA: 100%|██████████| 12/12 [00:03<00:00,  3.01it/s]"
     ]
    },
    {
     "name": "stdout",
     "output_type": "stream",
     "text": [
      "\n",
      "Results for pre_len=3:\n",
      "Method        RMSE       MAE    Accuracy         R2        Var\n",
      "--------  --------  --------  ----------  ---------  ---------\n",
      "HA        4.00398   3.55908     0.939388   -1.50307   0.474659\n",
      "ARIMA     0.577818  0.518097    0.991202  -28.2      -0.876185\n",
      "\n",
      "Results for pre_len=6:\n",
      "Method        RMSE       MAE    Accuracy        R2        Var\n",
      "--------  --------  --------  ----------  --------  ---------\n",
      "HA        4.13708   3.66051     0.937462  -1.82843   0.385902\n",
      "ARIMA     0.854843  0.772709    0.987048  -8.33254  -0.463787\n",
      "\n",
      "Results for pre_len=12:\n",
      "Method       RMSE      MAE    Accuracy        R2        Var\n",
      "--------  -------  -------  ----------  --------  ---------\n",
      "HA        3.88132  3.38935    0.940983  -1.12122   0.388085\n",
      "ARIMA     1.73009  1.57327    0.973341  -5.978    -0.547816\n"
     ]
    },
    {
     "name": "stderr",
     "output_type": "stream",
     "text": [
      "\n"
     ]
    }
   ],
   "source": [
    "# Основные параметры\n",
    "time_len = pems_bay.shape[0]\n",
    "num_nodes = pems_bay.shape[1]\n",
    "train_rate = 0.8\n",
    "seq_len = 12\n",
    "pre_len_list = [3, 6, 12]  # Шаги предсказания\n",
    "\n",
    "# Словарь для хранения результатов\n",
    "results_dict = {pre_len: [] for pre_len in pre_len_list}\n",
    "\n",
    "# Запуск для каждого шага предсказания\n",
    "for pre_len in pre_len_list:\n",
    "    trainX, trainY, testX, testY = preprocess_data(pems_bay, time_len, train_rate, seq_len, pre_len)\n",
    "    \n",
    "    # HA\n",
    "    results_dict[pre_len].append(run_ha(pems_bay, pre_len))\n",
    "    # SVR\n",
    "    # results_dict[pre_len].append(run_svr(trainX, trainY, testX, testY, seq_len, pre_len, num_nodes))\n",
    "    # ARIMA\n",
    "    results_dict[pre_len].append(run_arima(pems_bay, pre_len, num_nodes))\n",
    "\n",
    "# Вывод результатов\n",
    "for pre_len, results in results_dict.items():\n",
    "    print(f\"\\nResults for pre_len={pre_len}:\")\n",
    "    print(tabulate(results, headers=[\"Method\", \"RMSE\", \"MAE\", \"Accuracy\", \"R2\", \"Var\"]))"
   ]
  },
  {
   "cell_type": "markdown",
   "metadata": {},
   "source": [
    "# PEMS03"
   ]
  },
  {
   "cell_type": "code",
   "execution_count": 60,
   "metadata": {},
   "outputs": [],
   "source": [
    "data_dir = '../data/all_data/PEMS03'\n",
    "pems03, metadata, adj_matrix = load_data(data_dir)\n",
    "pems03 = pems03[:, :12, 0]"
   ]
  },
  {
   "cell_type": "code",
   "execution_count": 55,
   "metadata": {},
   "outputs": [
    {
     "name": "stderr",
     "output_type": "stream",
     "text": [
      "Processing ARIMA: 100%|██████████| 12/12 [00:02<00:00,  4.10it/s]\n",
      "Processing ARIMA: 100%|██████████| 12/12 [00:03<00:00,  3.30it/s]\n",
      "Processing ARIMA: 100%|██████████| 12/12 [00:05<00:00,  2.34it/s]"
     ]
    },
    {
     "name": "stdout",
     "output_type": "stream",
     "text": [
      "\n",
      "Results for pre_len=3:\n",
      "Method        RMSE       MAE    Accuracy         R2         Var\n",
      "--------  --------  --------  ----------  ---------  ----------\n",
      "HA        115.382   107.743    -0.174197   -6.94592  -0.0173395\n",
      "ARIMA      13.1865   12.2542    0.819217  -25.0549   -0.232226\n",
      "\n",
      "Results for pre_len=6:\n",
      "Method        RMSE       MAE    Accuracy        R2        Var\n",
      "--------  --------  --------  ----------  --------  ---------\n",
      "HA        109.775   102.624   -0.0575718  -5.60094   0.168007\n",
      "ARIMA      14.7647   12.6849   0.818581   -2.01118  -0.164438\n",
      "\n",
      "Results for pre_len=12:\n",
      "Method       RMSE      MAE    Accuracy        R2         Var\n",
      "--------  -------  -------  ----------  --------  ----------\n",
      "HA        99.0735  91.6067    0.158388  -2.70034   0.463252\n",
      "ARIMA     41.6243  37.587     0.618807  -4.60484  -0.0727865\n"
     ]
    },
    {
     "name": "stderr",
     "output_type": "stream",
     "text": [
      "\n"
     ]
    }
   ],
   "source": [
    "# Основные параметры\n",
    "time_len = pems03.shape[0]\n",
    "num_nodes = pems03.shape[1]\n",
    "train_rate = 0.8\n",
    "seq_len = 12\n",
    "pre_len_list = [3, 6, 12]  # Шаги предсказания\n",
    "\n",
    "# Словарь для хранения результатов\n",
    "results_dict = {pre_len: [] for pre_len in pre_len_list}\n",
    "\n",
    "# Запуск для каждого шага предсказания\n",
    "for pre_len in pre_len_list:\n",
    "    trainX, trainY, testX, testY = preprocess_data(pems03, time_len, train_rate, seq_len, pre_len)\n",
    "    \n",
    "    # HA\n",
    "    results_dict[pre_len].append(run_ha(pems03, pre_len))\n",
    "    # SVR\n",
    "    # results_dict[pre_len].append(run_svr(trainX, trainY, testX, testY, seq_len, pre_len, num_nodes))\n",
    "    # ARIMA\n",
    "    results_dict[pre_len].append(run_arima(pems03, pre_len, num_nodes))\n",
    "\n",
    "# Вывод результатов\n",
    "for pre_len, results in results_dict.items():\n",
    "    print(f\"\\nResults for pre_len={pre_len}:\")\n",
    "    print(tabulate(results, headers=[\"Method\", \"RMSE\", \"MAE\", \"Accuracy\", \"R2\", \"Var\"]))"
   ]
  },
  {
   "cell_type": "markdown",
   "metadata": {},
   "source": [
    "# PEMS04"
   ]
  },
  {
   "cell_type": "code",
   "execution_count": 61,
   "metadata": {},
   "outputs": [],
   "source": [
    "data_dir = '../data/all_data/PEMS04'\n",
    "pems04, metadata, adj_matrix = load_data(data_dir)\n",
    "pems04 = pems04[:, :12, 0]"
   ]
  },
  {
   "cell_type": "code",
   "execution_count": 62,
   "metadata": {},
   "outputs": [
    {
     "name": "stderr",
     "output_type": "stream",
     "text": [
      "Processing ARIMA: 100%|██████████| 12/12 [00:04<00:00,  2.73it/s]\n",
      "Processing ARIMA: 100%|██████████| 12/12 [00:03<00:00,  3.01it/s]\n",
      "Processing ARIMA: 100%|██████████| 12/12 [00:03<00:00,  3.01it/s]"
     ]
    },
    {
     "name": "stdout",
     "output_type": "stream",
     "text": [
      "\n",
      "Results for pre_len=3:\n",
      "Method        RMSE       MAE    Accuracy         R2        Var\n",
      "--------  --------  --------  ----------  ---------  ---------\n",
      "HA        126.875   121.943    -0.987286  -16.5322   -0.336638\n",
      "ARIMA      15.0642   13.6095    0.705606   -6.69337  -0.400227\n",
      "\n",
      "Results for pre_len=6:\n",
      "Method        RMSE        MAE    Accuracy         R2        Var\n",
      "--------  --------  ---------  ----------  ---------  ---------\n",
      "HA        124.074   119.436     -0.865392  -15.0722   -0.179204\n",
      "ARIMA      12.1685    9.92754    0.78215    -1.63309  -0.543739\n",
      "\n",
      "Results for pre_len=12:\n",
      "Method        RMSE       MAE    Accuracy         R2         Var\n",
      "--------  --------  --------  ----------  ---------  ----------\n",
      "HA        120       115.588    -0.687947  -12.3567    0.0359209\n",
      "ARIMA      30.6987   28.6245    0.509471   -9.15834  -0.331052\n"
     ]
    },
    {
     "name": "stderr",
     "output_type": "stream",
     "text": [
      "\n"
     ]
    }
   ],
   "source": [
    "# Основные параметры\n",
    "time_len = pems04.shape[0]\n",
    "num_nodes = pems04.shape[1]\n",
    "train_rate = 0.8\n",
    "seq_len = 12\n",
    "pre_len_list = [3, 6, 12]  # Шаги предсказания\n",
    "\n",
    "# Словарь для хранения результатов\n",
    "results_dict = {pre_len: [] for pre_len in pre_len_list}\n",
    "\n",
    "# Запуск для каждого шага предсказания\n",
    "for pre_len in pre_len_list:\n",
    "    trainX, trainY, testX, testY = preprocess_data(pems04, time_len, train_rate, seq_len, pre_len)\n",
    "    \n",
    "    # HA\n",
    "    results_dict[pre_len].append(run_ha(pems04, pre_len))\n",
    "    # SVR\n",
    "    # results_dict[pre_len].append(run_svr(trainX, trainY, testX, testY, seq_len, pre_len, num_nodes))\n",
    "    # ARIMA\n",
    "    results_dict[pre_len].append(run_arima(pems04, pre_len, num_nodes))\n",
    "\n",
    "# Вывод результатов\n",
    "for pre_len, results in results_dict.items():\n",
    "    print(f\"\\nResults for pre_len={pre_len}:\")\n",
    "    print(tabulate(results, headers=[\"Method\", \"RMSE\", \"MAE\", \"Accuracy\", \"R2\", \"Var\"]))"
   ]
  }
 ],
 "metadata": {
  "kernelspec": {
   "display_name": ".venv",
   "language": "python",
   "name": "python3"
  },
  "language_info": {
   "codemirror_mode": {
    "name": "ipython",
    "version": 3
   },
   "file_extension": ".py",
   "mimetype": "text/x-python",
   "name": "python",
   "nbconvert_exporter": "python",
   "pygments_lexer": "ipython3",
   "version": "3.11.7"
  }
 },
 "nbformat": 4,
 "nbformat_minor": 2
}
