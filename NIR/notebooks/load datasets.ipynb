{
 "cells": [
  {
   "cell_type": "code",
   "execution_count": 1,
   "metadata": {},
   "outputs": [],
   "source": [
    "import os\n",
    "import sys\n",
    "from pathlib import Path\n",
    "\n",
    "# Добавляем путь на уровень выше\n",
    "sys.path.append(str(Path(os.getcwd()).resolve().parent))\n",
    "\n",
    "import math\n",
    "import h5py\n",
    "import pickle\n",
    "import numpy as np\n",
    "import pandas as pd\n",
    "import numpy.linalg as la\n",
    "\n",
    "from tqdm import tqdm\n",
    "from utils import load_data\n",
    "from sklearn.svm import SVR\n",
    "from tabulate import tabulate\n",
    "from statsmodels.tsa.arima.model import ARIMA\n",
    "from sklearn.metrics import mean_squared_error, mean_absolute_error\n",
    "\n",
    "import warnings\n",
    "warnings.filterwarnings(\"ignore\")\n"
   ]
  },
  {
   "cell_type": "code",
   "execution_count": 2,
   "metadata": {},
   "outputs": [
    {
     "name": "stdout",
     "output_type": "stream",
     "text": [
      "Метаданные: {'name': 'PEMS03', 'domain': 'traffic flow', 'shape': [26208, 358, 3], 'num_time_steps': 26208, 'num_nodes': 358, 'num_features': 3, 'feature_description': ['traffic flow', 'time of day', 'day of week'], 'has_graph': True, 'frequency (minutes)': 5, 'regular_settings': {'INPUT_LEN': 12, 'OUTPUT_LEN': 12, 'TRAIN_VAL_TEST_RATIO': [0.6, 0.2, 0.2], 'NORM_EACH_CHANNEL': False, 'RESCALE': True, 'METRICS': ['MAE', 'RMSE', 'MAPE'], 'NULL_VAL': 0.0}}\n",
      "Форма данных: (2016, 358, 3)\n",
      "Матрица смежности: True\n",
      "Метаданные: {'name': 'PEMS04', 'domain': 'traffic flow', 'shape': [16992, 307, 3], 'num_time_steps': 16992, 'num_nodes': 307, 'num_features': 3, 'feature_description': ['traffic flow', 'time of day', 'day of week'], 'has_graph': True, 'frequency (minutes)': 5, 'regular_settings': {'INPUT_LEN': 12, 'OUTPUT_LEN': 12, 'TRAIN_VAL_TEST_RATIO': [0.6, 0.2, 0.2], 'NORM_EACH_CHANNEL': False, 'RESCALE': True, 'METRICS': ['MAE', 'RMSE', 'MAPE'], 'NULL_VAL': 0.0}}\n",
      "Форма данных: (2016, 307, 3)\n",
      "Матрица смежности: True\n",
      "Метаданные: {'name': 'PEMS07', 'domain': 'traffic flow', 'shape': [28224, 883, 3], 'num_time_steps': 28224, 'num_nodes': 883, 'num_features': 3, 'feature_description': ['traffic flow', 'time of day', 'day of week'], 'has_graph': True, 'frequency (minutes)': 5, 'regular_settings': {'INPUT_LEN': 12, 'OUTPUT_LEN': 12, 'TRAIN_VAL_TEST_RATIO': [0.6, 0.2, 0.2], 'NORM_EACH_CHANNEL': False, 'RESCALE': True, 'METRICS': ['MAE', 'RMSE', 'MAPE'], 'NULL_VAL': 0.0}}\n",
      "Форма данных: (2016, 883, 3)\n",
      "Матрица смежности: True\n",
      "Метаданные: {'name': 'PEMS08', 'domain': 'traffic flow', 'shape': [17856, 170, 3], 'num_time_steps': 17856, 'num_nodes': 170, 'num_features': 3, 'feature_description': ['traffic flow', 'time of day', 'day of week'], 'has_graph': True, 'frequency (minutes)': 5, 'regular_settings': {'INPUT_LEN': 12, 'OUTPUT_LEN': 12, 'TRAIN_VAL_TEST_RATIO': [0.6, 0.2, 0.2], 'NORM_EACH_CHANNEL': False, 'RESCALE': True, 'METRICS': ['MAE', 'RMSE', 'MAPE'], 'NULL_VAL': 0.0}}\n",
      "Форма данных: (2016, 170, 3)\n",
      "Матрица смежности: True\n",
      "Метаданные: {'name': 'METR-LA', 'domain': 'traffic speed', 'shape': [34272, 207, 3], 'num_time_steps': 34272, 'num_nodes': 207, 'num_features': 3, 'feature_description': ['traffic speed', 'time of day', 'day of week'], 'has_graph': True, 'frequency (minutes)': 5, 'regular_settings': {'INPUT_LEN': 12, 'OUTPUT_LEN': 12, 'TRAIN_VAL_TEST_RATIO': [0.7, 0.1, 0.2], 'NORM_EACH_CHANNEL': False, 'RESCALE': True, 'METRICS': ['MAE', 'RMSE', 'MAPE'], 'NULL_VAL': 0.0}}\n",
      "Форма данных: (2016, 207, 3)\n",
      "Матрица смежности: True\n",
      "Метаданные: {'name': 'PEMS-BAY', 'domain': 'traffic speed', 'shape': [52116, 325, 3], 'num_time_steps': 52116, 'num_nodes': 325, 'num_features': 3, 'feature_description': ['traffic speed', 'time of day', 'day of week'], 'has_graph': True, 'frequency (minutes)': 5, 'regular_settings': {'INPUT_LEN': 12, 'OUTPUT_LEN': 12, 'TRAIN_VAL_TEST_RATIO': [0.7, 0.1, 0.2], 'NORM_EACH_CHANNEL': False, 'RESCALE': True, 'METRICS': ['MAE', 'RMSE', 'MAPE'], 'NULL_VAL': 0.0}}\n",
      "Форма данных: (2016, 325, 3)\n",
      "Матрица смежности: True\n"
     ]
    }
   ],
   "source": [
    "# Пример использования\n",
    "data = ['PEMS03', 'PEMS04', 'PEMS07', 'PEMS08', 'METR-LA', 'PEMS-BAY']\n",
    "for path in data:\n",
    "    data_dir = f'../data/all_data/{path}'\n",
    "    data, metadata, adj_matrix = load_data.load_data(data_dir)\n",
    "\n",
    "    # Вывод информации\n",
    "    print(\"Метаданные:\", metadata)\n",
    "    print(\"Форма данных:\", data.shape)\n",
    "    if adj_matrix is not None:\n",
    "        print(\"Матрица смежности: True\")"
   ]
  }
 ],
 "metadata": {
  "kernelspec": {
   "display_name": ".venv",
   "language": "python",
   "name": "python3"
  },
  "language_info": {
   "codemirror_mode": {
    "name": "ipython",
    "version": 3
   },
   "file_extension": ".py",
   "mimetype": "text/x-python",
   "name": "python",
   "nbconvert_exporter": "python",
   "pygments_lexer": "ipython3",
   "version": "3.12.7"
  }
 },
 "nbformat": 4,
 "nbformat_minor": 2
}
