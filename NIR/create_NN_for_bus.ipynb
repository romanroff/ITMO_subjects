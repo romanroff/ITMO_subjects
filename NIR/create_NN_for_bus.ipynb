{
 "cells": [
  {
   "cell_type": "code",
   "execution_count": 11,
   "id": "2b49197a",
   "metadata": {},
   "outputs": [],
   "source": [
    "import requests\n",
    "import json\n",
    "\n",
    "# Если вдруг реквестс либы нет то:\n",
    "# !pip install requests -q"
   ]
  },
  {
   "cell_type": "code",
   "execution_count": 13,
   "id": "f074e061",
   "metadata": {},
   "outputs": [],
   "source": [
    "# Токен от Яндекс_метрики\n",
    "token_YM = 'ну тут твой токен да'\n",
    "\n",
    "headers = {\n",
    "    \"Authorization\": \"OAuth \" + token_YM,\n",
    "    \"Content-Type\": \"application/json\",\n",
    "}"
   ]
  },
  {
   "cell_type": "code",
   "execution_count": null,
   "id": "360072cd",
   "metadata": {},
   "outputs": [],
   "source": [
    "URL = \"https://api-audience.yandex.ru/v1/management/segments/create_geo_polygon\"\n",
    "\n",
    "body={\n",
    "    \"segment\": {\n",
    "        \"name\": 6,\n",
    "        \"polygons\": [\n",
    "            {\n",
    "                \"points\": [\n",
    "                    {\n",
    "                        \"latitude\": 29.55832705528077,\n",
    "                        \"longitude\": 60.255976358499815\n",
    "                    },\n",
    "                    {\n",
    "                        \"latitude\": 29.5643165873211,\n",
    "                        \"longitude\": 60.261122850695216\n",
    "                    },\n",
    "                    {\n",
    "                        \"latitude\": 29.576295651401757,\n",
    "                        \"longitude\": 60.261122850695216\n",
    "                    },\n",
    "                    {\n",
    "                        \"latitude\": 29.582285183442092,\n",
    "                        \"longitude\": 60.255976358499815\n",
    "                    },\n",
    "                    {\n",
    "                        \"latitude\": 29.576295651401757,\n",
    "                        \"longitude\": 60.25082905716862\n",
    "                    },\n",
    "                    {\n",
    "                        \"latitude\": 29.5643165873211,\n",
    "                        \"longitude\": 60.25082905716862\n",
    "                    },\n",
    "                    {\n",
    "                        \"latitude\": 29.55832705528077,\n",
    "                        \"longitude\": 60.255976358499815\n",
    "                    }\n",
    "                ]\n",
    "            }\n",
    "        ],\n",
    "        \"period_length\": 1,\n",
    "        \"times_quantity\": 1,\n",
    "        \"geo_segment_type\": \"work\"\n",
    "    }\n",
    "}\n",
    "\n",
    "# конвертируем словарь в JSON-формат и перекодируем в UTF-8\n",
    "body = json.dumps(body, ensure_ascii=False).encode('utf8')\n",
    "\n",
    "req = requests.post(URL, body, headers=headers)\n",
    "req\n",
    "req.text"
   ]
  }
 ],
 "metadata": {
  "kernelspec": {
   "display_name": "Python 3 (ipykernel)",
   "language": "python",
   "name": "python3"
  },
  "language_info": {
   "codemirror_mode": {
    "name": "ipython",
    "version": 3
   },
   "file_extension": ".py",
   "mimetype": "text/x-python",
   "name": "python",
   "nbconvert_exporter": "python",
   "pygments_lexer": "ipython3",
   "version": "3.10.11"
  }
 },
 "nbformat": 4,
 "nbformat_minor": 5
}
