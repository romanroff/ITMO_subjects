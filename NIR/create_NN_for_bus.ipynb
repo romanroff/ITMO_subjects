{
 "cells": [
  {
   "cell_type": "markdown",
   "id": "5760deb4-f4fe-4b76-a9b4-2357021e2463",
   "metadata": {},
   "source": [
    "# Abstract\n",
    "Что нужно сделать:\n",
    "1. Скачать граф УДС и граф общественного транспорта\n",
    "2. Создать модель (скачать трансформер (?) ), которая создает маршруты общественного транспорта\n",
    "3. Создать модель, которая кластеризует (?) граф на сектора и добавляет экспресс-маршруты"
   ]
  },
  {
   "cell_type": "markdown",
   "id": "03011632-6d98-4979-9fc4-f84c02955508",
   "metadata": {},
   "source": [
    "## Import"
   ]
  },
  {
   "cell_type": "code",
   "execution_count": 2,
   "id": "06080eb5-37c5-429e-b091-aa72f5312354",
   "metadata": {},
   "outputs": [],
   "source": [
    "import geopandas as gpd\n",
    "import networkx as nx\n",
    "import pandas as pd\n",
    "import osmnx as ox\n",
    "import numpy as np"
   ]
  },
  {
   "cell_type": "markdown",
   "id": "9bb7f455-524a-48b8-b4e9-864202daae87",
   "metadata": {},
   "source": [
    "## Func"
   ]
  },
  {
   "cell_type": "code",
   "execution_count": 13,
   "id": "3b0f0d94-3ba5-4d7b-b88c-ae51c1cffc79",
   "metadata": {},
   "outputs": [],
   "source": [
    "# Загрузка gdf из OSM.\n",
    "def download_gdf(id, tags, simplify=True):\n",
    "    first_gdf = ox.geocode_to_gdf(f'R{id}', by_osmid=True)\n",
    "    polygon_boundary = first_gdf.unary_union\n",
    "    tags = {**tags}\n",
    "    gdf = ox.features_from_polygon(polygon_boundary,\n",
    "                                 tags=tags)\n",
    "    gdf.reset_index(inplace=True)\n",
    "    return gdf"
   ]
  },
  {
   "cell_type": "markdown",
   "id": "0e488781-bbd6-4e65-95df-57ea16d3e71a",
   "metadata": {},
   "source": [
    "## Main area"
   ]
  },
  {
   "cell_type": "code",
   "execution_count": 14,
   "id": "a4425394-6380-4ee9-b09a-001272af161b",
   "metadata": {},
   "outputs": [],
   "source": [
    "tags = {'highway': ['motorway', 'trunk', 'primary', 'secondary', \n",
    "                           'tertiary', 'unclassified', 'residential', \n",
    "                           'motorway_link', 'trunk_link', 'primary_link', 'secondary_link', 'tertiary_link']}\n",
    "gdf = download_gdf(1285772, tags)"
   ]
  },
  {
   "cell_type": "code",
   "execution_count": null,
   "id": "47199ae1-fccd-4e34-a80d-002741fe8531",
   "metadata": {},
   "outputs": [],
   "source": []
  },
  {
   "cell_type": "code",
   "execution_count": null,
   "id": "85e70371-3d51-4b0e-a264-990aa6e5adcf",
   "metadata": {},
   "outputs": [],
   "source": [
    "def download_graph(id, simplify=True):\n",
    "    gdf = ox.geocode_to_gdf(id, by_osmid=True)\n",
    "    polygon_boundary = gdf.unary_union\n",
    "    graph = ox.graph_from_polygon(polygon_boundary,\n",
    "                                  network_type='drive',\n",
    "                                  simplify=simplify)\n",
    "    G = nx.Graph(graph)\n",
    "    return G\n",
    "    \n",
    "G = download_graph('R176095')"
   ]
  },
  {
   "cell_type": "code",
   "execution_count": null,
   "id": "c12a661b-67cc-47f0-9490-200613193dec",
   "metadata": {},
   "outputs": [],
   "source": []
  },
  {
   "cell_type": "code",
   "execution_count": null,
   "id": "c95259ef-c29a-4b80-a056-c7335e1dd0f9",
   "metadata": {},
   "outputs": [],
   "source": []
  }
 ],
 "metadata": {
  "kernelspec": {
   "display_name": "Python 3 (ipykernel)",
   "language": "python",
   "name": "python3"
  },
  "language_info": {
   "codemirror_mode": {
    "name": "ipython",
    "version": 3
   },
   "file_extension": ".py",
   "mimetype": "text/x-python",
   "name": "python",
   "nbconvert_exporter": "python",
   "pygments_lexer": "ipython3",
   "version": "3.10.11"
  }
 },
 "nbformat": 4,
 "nbformat_minor": 5
}
