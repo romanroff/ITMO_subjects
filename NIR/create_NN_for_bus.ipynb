{
 "cells": [
  {
   "cell_type": "markdown",
   "id": "5760deb4-f4fe-4b76-a9b4-2357021e2463",
   "metadata": {},
   "source": [
    "# Abstract\n",
    "Что нужно сделать:\n",
    "1. Скачать граф УДС и граф общественного транспорта\n",
    "2. Создать модель (скачать трансформер (?) ), которая создает маршруты общественного транспорта\n",
    "3. Создать модель, которая кластеризует (?) граф на сектора и добавляет экспресс-маршруты"
   ]
  },
  {
   "cell_type": "markdown",
   "id": "03011632-6d98-4979-9fc4-f84c02955508",
   "metadata": {},
   "source": [
    "## Import"
   ]
  },
  {
   "cell_type": "code",
   "execution_count": 22,
   "id": "06080eb5-37c5-429e-b091-aa72f5312354",
   "metadata": {},
   "outputs": [],
   "source": [
    "import geopandas as gpd # type: ignore\n",
    "import networkx as nx # type: ignore\n",
    "import pandas as pd # type: ignore\n",
    "import osmnx as ox # type: ignore\n",
    "import numpy as np # type: ignore\n",
    "\n",
    "from shapely.geometry import Polygon # type: ignore"
   ]
  },
  {
   "cell_type": "markdown",
   "id": "9bb7f455-524a-48b8-b4e9-864202daae87",
   "metadata": {},
   "source": [
    "## Func"
   ]
  },
  {
   "cell_type": "code",
   "execution_count": 13,
   "id": "3b0f0d94-3ba5-4d7b-b88c-ae51c1cffc79",
   "metadata": {},
   "outputs": [],
   "source": [
    "# Загрузка gdf из OSM.\n",
    "def download_gdf(id, tags, simplify=True):\n",
    "    first_gdf = ox.geocode_to_gdf(f'R{id}', by_osmid=True)\n",
    "    polygon_boundary = first_gdf.unary_union\n",
    "    tags = {**tags}\n",
    "    gdf = ox.features_from_polygon(polygon_boundary,\n",
    "                                 tags=tags)\n",
    "    gdf.reset_index(inplace=True)\n",
    "    return gdf"
   ]
  },
  {
   "cell_type": "markdown",
   "id": "0e488781-bbd6-4e65-95df-57ea16d3e71a",
   "metadata": {},
   "source": [
    "## Main area"
   ]
  },
  {
   "cell_type": "code",
   "execution_count": 7,
   "id": "a4425394-6380-4ee9-b09a-001272af161b",
   "metadata": {},
   "outputs": [],
   "source": [
    "spb = ox.geocode_to_gdf('R337422', by_osmid=True) # Санкт-Петербург\n",
    "lo_filter = \"['highway'~'motorway|trunk|primary|secondary|tertiary|unclassified|residential|motorway_link|trunk_link|primary_link|secondary_link|tertiary_link']\"\n",
    "graph = ox.graph_from_polygon(spb.unary_union, network_type='drive', custom_filter=lo_filter)"
   ]
  },
  {
   "cell_type": "code",
   "execution_count": 28,
   "id": "dab0f050",
   "metadata": {},
   "outputs": [
    {
     "data": {
      "text/html": [
       "<div>\n",
       "<style scoped>\n",
       "    .dataframe tbody tr th:only-of-type {\n",
       "        vertical-align: middle;\n",
       "    }\n",
       "\n",
       "    .dataframe tbody tr th {\n",
       "        vertical-align: top;\n",
       "    }\n",
       "\n",
       "    .dataframe thead th {\n",
       "        text-align: right;\n",
       "    }\n",
       "</style>\n",
       "<table border=\"1\" class=\"dataframe\">\n",
       "  <thead>\n",
       "    <tr style=\"text-align: right;\">\n",
       "      <th></th>\n",
       "      <th></th>\n",
       "      <th>bbox_north</th>\n",
       "      <th>bbox_south</th>\n",
       "      <th>bbox_east</th>\n",
       "      <th>bbox_west</th>\n",
       "      <th>place_id</th>\n",
       "      <th>osm_type</th>\n",
       "      <th>osm_id</th>\n",
       "      <th>lat</th>\n",
       "      <th>lon</th>\n",
       "      <th>class</th>\n",
       "      <th>type</th>\n",
       "      <th>place_rank</th>\n",
       "      <th>importance</th>\n",
       "      <th>addresstype</th>\n",
       "      <th>name</th>\n",
       "      <th>display_name</th>\n",
       "      <th>geometry</th>\n",
       "    </tr>\n",
       "  </thead>\n",
       "  <tbody>\n",
       "    <tr>\n",
       "      <th rowspan=\"2\" valign=\"top\">0</th>\n",
       "      <th>0</th>\n",
       "      <td>60.244837</td>\n",
       "      <td>59.633783</td>\n",
       "      <td>30.759493</td>\n",
       "      <td>29.425758</td>\n",
       "      <td>181679261</td>\n",
       "      <td>relation</td>\n",
       "      <td>337422</td>\n",
       "      <td>59.960674</td>\n",
       "      <td>30.158655</td>\n",
       "      <td>boundary</td>\n",
       "      <td>administrative</td>\n",
       "      <td>8</td>\n",
       "      <td>0.723213</td>\n",
       "      <td>state</td>\n",
       "      <td>Saint Petersburg</td>\n",
       "      <td>Saint Petersburg, Northwestern Federal Distric...</td>\n",
       "      <td>POLYGON ((29.42576 60.19074, 29.42719 60.19039...</td>\n",
       "    </tr>\n",
       "    <tr>\n",
       "      <th>1</th>\n",
       "      <td>60.244837</td>\n",
       "      <td>59.633783</td>\n",
       "      <td>30.759493</td>\n",
       "      <td>29.425758</td>\n",
       "      <td>181679261</td>\n",
       "      <td>relation</td>\n",
       "      <td>337422</td>\n",
       "      <td>59.960674</td>\n",
       "      <td>30.158655</td>\n",
       "      <td>boundary</td>\n",
       "      <td>administrative</td>\n",
       "      <td>8</td>\n",
       "      <td>0.723213</td>\n",
       "      <td>state</td>\n",
       "      <td>Saint Petersburg</td>\n",
       "      <td>Saint Petersburg, Northwestern Federal Distric...</td>\n",
       "      <td>POLYGON ((30.06506 59.66830, 30.07331 59.66737...</td>\n",
       "    </tr>\n",
       "  </tbody>\n",
       "</table>\n",
       "</div>"
      ],
      "text/plain": [
       "     bbox_north  bbox_south  bbox_east  bbox_west   place_id  osm_type  \\\n",
       "0 0   60.244837   59.633783  30.759493  29.425758  181679261  relation   \n",
       "  1   60.244837   59.633783  30.759493  29.425758  181679261  relation   \n",
       "\n",
       "     osm_id        lat        lon     class            type  place_rank  \\\n",
       "0 0  337422  59.960674  30.158655  boundary  administrative           8   \n",
       "  1  337422  59.960674  30.158655  boundary  administrative           8   \n",
       "\n",
       "     importance addresstype              name  \\\n",
       "0 0    0.723213       state  Saint Petersburg   \n",
       "  1    0.723213       state  Saint Petersburg   \n",
       "\n",
       "                                          display_name  \\\n",
       "0 0  Saint Petersburg, Northwestern Federal Distric...   \n",
       "  1  Saint Petersburg, Northwestern Federal Distric...   \n",
       "\n",
       "                                              geometry  \n",
       "0 0  POLYGON ((29.42576 60.19074, 29.42719 60.19039...  \n",
       "  1  POLYGON ((30.06506 59.66830, 30.07331 59.66737...  "
      ]
     },
     "execution_count": 28,
     "metadata": {},
     "output_type": "execute_result"
    }
   ],
   "source": [
    "spb"
   ]
  },
  {
   "cell_type": "code",
   "execution_count": 9,
   "id": "c12a661b-67cc-47f0-9490-200613193dec",
   "metadata": {},
   "outputs": [],
   "source": [
    "n, e = ox.graph_to_gdfs(graph)"
   ]
  },
  {
   "cell_type": "code",
   "execution_count": 18,
   "id": "5bf08284",
   "metadata": {},
   "outputs": [],
   "source": [
    "stop_bus = ox.features_from_polygon(spb.unary_union, tags={'highway': 'bus_stop'})\n",
    "stop_bus = stop_bus[stop_bus.geometry.type != 'Polygon']"
   ]
  },
  {
   "cell_type": "code",
   "execution_count": 49,
   "id": "c8f82cfb",
   "metadata": {},
   "outputs": [],
   "source": [
    "from h3 import h3\n",
    "\n",
    "def lat_lng_to_h3(row):\n",
    "    # Изменение порядка координат на (широта, долгота) для h3.polyfill\n",
    "    coords = [(y, x) for x, y in row.geometry.exterior.coords]\n",
    "    hexagons = list(h3.polyfill({'type': 'Polygon', 'coordinates': [coords]}, 8))\n",
    "    return hexagons\n",
    "\n",
    "def h3_to_geometry(h3_id):\n",
    "    polygon = Polygon(h3.h3_to_geo_boundary(h3_id, geo_json=True))\n",
    "    return polygon\n",
    "\n",
    "\n",
    "# Применяем функцию к каждому полигону в GeoDataFrame\n",
    "spb['hexagons'] = spb.apply(lat_lng_to_h3, axis=1)\n",
    "\n",
    "# Создаем новый GeoDataFrame с индексом из гексагонов\n",
    "gdf = gpd.GeoDataFrame(\n",
    "    pd.Series(sum(spb.hexagons.tolist(), [])).apply(h3_to_geometry).to_frame(),\n",
    "    geometry=0,\n",
    "    crs='EPSG:4326'\n",
    ")"
   ]
  }
 ],
 "metadata": {
  "kernelspec": {
   "display_name": "Python 3 (ipykernel)",
   "language": "python",
   "name": "python3"
  },
  "language_info": {
   "codemirror_mode": {
    "name": "ipython",
    "version": 3
   },
   "file_extension": ".py",
   "mimetype": "text/x-python",
   "name": "python",
   "nbconvert_exporter": "python",
   "pygments_lexer": "ipython3",
   "version": "3.10.11"
  }
 },
 "nbformat": 4,
 "nbformat_minor": 5
}
