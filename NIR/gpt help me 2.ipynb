{
 "cells": [
  {
   "cell_type": "code",
   "execution_count": 21,
   "metadata": {},
   "outputs": [],
   "source": [
    "import h5py\n",
    "import pickle\n",
    "import folium\n",
    "import numpy as np\n",
    "import pandas as pd\n",
    "import networkx as nx\n",
    "import matplotlib.pyplot as plt\n",
    "import torch\n",
    "from torch import nn\n",
    "import torch.nn.functional as F\n",
    "\n",
    "\n",
    "with h5py.File('data/raw_data/PEMS-BAY/PEMS-BAY.h5', 'r') as file:\n",
    "\n",
    "    axis0 = file['speed']['axis0'][:]               # Идентификаторы датчиков\n",
    "    block0_items = file['speed']['block0_items'][:] # Идентификаторы датчиков\n",
    "    axis1 = file['speed']['axis1'][:]               # Метки времени\n",
    "    timestamps = pd.to_datetime(axis1)              # Преобразование меток времени в формат datetime\n",
    "    speed_data = file['speed']['block0_values'][:]  # Данные замеров скорости\n",
    "\n",
    "pems_bay = pd.DataFrame(speed_data, index=timestamps, columns=axis0)\n",
    "\n",
    "# Открытие .pkl файла\n",
    "with open('data/raw_data/PEMS-BAY/adj_PEMS-BAY.pkl', 'rb') as file:\n",
    "    data = pickle.load(file, encoding='bytes')\n",
    "    \n",
    "node_ids = [x.decode('utf-8') for x in data[0]]                     # Получаем список id узлов из data[0]\n",
    "adj_matrix = data[2]                                                # Получаем матрицу смежности из data[2]\n",
    "pems_bay_adj = pd.DataFrame(adj_matrix, index=node_ids, columns=node_ids) # Создание DataFrame с использованием id узлов как индексов и названий колонок"
   ]
  },
  {
   "cell_type": "code",
   "execution_count": 8,
   "metadata": {},
   "outputs": [],
   "source": [
    "# adj_df.to_csv('data/pems_bay_adj_df.csv')\n",
    "# pems_bay[:288].to_csv('data/pems_bay_df.csv', index_label='Time')"
   ]
  },
  {
   "cell_type": "markdown",
   "metadata": {},
   "source": [
    "## model 3"
   ]
  },
  {
   "cell_type": "markdown",
   "metadata": {},
   "source": [
    "### Методология\n",
    "\n",
    "#### 1. **Преобразование Фурье**\n",
    "   - **Проблема Time-Shift**: В статье утверждается, что проблема Time-Shift (сдвига во времени) затрудняет моделирование пространственной зависимости в данных о трафике. Для решения этой проблемы предлагается использовать преобразование Фурье, которое переводит данные о трафике в частотную область.\n",
    "   - **Математическое обоснование**: \n",
    "     - Пусть $ f(t) $ — данные о трафике, захваченные сенсорами на определенном перекрестке. Если трафик задерживается на время $ t_0 $, то данные $ f(t-t_0) $ будут захвачены на следующем перекрестке.\n",
    "     - Согласно определению преобразования Фурье:\n",
    "       $$\n",
    "       F(\\omega) = \\int_{-\\infty}^{\\infty} f(t) e^{-j\\omega t} dt\n",
    "       $$\n",
    "       $$\n",
    "       F_{t_0}(\\omega) = \\int_{-\\infty}^{\\infty} f(t-t_0) e^{-j\\omega t} dt\n",
    "       $$\n",
    "     - После преобразований доказывается, что $ F_{t_0}(\\omega) = F(\\omega) \\cdot e^{-j\\omega t_0} $, что означает, что данные в частотной области представлены в одной фазовой размерности, что упрощает изучение пространственных зависимостей между сенсорами.\n",
    "\n",
    "#### 2. **DFDGCN (Dynamic Frequency Domain Graph Convolutional Network)**\n",
    "   - **Модуль частотной области**: Основная идея DFDGCN заключается в обновлении динамической матрицы смежности $ A_D $ на основе данных о трафике, наблюдаемых в текущем окне наблюдения.\n",
    "   - **Шаги модуля**:\n",
    "     1. **Преобразование Фурье**: Данные о трафике $ X_t $ в каждом окне наблюдения переводятся в частотную область с помощью быстрого преобразования Фурье (FFT):\n",
    "        $$\n",
    "        F_t = FFT(X_t)\n",
    "        $$\n",
    "     2. **Встраивание идентичности и времени**: Для уменьшения влияния шума в данных о трафике вводятся встраивания идентичности сенсоров $ E_t $ и временные встраивания $ T^{W}_t $ (день недели) и $ T^{D}_t $ (час дня):\n",
    "        $$\n",
    "        DE_t = W_{F,t} \\cdot F_t || E_t || W_{T,t} \\cdot (T^{W}_t || T^{D}_t)\n",
    "        $$\n",
    "     3. **Одномерная свертка**: Применяется одномерная сверточная слой с ядром $ 1 \\times 1 $ для дополнительного встраивания, чтобы изучить связи между измерениями $ DE_t $.\n",
    "     4. **Полносвязный слой и матричное умножение**: Применяется полносвязный слой для изучения $ DE_t $, затем результат умножается на транспонированную матрицу $ DE_t $. После активационной функции и $ Softmax $ получается финальная матрица смежности:\n",
    "        $$\n",
    "        A^{t}_D = Softmax(ReLU(DE_t W_{adj} DE^{T}_t))\n",
    "        $$\n",
    "     5. **Граф сверточный слой**: Динамический частотный граф комбинируется с предопределенными графами $ P $ (из DCRNN) и самоадаптивными графами $ A_{adt} $ (из GWNet) для создания графового сверточного слоя:\n",
    "        $$\n",
    "        Z_t = \\sum_{k=0}^{K} (P^{k} X_t W_{k,1} + A^{k}_{adt} X_t W_{k,2} + A^{t}_D X_t W_{k,3})\n",
    "        $$\n",
    "     6. **Обработка временной информации**: Для обработки временной информации используется классическая причинная свертка с остаточной сетью, как в GWNet.\n",
    "\n",
    "#### 3. **Эксперименты**\n",
    "   - **Датасеты**: Эксперименты проводятся на четырех реальных датасетах с десятками тысяч временных шагов и сотнями сенсоров. Статистика датасетов представлена в таблице 1.\n",
    "   - **Базовые линии и метрики**: В качестве базовых линий выбраны классические методы, такие как HI, GWNet, DCRNN, AGCRN, STGCN, MTGNN, DGCRN. Метрики оценки включают среднюю абсолютную ошибку (MAE), среднеквадратичную ошибку (RMSE) и среднюю абсолютную процентную ошибку (MAPE).\n",
    "   - **Настройки экспериментов**: Датасеты делятся на обучающую, валидационную и тестовую выборки в соотношении 7:1:2. Предсказываются данные о трафике на 12 временных шагов с использованием исторических данных длиной 12. Размеры встраиваний после преобразования Фурье и идентичности составляют 10, а временные встраивания $ T^{W}_t $ и $ T^{D}_t $ — 12. Размер встраивания после одномерной свертки — 30.\n",
    "   - **Результаты экспериментов**: DFDGCN показывает лучшие результаты по сравнению с базовыми линиями на всех датасетах. Анализ аблационных экспериментов подтверждает эффективность частотного графа в моделировании динамической пространственной зависимости."
   ]
  },
  {
   "cell_type": "code",
   "execution_count": 152,
   "metadata": {},
   "outputs": [],
   "source": [
    "# Параметры\n",
    "B = 32  # Размер батча\n",
    "N = 325  # Количество датчиков\n",
    "L = 12  # Длина временного окна\n",
    "fft_emb = 10  # Размерность эмбеддинга частотной области\n",
    "identity_emb = 10  # Размерность эмбеддинга идентичности\n",
    "T_D_size = 12  # Размерность эмбеддингов времени (например, день недели)\n",
    "D_W_size = 12  # Размерность эмбеддингов времени (например, час дня)\n",
    "hidden_emb = 30\n",
    "\n",
    "# Создание случайных данных для history_data (размер: B, L, N, 1)\n",
    "history_data = torch.randn(B, N, L, 1)\n",
    "\n",
    "# Эмбеддинги\n",
    "Ex1 = torch.randn(L//2 + 1, fft_emb)  # Эмбеддинг частотной области, размер: (L//2+1, fft_emb)\n",
    "node1 = torch.randn(N, identity_emb)  # Эмбеддинг идентичности, размер: (N, identity_emb)\n",
    "T_D_emb = torch.randn(B, N, T_D_size)  # Эмбеддинг дня недели, размер: (B, N, T_D_size)\n",
    "D_W_emb = torch.randn(B, N, D_W_size)  # Эмбеддинг часа дня, размер: (B, N, D_W_size)\n",
    "Wd = torch.randn(N, fft_emb + identity_emb + L * 2, hidden_emb)\n",
    "Wxabs = torch.randn(hidden_emb, hidden_emb)\n",
    "\n",
    "# Логгер для записи в текстовый файл\n",
    "def log_tensor_size(tensor, description, log_file='tensor_sizes.txt'):\n",
    "    with open(log_file, 'a', encoding='utf-8') as f:\n",
    "        f.write(f\"{description}: {tensor.shape}\\n\")\n",
    "\n",
    "# Преобразование Фурье по оси L (по временным данным)\n",
    "xn1 = torch.fft.rfft(history_data.squeeze(-1), dim=-1)  # Преобразование Фурье, размер: [B, N, L//2+1]\n",
    "log_tensor_size(xn1, \"После преобразования Фурье xn1\")\n",
    "\n",
    "xn1 = torch.abs(xn1)  # Абсолютное значение\n",
    "log_tensor_size(xn1, \"После применения abs(xn1)\")\n",
    "\n",
    "# Нормализация данных в частотной области\n",
    "xn1 = F.normalize(xn1, p=2.0, dim=1)  # Нормализация по оси N\n",
    "log_tensor_size(xn1, \"После нормализации по оси N\")\n",
    "\n",
    "xn1 = F.normalize(xn1, p=2.0, dim=2)  # Нормализация по оси L//2+1\n",
    "log_tensor_size(xn1, \"После нормализации по оси L//2+1\")\n",
    "\n",
    "# Перемножение с Ex1 (embedding для частотной области)\n",
    "xn1 = torch.matmul(xn1, Ex1)  # Размерность: [B, N, fft_emb]\n",
    "log_tensor_size(xn1, \"После перемножения с Ex1\")\n",
    "\n",
    "# Конкатенация с идентичностью и временными эмбеддингами\n",
    "xn1k = torch.cat([xn1, node1.unsqueeze(0).expand(B, -1, -1)], dim=2)  # Размерность: [B, N, fft_emb + identity_emb]\n",
    "log_tensor_size(xn1k, \"После конкатенации с node1\")\n",
    "\n",
    "x_n1 = torch.cat([xn1k, T_D_emb, D_W_emb], dim=2)  # Размерность: [B, N, fft_emb + identity_emb + T_D_size + D_W_size]\n",
    "log_tensor_size(x_n1, \"После конкатенации с T_D_emb и D_W_emb\")\n",
    "\n",
    "x1 = torch.bmm(x_n1.permute(1,0,2), Wd).permute(1,0,2)\n",
    "log_tensor_size(x1, \"После перемножения с Wd\")\n",
    "\n",
    "# Итоговый размер после конкатенации\n",
    "log_tensor_size(x1, \"Размер после конкатенации всех эмбеддингов\")\n",
    "\n",
    "adp = torch.einsum('bne, ek->bnk', (x1, Wxabs))\n",
    "log_tensor_size(adp, \"Размер после свертки\")\n",
    "\n",
    "adj = torch.bmm(adp, x1.permute(0, 2, 1))\n",
    "log_tensor_size(adj, \"Размер матрицы смежности\")\n",
    "\n"
   ]
  },
  {
   "cell_type": "code",
   "execution_count": 62,
   "metadata": {},
   "outputs": [],
   "source": [
    "import numpy as np\n",
    "import pandas as pd\n",
    "\n",
    "# adj_df_path = 'data/pems_bay_adj_df.csv'\n",
    "# data_df_path = 'data/pems_bay_df.csv'\n",
    "\n",
    "# pems_bay_adj = pd.read_csv(adj_df_path)\n",
    "# pems_bay = pd.read_csv(data_df_path)\n",
    "\n",
    "# Convert Time column to datetime for processing\n",
    "pems_bay[\"Time\"] = pd.to_datetime(pems_bay.index)\n",
    "pems_bay.set_index(\"Time\", inplace=True)\n",
    "\n",
    "# 1. Add temporal features\n",
    "pems_bay[\"weekday\"] = pems_bay.index.weekday  # Day of the week\n",
    "pems_bay[\"time_index\"] = (pems_bay.index.hour * 12) + (pems_bay.index.minute // 5)  # Time intervals in a day\n",
    "pems_bay[\"hour_sin\"] = np.sin(2 * np.pi * pems_bay.index.hour / 24)  # Cyclical hour (sin)\n",
    "pems_bay[\"hour_cos\"] = np.cos(2 * np.pi * pems_bay.index.hour / 24)  # Cyclical hour (cos)\n",
    "\n",
    "# 2. Add statistical features based on traffic speeds (columns excluding new ones)\n",
    "speed_columns = pems_bay.columns[:-4]  # Exclude newly added columns\n",
    "pems_bay[\"speed_mean\"] = pems_bay[speed_columns].mean(axis=1)  # Row-wise mean\n",
    "pems_bay[\"speed_std\"] = pems_bay[speed_columns].std(axis=1)  # Row-wise std deviation\n",
    "\n",
    "# 3. Add rate of change (difference) of traffic speeds\n",
    "pems_bay[\"speed_diff1\"] = pems_bay[speed_columns].diff(periods=1).mean(axis=1)  # Row-wise average difference\n",
    "pems_bay[\"speed_diff3\"] = pems_bay[speed_columns].diff(periods=3).mean(axis=1)  # Row-wise average difference\n",
    "pems_bay[\"speed_diff6\"] = pems_bay[speed_columns].diff(periods=6).mean(axis=1)  # Row-wise average difference\n",
    "pems_bay[\"speed_diff12\"] = pems_bay[speed_columns].diff(periods=12).mean(axis=1)  # Row-wise average difference\n",
    "pems_bay[\"speed_diff24\"] = pems_bay[speed_columns].diff(periods=24).mean(axis=1)  # Row-wise average difference\n",
    "pems_bay[\"speed_diff288\"] = pems_bay[speed_columns].diff(periods=288).mean(axis=1)  # Row-wise average difference\n",
    "\n",
    "# 4. Add spatially aggregated features using adjacency matrix\n",
    "adj_matrix = pems_bay_adj.values  # Convert adjacency DataFrame to numpy array\n",
    "speeds = pems_bay[speed_columns].values  # Extract speed values as numpy array\n",
    "spatial_avg = adj_matrix @ speeds.T / (adj_matrix.sum(axis=1)[:, None] + 1e-3)  # Weighted average using adjacency\n",
    "pems_bay[\"spatial_speed_mean\"] = spatial_avg.T.mean(axis=1)  # Average spatial influence per row\n"
   ]
  },
  {
   "cell_type": "code",
   "execution_count": 86,
   "metadata": {},
   "outputs": [
    {
     "data": {
      "text/plain": [
       "<Axes: >"
      ]
     },
     "execution_count": 86,
     "metadata": {},
     "output_type": "execute_result"
    },
    {
     "data": {
      "image/png": "[encoded data removed]",
      "text/plain": [
       "<Figure size 2000x600 with 1 Axes>"
      ]
     },
     "metadata": {},
     "output_type": "display_data"
    }
   ],
   "source": [
    "pems_bay.iloc[288:, -9:].boxplot(figsize=(20, 6))"
   ]
  },
  {
   "cell_type": "code",
   "execution_count": 76,
   "metadata": {},
   "outputs": [
    {
     "data": {
      "text/plain": [
       "<matplotlib.legend.Legend at 0x182cd6339e0>"
      ]
     },
     "execution_count": 76,
     "metadata": {},
     "output_type": "execute_result"
    },
    {
     "data": {
      "image/png": "[encoded data removed]",
      "text/plain": [
       "<Figure size 640x480 with 1 Axes>"
      ]
     },
     "metadata": {},
     "output_type": "display_data"
    }
   ],
   "source": [
    "# pems_bay['speed_diff1'].plot()\n",
    "# pems_bay['speed_diff3'].plot()\n",
    "# pems_bay['speed_diff6'].plot()\n",
    "# pems_bay['speed_diff12'].plot()\n",
    "# pems_bay['speed_diff24'].plot()\n",
    "pems_bay['speed_diff288'].plot()\n",
    "plt.legend()\n"
   ]
  },
  {
   "cell_type": "code",
   "execution_count": 22,
   "metadata": {},
   "outputs": [
    {
     "name": "stdout",
     "output_type": "stream",
     "text": [
      "torch.Size([1, 52116, 325, 14])\n"
     ]
    }
   ],
   "source": [
    "import numpy as np\n",
    "import pandas as pd\n",
    "import torch\n",
    "\n",
    "# # Загрузка данных\n",
    "# adj_df_path = 'data/pems_bay_adj_df.csv'\n",
    "# data_df_path = 'data/pems_bay_df.csv'\n",
    "\n",
    "# pems_bay_adj = pd.read_csv(adj_df_path)\n",
    "# pems_bay = pd.read_csv(data_df_path)\n",
    "\n",
    "# Преобразование столбца Time в формат datetime\n",
    "pems_bay[\"Time\"] = pd.to_datetime(pems_bay.index)\n",
    "pems_bay.set_index(\"Time\", inplace=True)\n",
    "\n",
    "# 1. Добавление временных признаков\n",
    "L = 12\n",
    "traffic_data = pems_bay.values  # Данные о трафике\n",
    "pems_bay[\"weekday\"] = pems_bay.index.weekday  # День недели\n",
    "pems_bay[\"time_index\"] = (pems_bay.index.hour * 12) + (pems_bay.index.minute // 5)  # Временные интервалы в течение дня\n",
    "pems_bay[\"hour_sin\"] = np.sin(2 * np.pi * pems_bay.index.hour / 24)  # Циклический час (синус)\n",
    "pems_bay[\"hour_cos\"] = np.cos(2 * np.pi * pems_bay.index.hour / 24)  # Циклический час (косинус)\n",
    "\n",
    "# 2. Добавление статистических признаков на основе скоростей движения\n",
    "speed_columns = pems_bay.columns[:-4]  # Исключаем вновь добавленные столбцы\n",
    "pems_bay[\"speed_mean\"] = pems_bay[speed_columns].mean(axis=1)  # Среднее значение по строкам\n",
    "pems_bay[\"speed_std\"] = pems_bay[speed_columns].std(axis=1)  # Стандартное отклонение по строкам\n",
    "\n",
    "# 3. Добавление скорости изменения (разности) скоростей движения\n",
    "pems_bay[\"speed_diff1\"] = pems_bay[speed_columns].diff(periods=1).mean(axis=1)  # Row-wise average difference\n",
    "pems_bay[\"speed_diff3\"] = pems_bay[speed_columns].diff(periods=3).mean(axis=1)  # Row-wise average difference\n",
    "pems_bay[\"speed_diff6\"] = pems_bay[speed_columns].diff(periods=6).mean(axis=1)  # Row-wise average difference\n",
    "pems_bay[\"speed_diff12\"] = pems_bay[speed_columns].diff(periods=12).mean(axis=1)  # Row-wise average difference\n",
    "pems_bay[\"speed_diff24\"] = pems_bay[speed_columns].diff(periods=24).mean(axis=1)  # Row-wise average difference\n",
    "pems_bay[\"speed_diff288\"] = pems_bay[speed_columns].diff(periods=288).mean(axis=1)  # Row-wise average difference\n",
    "\n",
    "\n",
    "# 4. Добавление пространственно агрегированных признаков с использованием матрицы смежности\n",
    "adj_matrix = pems_bay_adj.values  # Преобразование матрицы смежности в numpy array\n",
    "speeds = pems_bay[speed_columns].values  # Извлечение значений скоростей как numpy array\n",
    "spatial_avg = adj_matrix @ speeds.T / (adj_matrix.sum(axis=1)[:, None] + 1e-3)  # Взвешенное среднее с использованием матрицы смежности\n",
    "pems_bay[\"spatial_speed_mean\"] = spatial_avg.T.mean(axis=1)  # Среднее пространственное влияние по строкам\n",
    "\n",
    "# Преобразование данных в тензор формата [B, L, N, C]\n",
    "# Берем последние 12 временных шагов\n",
    "\n",
    "weekday_data = pems_bay[\"weekday\"].values[:, np.newaxis]  # День недели\n",
    "time_index_data = pems_bay[\"time_index\"].values[:, np.newaxis]  # Временной индекс\n",
    "hour_sin_data = pems_bay[\"hour_sin\"].values[:, np.newaxis]  # hour_sin\n",
    "hour_cos_data = pems_bay[\"hour_cos\"].values[:, np.newaxis]  # hour_cos\n",
    "speed_mean_data = pems_bay[\"speed_mean\"].values[:, np.newaxis]  # speed_mean\n",
    "speed_std_data = pems_bay[\"speed_std\"].values[:, np.newaxis]  # speed_std\n",
    "speed_diff_data1 = pems_bay[\"speed_diff1\"].values[:, np.newaxis]  # speed_diff\n",
    "speed_diff_data3 = pems_bay[\"speed_diff3\"].values[:, np.newaxis]  # speed_diff\n",
    "speed_diff_data6 = pems_bay[\"speed_diff6\"].values[:, np.newaxis]  # speed_diff\n",
    "speed_diff_data12 = pems_bay[\"speed_diff12\"].values[:, np.newaxis]  # speed_diff\n",
    "speed_diff_data24 = pems_bay[\"speed_diff24\"].values[:, np.newaxis]  # speed_diff\n",
    "speed_diff_data288 = pems_bay[\"speed_diff288\"].values[:, np.newaxis]  # speed_diff\n",
    "spatial_speed_mean_data = pems_bay[\"spatial_speed_mean\"].values[:, np.newaxis]  # spatial_speed_mean\n",
    "\n",
    "# Преобразование данных в тензоры PyTorch\n",
    "traffic_data = torch.tensor(traffic_data).float().unsqueeze(-1)  # [L, N, 1]\n",
    "weekday_data = torch.tensor(weekday_data).float().unsqueeze(-1)  # [L, 1, 1]\n",
    "time_index_data = torch.tensor(time_index_data).float().unsqueeze(-1)  # [L, 1, 1]\n",
    "hour_sin_data = torch.tensor(hour_sin_data).float().unsqueeze(-1)  # [L, 1, 1]\n",
    "hour_cos_data = torch.tensor(hour_cos_data).float().unsqueeze(-1)  # [L, 1, 1]\n",
    "speed_mean_data = torch.tensor(speed_mean_data).float().unsqueeze(-1)  # [L, 1, 1]\n",
    "speed_std_data = torch.tensor(speed_std_data).float().unsqueeze(-1)  # [L, 1, 1]\n",
    "speed_diff_data1 = torch.tensor(speed_diff_data1).float().unsqueeze(-1)  # [L, 1, 1]\n",
    "speed_diff_data3 = torch.tensor(speed_diff_data3).float().unsqueeze(-1)  # [L, 1, 1]\n",
    "speed_diff_data6 = torch.tensor(speed_diff_data6).float().unsqueeze(-1)  # [L, 1, 1]\n",
    "speed_diff_data12 = torch.tensor(speed_diff_data12).float().unsqueeze(-1)  # [L, 1, 1]\n",
    "speed_diff_data24 = torch.tensor(speed_diff_data24).float().unsqueeze(-1)  # [L, 1, 1]\n",
    "speed_diff_data288 = torch.tensor(speed_diff_data288).float().unsqueeze(-1)  # [L, 1, 1]\n",
    "spatial_speed_mean_data = torch.tensor(spatial_speed_mean_data).float().unsqueeze(-1)  # [L, 1, 1]\n",
    "\n",
    "# Расширение размерности N для всех признаков, чтобы они соответствовали traffic_data\n",
    "weekday_data = weekday_data.expand(-1, traffic_data.size(1), -1)  # [L, N, 1]\n",
    "time_index_data = time_index_data.expand(-1, traffic_data.size(1), -1)  # [L, N, 1]\n",
    "hour_sin_data = hour_sin_data.expand(-1, traffic_data.size(1), -1)  # [L, N, 1]\n",
    "hour_cos_data = hour_cos_data.expand(-1, traffic_data.size(1), -1)  # [L, N, 1]\n",
    "speed_mean_data = speed_mean_data.expand(-1, traffic_data.size(1), -1)  # [L, N, 1]\n",
    "speed_std_data = speed_std_data.expand(-1, traffic_data.size(1), -1)  # [L, N, 1]\n",
    "speed_diff_data1 = speed_diff_data1.expand(-1, traffic_data.size(1), -1)  # [L, N, 1]\n",
    "speed_diff_data3 = speed_diff_data3.expand(-1, traffic_data.size(1), -1)  # [L, N, 1]\n",
    "speed_diff_data6 = speed_diff_data6.expand(-1, traffic_data.size(1), -1)  # [L, N, 1]\n",
    "speed_diff_data12 = speed_diff_data12.expand(-1, traffic_data.size(1), -1)  # [L, N, 1]\n",
    "speed_diff_data24 = speed_diff_data24.expand(-1, traffic_data.size(1), -1)  # [L, N, 1]\n",
    "speed_diff_data288 = speed_diff_data288.expand(-1, traffic_data.size(1), -1)  # [L, N, 1]\n",
    "spatial_speed_mean_data = spatial_speed_mean_data.expand(-1, traffic_data.size(1), -1)  # [L, N, 1]\n",
    "\n",
    "# Объединение всех данных вдоль оси каналов C\n",
    "combined_data_full = torch.cat([\n",
    "    traffic_data,\n",
    "    time_index_data,\n",
    "    weekday_data,\n",
    "    hour_sin_data,\n",
    "    hour_cos_data,\n",
    "    speed_mean_data,\n",
    "    speed_std_data,\n",
    "    speed_diff_data1,\n",
    "    speed_diff_data3,\n",
    "    speed_diff_data6,\n",
    "    speed_diff_data12,\n",
    "    speed_diff_data24,\n",
    "    speed_diff_data288,\n",
    "    spatial_speed_mean_data\n",
    "], dim=-1)  # [L, N, C]\n",
    "\n",
    "# Добавление размерности батча B (первая размерность)\n",
    "combined_data_full = combined_data_full.unsqueeze(0)  # [1, L, N, C]\n",
    "\n",
    "# Вывод результата\n",
    "print(combined_data_full.shape)  # Ожидаемый формат: [B, L, N, C]\n"
   ]
  },
  {
   "cell_type": "code",
   "execution_count": 4,
   "metadata": {},
   "outputs": [],
   "source": [
    "class convt(nn.Module):\n",
    "    def __init__(self):\n",
    "        super(convt, self).__init__()\n",
    "\n",
    "    def forward(self, x, w):\n",
    "        x = torch.einsum('bne, ek->bnk', (x, w))\n",
    "        return x.contiguous()\n",
    "    \n",
    "class nconv(nn.Module):\n",
    "    def __init__(self):\n",
    "        super(nconv, self).__init__()\n",
    "\n",
    "    def forward(self, x, A, dims):\n",
    "        if dims == 2:\n",
    "            x = torch.einsum('ncvl,vw->ncwl', (x, A))\n",
    "        elif dims == 3:\n",
    "            x = torch.einsum('ncvl,nvw->ncwl', (x, A))\n",
    "        else:\n",
    "            raise NotImplementedError('DFDGCN not implemented for A of dimension ' + str(dims))\n",
    "        return x.contiguous()\n",
    "\n",
    "class linear(nn.Module):\n",
    "    \"\"\"Linear layer.\"\"\"\n",
    "\n",
    "    def __init__(self, c_in, c_out):\n",
    "        super(linear, self).__init__()\n",
    "        self.mlp = torch.nn.Conv2d(c_in, c_out, kernel_size=(\n",
    "            1, 1), padding=(0, 0), stride=(1, 1), bias=True)\n",
    "\n",
    "    def forward(self, x):\n",
    "        return self.mlp(x)\n",
    "\n",
    "class gcn(nn.Module):\n",
    "    \"\"\"Graph convolution network.\"\"\"\n",
    "\n",
    "    def __init__(self, c_in, c_out, dropout, support_len=3, order=2):\n",
    "        super(gcn, self).__init__()\n",
    "        self.nconv = nconv()\n",
    "\n",
    "        self.c_in = c_in\n",
    "        c_in = (order * (support_len + 1) + 1) * self.c_in\n",
    "        self.mlp = linear(c_in, c_out)\n",
    "        self.dropout = dropout\n",
    "        self.order = order\n",
    "\n",
    "    def forward(self, x, support):\n",
    "\n",
    "        out = [x]\n",
    "        for a in support:\n",
    "            x1 = self.nconv(x, a.to(x.device), a.dim())\n",
    "            out.append(x1)\n",
    "\n",
    "            for k in range(2, self.order + 1):\n",
    "                x2 = self.nconv(x1, a.to(x1.device), a.dim())\n",
    "                out.append(x2)\n",
    "                x1 = x2\n",
    "        h = torch.cat(out, dim=1)\n",
    "        h = self.mlp(h)\n",
    "        h = F.dropout(h, self.dropout, training=self.training)\n",
    "        return h\n",
    "\n",
    "def dy_mask_graph(adj, k):\n",
    "    M = []\n",
    "    for i in range(adj.size(0)):\n",
    "        adp = adj[i]\n",
    "        mask = torch.zeros( adj.size(1),adj.size(2)).to(adj.device)\n",
    "        mask = mask.fill_(float(\"0\"))\n",
    "        s1, t1 = (adp + torch.rand_like(adp) * 0.01).topk(k, 1)\n",
    "        mask = mask.scatter_(1, t1, s1.fill_(1))\n",
    "        M.append(mask)\n",
    "    mask = torch.stack(M,dim=0)\n",
    "    adj = adj * mask\n",
    "    return adj\n",
    "\n",
    "def cat(x1,x2):\n",
    "    M = []\n",
    "    for i in range(x1.size(0)):\n",
    "        x = x1[i]\n",
    "        new_x = torch.cat([x,x2],dim=1)\n",
    "        M.append(new_x)\n",
    "    result = torch.stack(M,dim=0)\n",
    "    return result\n",
    "\n",
    "\n",
    "class DFDGCN(nn.Module):\n",
    "\n",
    "    def __init__(self, num_nodes, dropout=0.3, supports=None,\n",
    "                    gcn_bool=True, addaptadj=True, aptinit=None,\n",
    "                    in_dim=2, out_dim=12, residual_channels=32,\n",
    "                    dilation_channels=32, skip_channels=256, end_channels=512,\n",
    "                    kernel_size=2, blocks=4, layers=2, a=1, seq_len=12, affine=True, fft_emb=10, identity_emb=10, hidden_emb=30, subgraph=20):\n",
    "        super(DFDGCN, self).__init__()\n",
    "        self.dropout = dropout\n",
    "        self.blocks = blocks\n",
    "        self.layers = layers\n",
    "        self.gcn_bool = gcn_bool\n",
    "        self.addaptadj = addaptadj\n",
    "        self.filter_convs = nn.ModuleList()\n",
    "        self.gate_convs = nn.ModuleList()\n",
    "        self.residual_convs = nn.ModuleList()\n",
    "        self.skip_convs = nn.ModuleList()\n",
    "        self.bn = nn.ModuleList()\n",
    "        self.gconv = nn.ModuleList()\n",
    "        self.seq_len = seq_len\n",
    "        self.a = a\n",
    "\n",
    "        self.start_conv = nn.Conv2d(in_channels=in_dim,\n",
    "                                    out_channels=residual_channels,\n",
    "                                    kernel_size=(1, 1))\n",
    "\n",
    "        self.supports = supports\n",
    "        self.emb = fft_emb\n",
    "        self.subgraph_size = subgraph\n",
    "        self.identity_emb = identity_emb\n",
    "        self.hidden_emb = hidden_emb\n",
    "        self.fft_len = round(seq_len//2) + 1\n",
    "        self.Ex1 = nn.Parameter(torch.randn(self.fft_len, self.emb), requires_grad=True)\n",
    "        self.Wd = nn.Parameter(torch.randn(num_nodes,self.emb + self.identity_emb + self.seq_len * 2, self.hidden_emb), requires_grad=True)\n",
    "        self.Wxabs = nn.Parameter(torch.randn(self.hidden_emb, self.hidden_emb), requires_grad=True)\n",
    "\n",
    "        self.mlp = linear(residual_channels * 4,residual_channels)\n",
    "        self.layersnorm = torch.nn.LayerNorm(normalized_shape=[num_nodes,self.hidden_emb], eps=1e-08,elementwise_affine=affine)\n",
    "        self.convt = convt()\n",
    "\n",
    "        self.node1 = nn.Parameter(\n",
    "            torch.randn(num_nodes, self.identity_emb), requires_grad=True)\n",
    "        self.drop = nn.Dropout(p=dropout)\n",
    "\n",
    "        self.T_i_D_emb = nn.Parameter(\n",
    "            torch.empty(288, self.seq_len))\n",
    "        self.D_i_W_emb = nn.Parameter(\n",
    "            torch.empty(7, self.seq_len))\n",
    "\n",
    "        receptive_field = 1\n",
    "        self.reset_parameter()\n",
    "        self.supports_len = 0\n",
    "        if not addaptadj:\n",
    "            self.supports_len -= 1\n",
    "        if supports is not None:\n",
    "            self.supports_len += len(supports)\n",
    "        if gcn_bool and addaptadj:\n",
    "            if aptinit is None:\n",
    "                if supports is None:\n",
    "                    self.supports = []\n",
    "                self.nodevec1 = nn.Parameter(\n",
    "                    torch.randn(num_nodes, self.emb), requires_grad=True)\n",
    "                self.nodevec2 = nn.Parameter(\n",
    "                    torch.randn(self.emb, num_nodes), requires_grad=True)\n",
    "                self.supports_len += 1\n",
    "            else:\n",
    "                if supports is None:\n",
    "                    self.supports = []\n",
    "                m, p, n = torch.svd(aptinit)\n",
    "                initemb1 = torch.mm(m[:, :10], torch.diag(p[:10] ** 0.5))\n",
    "                initemb2 = torch.mm(torch.diag(p[:10] ** 0.5), n[:, :10].t())\n",
    "                self.nodevec1 = nn.Parameter(initemb1, requires_grad=True)\n",
    "                self.nodevec2 = nn.Parameter(initemb2, requires_grad=True)\n",
    "                self.supports_len += 1\n",
    "\n",
    "        for b in range(blocks):\n",
    "            additional_scope = kernel_size - 1\n",
    "            new_dilation = 1\n",
    "            for i in range(layers):\n",
    "                # dilated convolutions\n",
    "                self.filter_convs.append(nn.Conv2d(in_channels=residual_channels,\n",
    "                                                   out_channels=dilation_channels,\n",
    "                                                   kernel_size=(1, kernel_size), dilation=new_dilation))\n",
    "\n",
    "                self.gate_convs.append(nn.Conv2d(in_channels=residual_channels,\n",
    "                                                 out_channels=dilation_channels,\n",
    "                                                 kernel_size=(1, kernel_size), dilation=new_dilation))\n",
    "\n",
    "                # 1x1 convolution for residual connection\n",
    "                self.residual_convs.append(nn.Conv2d(in_channels=dilation_channels,\n",
    "                                                     out_channels=residual_channels,\n",
    "                                                     kernel_size=(1, 1)))\n",
    "\n",
    "                # 1x1 convolution for skip connection\n",
    "                self.skip_convs.append(nn.Conv2d(in_channels=dilation_channels,\n",
    "                                                 out_channels=skip_channels,\n",
    "                                                 kernel_size=(1, 1)))\n",
    "                self.bn.append(nn.BatchNorm2d(residual_channels))\n",
    "                new_dilation *= 2\n",
    "                receptive_field += additional_scope\n",
    "                additional_scope *= 2\n",
    "                if self.gcn_bool:\n",
    "                    self.gconv.append(\n",
    "                        gcn(dilation_channels, residual_channels, dropout, support_len=self.supports_len))\n",
    "        self.end_conv_1 = nn.Conv2d(in_channels=skip_channels,\n",
    "                                    out_channels=end_channels,\n",
    "                                    kernel_size=(1, 1),\n",
    "                                    bias=True)\n",
    "\n",
    "        self.end_conv_2 = nn.Conv2d(in_channels=end_channels,\n",
    "                                    out_channels=out_dim,\n",
    "                                    kernel_size=(1, 1),\n",
    "                                    bias=True)\n",
    "\n",
    "        self.receptive_field = receptive_field\n",
    "\n",
    "    def reset_parameter(self):\n",
    "        nn.init.xavier_uniform_(self.T_i_D_emb)\n",
    "        nn.init.xavier_uniform_(self.D_i_W_emb)\n",
    "\n",
    "\n",
    "    def forward(self, history_data: torch.Tensor) -> torch.Tensor:\n",
    "        \"\"\"Feedforward function of DFDGCN; Based on Graph WaveNet\n",
    "\n",
    "        Args:\n",
    "            history_data (torch.Tensor): shape [B, L, N, C]\n",
    "\n",
    "        Graphs:\n",
    "            predefined graphs: two graphs; [2, N, N] : Pre-given graph structure, including in-degree and out-degree graphs\n",
    "\n",
    "            self-adaptive graph: [N, N] : Self-Adaptively constructed graphs with two learnable parameters\n",
    "                torch.mm(self.nodevec1, self.nodevec2)\n",
    "                    nodevec: [N, Emb]\n",
    "\n",
    "            dynamic frequency domain graph: [B, N, N] : Data-driven graphs constructed with frequency domain information from traffic data\n",
    "                traffic_data : [B, N, L]\n",
    "                frequency domain information : [B, N, L/2.round + 1] ------Embedding ------[B, N, Emb2]\n",
    "                Identity embedding : learnable parameter [N, Emb3]\n",
    "                Time embedding : Week and Day : [N, 7] [N, 24(hour) * 12 (60min / 5min due to sampling)] ------Embedding ------ [N, 2 * Emb4]\n",
    "                Concat frequency domain information + Identity embedding + Time embedding ------Embedding , Activating, Normalization and Dropout\n",
    "                Conv1d to get adjacency matrix\n",
    "\n",
    "        Returns:\n",
    "            torch.Tensor: [B, L, N, 1]\n",
    "        \"\"\"\n",
    "        #num_feat = model_args[\"num_feat\"]\n",
    "        input = history_data.transpose(1, 3).contiguous()[:,:,:,:]\n",
    "        \n",
    "        data = history_data\n",
    "\n",
    "        in_len = input.size(3)\n",
    "        if in_len < self.receptive_field:\n",
    "            x = nn.functional.pad(\n",
    "                input, (self.receptive_field-in_len, 0, 0, 0))\n",
    "        else:\n",
    "            x = input\n",
    "        x = self.start_conv(x)\n",
    "\n",
    "        skip = 0\n",
    "        if self.gcn_bool and self.addaptadj and self.supports is not None:\n",
    "\n",
    "\n",
    "            gwadp = F.softmax(\n",
    "                F.relu(torch.mm(self.nodevec1, self.nodevec2)), dim=1)\n",
    "\n",
    "            new_supports = self.supports + [gwadp] # pretrained graph in DCRNN and self-adaptive graph in GWNet\n",
    "\n",
    "            # Construction of dynamic frequency domain graph\n",
    "            xn1 = input[:, 0, :, -self.seq_len:]\n",
    "\n",
    "            # T_D = self.T_i_D_emb[(data[:, :, :, 1] * 288).type(torch.LongTensor)][:, -1, :, :]\n",
    "            T_D = self.T_i_D_emb[(data[:, :, :, 1]).type(torch.LongTensor)][:, -1, :, :]\n",
    "            D_W = self.D_i_W_emb[(data[:, :, :, 1 + 1]).type(torch.LongTensor)][:, -1, :, :]\n",
    "\n",
    "            xn1 = torch.fft.rfft(xn1, dim=-1)\n",
    "            xn1 = torch.abs(xn1)\n",
    "\n",
    "            xn1 = torch.nn.functional.normalize(xn1, p=2.0, dim=1, eps=1e-12, out=None)\n",
    "            xn1 = torch.nn.functional.normalize(xn1, p=2.0, dim=2, eps=1e-12, out=None) * self.a\n",
    "\n",
    "\n",
    "            xn1 = torch.matmul(xn1, self.Ex1)\n",
    "            xn1k = cat(xn1, self.node1)\n",
    "            x_n1 = torch.cat([xn1k, T_D, D_W], dim=2)\n",
    "            x1 = torch.bmm(x_n1.permute(1,0,2),self.Wd).permute(1,0,2)\n",
    "            x1 = torch.relu(x1)\n",
    "            x1k = self.layersnorm(x1)\n",
    "            x1k = self.drop(x1k)\n",
    "            adp = self.convt(x1k, self.Wxabs)\n",
    "            adj = torch.bmm(adp, x1.permute(0, 2, 1))\n",
    "            adp = torch.relu(adj)\n",
    "            adp = dy_mask_graph(adp, self.subgraph_size)\n",
    "            adp = F.softmax(adp, dim=2)\n",
    "            new_supports = new_supports + [adp]\n",
    "\n",
    "        # WaveNet layers\n",
    "        for i in range(self.blocks * self.layers):\n",
    "\n",
    "            # dilated convolution\n",
    "            residual = x\n",
    "            filter = self.filter_convs[i](residual)\n",
    "            filter = torch.tanh(filter)\n",
    "            gate = self.gate_convs[i](residual)\n",
    "            gate = torch.sigmoid(gate)\n",
    "            x = filter * gate\n",
    "\n",
    "            # parametrized skip connection\n",
    "            s = x\n",
    "            s = self.skip_convs[i](s)\n",
    "            try:\n",
    "                skip = skip[:, :, :,  -s.size(3):]\n",
    "            except:\n",
    "                skip = 0\n",
    "            skip = s + skip\n",
    "\n",
    "            if self.gcn_bool and self.supports is not None:\n",
    "                if self.addaptadj:\n",
    "                    x = self.gconv[i](x, new_supports)\n",
    "\n",
    "                else:\n",
    "                    x = self.gconv[i](x, self.supports)\n",
    "            else:\n",
    "                x = self.residual_convs[i](x)\n",
    "            x = x + residual[:, :, :, -x.size(3):]\n",
    "\n",
    "            x = self.bn[i](x)\n",
    "\n",
    "        x = F.relu(skip)\n",
    "        x = F.relu(self.end_conv_1(x))\n",
    "        x = self.end_conv_2(x)\n",
    "        return x\n",
    "    \n",
    "# model = DFDGCN(num_nodes=pems_bay_adj.shape[0], supports=supports, in_dim=combined_data.shape[3])\n",
    "\n",
    "# model(combined_data).shape"
   ]
  },
  {
   "cell_type": "code",
   "execution_count": 23,
   "metadata": {},
   "outputs": [],
   "source": [
    "import torch\n",
    "from torch.utils.data import DataLoader, Dataset\n",
    "import torch.nn as nn\n",
    "import torch.optim as optim\n",
    "\n",
    "from tqdm.notebook import tqdm\n",
    "\n",
    "# Данные и параметры\n",
    "combined_data = combined_data_full[:, 288:12*50, :, :]\n",
    "B, L, N, C = combined_data.shape  # [1, 52116, 325, 14]\n",
    "batch_size = 32\n",
    "train_ratio = 0.7\n",
    "val_ratio = 0.2\n",
    "test_ratio = 0.1\n",
    "seq_len = 12  # Количество временных шагов на вход\n",
    "pred_len = 1  # Количество временных шагов для предсказания\n",
    "\n",
    "# Разделение данных на train, val и test\n",
    "num_samples = combined_data.shape[1]\n",
    "train_size = int(num_samples * train_ratio)\n",
    "val_size = int(num_samples * val_ratio)\n",
    "test_size = num_samples - train_size - val_size\n",
    "\n",
    "train_data = combined_data[:, :train_size, :, :]\n",
    "val_data = combined_data[:, train_size:train_size + val_size, :, :]\n",
    "test_data = combined_data[:, train_size + val_size:, :, :]\n",
    "\n",
    "\n",
    "# Создание кастомного Dataset\n",
    "class TrafficDataset(Dataset):\n",
    "    def __init__(self, data, seq_len, pred_len):\n",
    "        super().__init__()\n",
    "        self.data = data.squeeze(0)  # Убираем батч, форма [L, N, C]\n",
    "        self.seq_len = seq_len\n",
    "        self.pred_len = pred_len\n",
    "\n",
    "    def __len__(self):\n",
    "        return self.data.shape[0] - self.seq_len - self.pred_len + 1\n",
    "\n",
    "    def __getitem__(self, idx):\n",
    "        x = self.data[idx:idx + self.seq_len, :, :]  # Последовательность входных данных\n",
    "        y = self.data[idx + self.seq_len:idx + self.seq_len + self.pred_len, :, 0]  # Целевая скорость\n",
    "        return x, y\n",
    "\n",
    "\n",
    "# Создание DataLoader\n",
    "train_dataset = TrafficDataset(train_data, seq_len, pred_len)\n",
    "val_dataset = TrafficDataset(val_data, seq_len, pred_len)\n",
    "test_dataset = TrafficDataset(test_data, seq_len, pred_len)\n",
    "\n",
    "train_loader = DataLoader(train_dataset, batch_size=batch_size, shuffle=True)\n",
    "val_loader = DataLoader(val_dataset, batch_size=batch_size, shuffle=False)\n",
    "test_loader = DataLoader(test_dataset, batch_size=batch_size, shuffle=False)"
   ]
  },
  {
   "cell_type": "code",
   "execution_count": 24,
   "metadata": {},
   "outputs": [],
   "source": [
    "# Определение устройства\n",
    "device = torch.device(\"cpu\")  # Устанавливаем CPU вместо CUDA\n",
    "\n",
    "# Обновление модели, данных и вычислений\n",
    "supports = [torch.tensor(pems_bay_adj.to_numpy(), dtype=torch.float32)]\n",
    "model = DFDGCN(num_nodes=N, supports=supports, in_dim=C, out_dim=pred_len).to(device)  # Модель на CPU\n",
    "criterion = nn.MSELoss()  # Функция потерь\n",
    "optimizer = optim.Adam(model.parameters(), lr=1e-3, weight_decay=1e-4)"
   ]
  },
  {
   "cell_type": "code",
   "execution_count": 25,
   "metadata": {},
   "outputs": [
    {
     "data": {
      "application/vnd.jupyter.widget-view+json": {
       "model_id": "0e7951563bcc42f8b5c40e89e58f93d2",
       "version_major": 2,
       "version_minor": 0
      },
      "text/plain": [
       "Epoch 1/5 - Training:   0%|          | 0/7 [00:00<?, ?it/s]"
      ]
     },
     "metadata": {},
     "output_type": "display_data"
    },
    {
     "data": {
      "application/vnd.jupyter.widget-view+json": {
       "model_id": "135fe4d703f74a7e81eff573ceb21be1",
       "version_major": 2,
       "version_minor": 0
      },
      "text/plain": [
       "Epoch 1/5 - Validation:   0%|          | 0/2 [00:00<?, ?it/s]"
      ]
     },
     "metadata": {},
     "output_type": "display_data"
    },
    {
     "name": "stdout",
     "output_type": "stream",
     "text": [
      "Epoch 1/5: Train Loss: 3941.6732, Val Loss: 3696.2386\n"
     ]
    },
    {
     "data": {
      "application/vnd.jupyter.widget-view+json": {
       "model_id": "77a62ffd95fd47f29b22a6af62549726",
       "version_major": 2,
       "version_minor": 0
      },
      "text/plain": [
       "Epoch 2/5 - Training:   0%|          | 0/7 [00:00<?, ?it/s]"
      ]
     },
     "metadata": {},
     "output_type": "display_data"
    },
    {
     "data": {
      "application/vnd.jupyter.widget-view+json": {
       "model_id": "4a1ae0fa11524a5f9ff84ff3d424c0ed",
       "version_major": 2,
       "version_minor": 0
      },
      "text/plain": [
       "Epoch 2/5 - Validation:   0%|          | 0/2 [00:00<?, ?it/s]"
      ]
     },
     "metadata": {},
     "output_type": "display_data"
    },
    {
     "name": "stdout",
     "output_type": "stream",
     "text": [
      "Epoch 2/5: Train Loss: 3038.4136, Val Loss: 1486.2355\n"
     ]
    },
    {
     "data": {
      "application/vnd.jupyter.widget-view+json": {
       "model_id": "50eccf0d95aa489fb8fa04722ed8d558",
       "version_major": 2,
       "version_minor": 0
      },
      "text/plain": [
       "Epoch 3/5 - Training:   0%|          | 0/7 [00:00<?, ?it/s]"
      ]
     },
     "metadata": {},
     "output_type": "display_data"
    },
    {
     "data": {
      "application/vnd.jupyter.widget-view+json": {
       "model_id": "c2c7a262d12c46378144299c380b4d21",
       "version_major": 2,
       "version_minor": 0
      },
      "text/plain": [
       "Epoch 3/5 - Validation:   0%|          | 0/2 [00:00<?, ?it/s]"
      ]
     },
     "metadata": {},
     "output_type": "display_data"
    },
    {
     "name": "stdout",
     "output_type": "stream",
     "text": [
      "Epoch 3/5: Train Loss: 1017.1948, Val Loss: 116.1882\n"
     ]
    },
    {
     "data": {
      "application/vnd.jupyter.widget-view+json": {
       "model_id": "b984de61e28c4bffa898ea197956d844",
       "version_major": 2,
       "version_minor": 0
      },
      "text/plain": [
       "Epoch 4/5 - Training:   0%|          | 0/7 [00:00<?, ?it/s]"
      ]
     },
     "metadata": {},
     "output_type": "display_data"
    },
    {
     "data": {
      "application/vnd.jupyter.widget-view+json": {
       "model_id": "d9ac0200543b42eb8664a57216bad03d",
       "version_major": 2,
       "version_minor": 0
      },
      "text/plain": [
       "Epoch 4/5 - Validation:   0%|          | 0/2 [00:00<?, ?it/s]"
      ]
     },
     "metadata": {},
     "output_type": "display_data"
    },
    {
     "name": "stdout",
     "output_type": "stream",
     "text": [
      "Epoch 4/5: Train Loss: 206.0790, Val Loss: 48.8414\n"
     ]
    },
    {
     "data": {
      "application/vnd.jupyter.widget-view+json": {
       "model_id": "d164e63436404441a264878bc8814381",
       "version_major": 2,
       "version_minor": 0
      },
      "text/plain": [
       "Epoch 5/5 - Training:   0%|          | 0/7 [00:00<?, ?it/s]"
      ]
     },
     "metadata": {},
     "output_type": "display_data"
    },
    {
     "data": {
      "application/vnd.jupyter.widget-view+json": {
       "model_id": "00f55694ffed481581e812f6ee6bff6b",
       "version_major": 2,
       "version_minor": 0
      },
      "text/plain": [
       "Epoch 5/5 - Validation:   0%|          | 0/2 [00:00<?, ?it/s]"
      ]
     },
     "metadata": {},
     "output_type": "display_data"
    },
    {
     "name": "stdout",
     "output_type": "stream",
     "text": [
      "Epoch 5/5: Train Loss: 61.9690, Val Loss: 35.0291\n"
     ]
    },
    {
     "name": "stderr",
     "output_type": "stream",
     "text": [
      "C:\\Users\\Local\\AppData\\Local\\Temp\\ipykernel_13808\\4241374924.py:50: FutureWarning: You are using `torch.load` with `weights_only=False` (the current default value), which uses the default pickle module implicitly. It is possible to construct malicious pickle data which will execute arbitrary code during unpickling (See https://github.com/pytorch/pytorch/blob/main/SECURITY.md#untrusted-models for more details). In a future release, the default value for `weights_only` will be flipped to `True`. This limits the functions that could be executed during unpickling. Arbitrary objects will no longer be allowed to be loaded via this mode unless they are explicitly allowlisted by the user via `torch.serialization.add_safe_globals`. We recommend you start setting `weights_only=True` for any use case where you don't have full control of the loaded file. Please open an issue on GitHub for any issues related to this experimental feature.\n",
      "  model.load_state_dict(torch.load(\"best_model.pth\"))\n"
     ]
    },
    {
     "data": {
      "application/vnd.jupyter.widget-view+json": {
       "model_id": "eed21c6603b0491ea81edadd6fa9f625",
       "version_major": 2,
       "version_minor": 0
      },
      "text/plain": [
       "Testing:   0%|          | 0/1 [00:00<?, ?it/s]"
      ]
     },
     "metadata": {},
     "output_type": "display_data"
    },
    {
     "name": "stdout",
     "output_type": "stream",
     "text": [
      "Test Loss: 22.5632\n"
     ]
    }
   ],
   "source": [
    "# Тренировочный цикл\n",
    "def train_model(model, train_loader, val_loader, epochs):\n",
    "    best_val_loss = float('inf')\n",
    "\n",
    "    for epoch in range(epochs):\n",
    "        # Тренировка\n",
    "        model.train()\n",
    "        train_loss = 0.0\n",
    "        train_loader_tqdm = tqdm(train_loader, desc=f\"Epoch {epoch + 1}/{epochs} - Training\", leave=False)\n",
    "\n",
    "        for x, y in train_loader_tqdm:\n",
    "            x, y = x.to(device), y.to(device)\n",
    "            optimizer.zero_grad()\n",
    "            output = model(x).squeeze(-1)  # Предсказание модели\n",
    "            loss = criterion(output, y)\n",
    "            loss.backward()\n",
    "            optimizer.step()\n",
    "            train_loss += loss.item() * x.size(0)\n",
    "\n",
    "            # Отображение среднего лосса\n",
    "            train_loader_tqdm.set_postfix({\"Batch Loss\": loss.item()})\n",
    "\n",
    "        train_loss /= len(train_loader.dataset)\n",
    "\n",
    "        # Валидация\n",
    "        model.eval()\n",
    "        val_loss = 0.0\n",
    "        val_loader_tqdm = tqdm(val_loader, desc=f\"Epoch {epoch + 1}/{epochs} - Validation\", leave=False)\n",
    "\n",
    "        with torch.no_grad():\n",
    "            for x, y in val_loader_tqdm:\n",
    "                x, y = x.to(device), y.to(device)\n",
    "                output = model(x).squeeze(-1)\n",
    "                loss = criterion(output, y)\n",
    "                val_loss += loss.item() * x.size(0)\n",
    "\n",
    "                # Отображение среднего лосса\n",
    "                val_loader_tqdm.set_postfix({\"Batch Loss\": loss.item()})\n",
    "\n",
    "        val_loss /= len(val_loader.dataset)\n",
    "\n",
    "        # Сохранение лучшей модели\n",
    "        tqdm.write(f\"Epoch {epoch + 1}/{epochs}: Train Loss: {train_loss:.4f}, Val Loss: {val_loss:.4f}\")\n",
    "        if val_loss < best_val_loss:\n",
    "            best_val_loss = val_loss\n",
    "            torch.save(model.state_dict(), \"best_model.pth\")\n",
    "\n",
    "# Тестирование\n",
    "def test_model(model, test_loader):\n",
    "    model.load_state_dict(torch.load(\"best_model.pth\"))\n",
    "    model.eval()\n",
    "    test_loss = 0.0\n",
    "    test_loader_tqdm = tqdm(test_loader, desc=\"Testing\")\n",
    "\n",
    "    with torch.no_grad():\n",
    "        for x, y in test_loader_tqdm:\n",
    "            x, y = x.to(device), y.to(device)\n",
    "            output = model(x).squeeze(-1)\n",
    "            loss = criterion(output, y)\n",
    "            test_loss += loss.item() * x.size(0)\n",
    "\n",
    "            # Отображение среднего лосса\n",
    "            test_loader_tqdm.set_postfix({\"Batch Loss\": loss.item()})\n",
    "\n",
    "    test_loss /= len(test_loader.dataset)\n",
    "    tqdm.write(f\"Test Loss: {test_loss:.4f}\")\n",
    "\n",
    "train_model(model, train_loader, val_loader, epochs=5)\n",
    "test_model(model, test_loader)"
   ]
  },
  {
   "cell_type": "code",
   "execution_count": 26,
   "metadata": {},
   "outputs": [],
   "source": [
    "import torch\n",
    "from torch.utils.data import DataLoader, Dataset\n",
    "import torch.nn as nn\n",
    "import torch.optim as optim\n",
    "\n",
    "from tqdm.notebook import tqdm\n",
    "\n",
    "# Данные и параметры\n",
    "combined_data = combined_data_full[:, 288:12*50, :, :3]\n",
    "B, L, N, C = combined_data.shape  # [1, 52116, 325, 3]\n",
    "batch_size = 32\n",
    "train_ratio = 0.7\n",
    "val_ratio = 0.2\n",
    "test_ratio = 0.1\n",
    "seq_len = 12  # Количество временных шагов на вход\n",
    "pred_len = 1  # Количество временных шагов для предсказания\n",
    "\n",
    "# Разделение данных на train, val и test\n",
    "num_samples = combined_data.shape[1]\n",
    "train_size = int(num_samples * train_ratio)\n",
    "val_size = int(num_samples * val_ratio)\n",
    "test_size = num_samples - train_size - val_size\n",
    "\n",
    "train_data = combined_data[:, :train_size, :, :]\n",
    "val_data = combined_data[:, train_size:train_size + val_size, :, :]\n",
    "test_data = combined_data[:, train_size + val_size:, :, :]\n",
    "\n",
    "\n",
    "# Создание кастомного Dataset\n",
    "class TrafficDataset(Dataset):\n",
    "    def __init__(self, data, seq_len, pred_len):\n",
    "        super().__init__()\n",
    "        self.data = data.squeeze(0)  # Убираем батч, форма [L, N, C]\n",
    "        self.seq_len = seq_len\n",
    "        self.pred_len = pred_len\n",
    "\n",
    "    def __len__(self):\n",
    "        return self.data.shape[0] - self.seq_len - self.pred_len + 1\n",
    "\n",
    "    def __getitem__(self, idx):\n",
    "        x = self.data[idx:idx + self.seq_len, :, :]  # Последовательность входных данных\n",
    "        y = self.data[idx + self.seq_len:idx + self.seq_len + self.pred_len, :, 0]  # Целевая скорость\n",
    "        return x, y\n",
    "\n",
    "\n",
    "# Создание DataLoader\n",
    "train_dataset = TrafficDataset(train_data, seq_len, pred_len)\n",
    "val_dataset = TrafficDataset(val_data, seq_len, pred_len)\n",
    "test_dataset = TrafficDataset(test_data, seq_len, pred_len)\n",
    "\n",
    "train_loader = DataLoader(train_dataset, batch_size=batch_size, shuffle=True)\n",
    "val_loader = DataLoader(val_dataset, batch_size=batch_size, shuffle=False)\n",
    "test_loader = DataLoader(test_dataset, batch_size=batch_size, shuffle=False)"
   ]
  },
  {
   "cell_type": "code",
   "execution_count": 27,
   "metadata": {},
   "outputs": [],
   "source": [
    "# Определение устройства\n",
    "device = torch.device(\"cpu\")  # Устанавливаем CPU вместо CUDA\n",
    "\n",
    "# Обновление модели, данных и вычислений\n",
    "supports = [torch.tensor(pems_bay_adj.to_numpy(), dtype=torch.float32)]\n",
    "model = DFDGCN(num_nodes=N, supports=supports, in_dim=C, out_dim=pred_len).to(device)  # Модель на CPU\n",
    "criterion = nn.MSELoss()  # Функция потерь\n",
    "optimizer = optim.Adam(model.parameters(), lr=1e-3, weight_decay=1e-4)"
   ]
  },
  {
   "cell_type": "code",
   "execution_count": 28,
   "metadata": {},
   "outputs": [
    {
     "data": {
      "application/vnd.jupyter.widget-view+json": {
       "model_id": "25597b75d5bd40d092b200c1904da3b7",
       "version_major": 2,
       "version_minor": 0
      },
      "text/plain": [
       "Epoch 1/5 - Training:   0%|          | 0/7 [00:00<?, ?it/s]"
      ]
     },
     "metadata": {},
     "output_type": "display_data"
    },
    {
     "data": {
      "application/vnd.jupyter.widget-view+json": {
       "model_id": "43c0a6c59e6948858c3b876d14d7f57e",
       "version_major": 2,
       "version_minor": 0
      },
      "text/plain": [
       "Epoch 1/5 - Validation:   0%|          | 0/2 [00:00<?, ?it/s]"
      ]
     },
     "metadata": {},
     "output_type": "display_data"
    },
    {
     "name": "stdout",
     "output_type": "stream",
     "text": [
      "Epoch 1/5: Train Loss: 3909.8941, Val Loss: 3793.7358\n"
     ]
    },
    {
     "data": {
      "application/vnd.jupyter.widget-view+json": {
       "model_id": "490c05e7f9ab489295da42c3d754ad36",
       "version_major": 2,
       "version_minor": 0
      },
      "text/plain": [
       "Epoch 2/5 - Training:   0%|          | 0/7 [00:00<?, ?it/s]"
      ]
     },
     "metadata": {},
     "output_type": "display_data"
    },
    {
     "data": {
      "application/vnd.jupyter.widget-view+json": {
       "model_id": "a60d77a09f4646699188e2e50b5f92d0",
       "version_major": 2,
       "version_minor": 0
      },
      "text/plain": [
       "Epoch 2/5 - Validation:   0%|          | 0/2 [00:00<?, ?it/s]"
      ]
     },
     "metadata": {},
     "output_type": "display_data"
    },
    {
     "name": "stdout",
     "output_type": "stream",
     "text": [
      "Epoch 2/5: Train Loss: 2990.3327, Val Loss: 1651.4809\n"
     ]
    },
    {
     "data": {
      "application/vnd.jupyter.widget-view+json": {
       "model_id": "18d5ba9d7f5b4159b83db182f3dee904",
       "version_major": 2,
       "version_minor": 0
      },
      "text/plain": [
       "Epoch 3/5 - Training:   0%|          | 0/7 [00:00<?, ?it/s]"
      ]
     },
     "metadata": {},
     "output_type": "display_data"
    },
    {
     "data": {
      "application/vnd.jupyter.widget-view+json": {
       "model_id": "dd074bc728e445fd8356050b66f90ea5",
       "version_major": 2,
       "version_minor": 0
      },
      "text/plain": [
       "Epoch 3/5 - Validation:   0%|          | 0/2 [00:00<?, ?it/s]"
      ]
     },
     "metadata": {},
     "output_type": "display_data"
    },
    {
     "name": "stdout",
     "output_type": "stream",
     "text": [
      "Epoch 3/5: Train Loss: 995.1867, Val Loss: 97.9467\n"
     ]
    },
    {
     "data": {
      "application/vnd.jupyter.widget-view+json": {
       "model_id": "7c887ce8efb24e0c9b32ff9b4dbc6c44",
       "version_major": 2,
       "version_minor": 0
      },
      "text/plain": [
       "Epoch 4/5 - Training:   0%|          | 0/7 [00:00<?, ?it/s]"
      ]
     },
     "metadata": {},
     "output_type": "display_data"
    },
    {
     "data": {
      "application/vnd.jupyter.widget-view+json": {
       "model_id": "aa5af721e3ac4ac38f0976a0f7d6a9ad",
       "version_major": 2,
       "version_minor": 0
      },
      "text/plain": [
       "Epoch 4/5 - Validation:   0%|          | 0/2 [00:00<?, ?it/s]"
      ]
     },
     "metadata": {},
     "output_type": "display_data"
    },
    {
     "name": "stdout",
     "output_type": "stream",
     "text": [
      "Epoch 4/5: Train Loss: 236.9520, Val Loss: 44.6423\n"
     ]
    },
    {
     "data": {
      "application/vnd.jupyter.widget-view+json": {
       "model_id": "58e2b6bf23c544999a31b54c68551bb0",
       "version_major": 2,
       "version_minor": 0
      },
      "text/plain": [
       "Epoch 5/5 - Training:   0%|          | 0/7 [00:00<?, ?it/s]"
      ]
     },
     "metadata": {},
     "output_type": "display_data"
    },
    {
     "data": {
      "application/vnd.jupyter.widget-view+json": {
       "model_id": "5e7f0ffaec944143bae501ca0f02f186",
       "version_major": 2,
       "version_minor": 0
      },
      "text/plain": [
       "Epoch 5/5 - Validation:   0%|          | 0/2 [00:00<?, ?it/s]"
      ]
     },
     "metadata": {},
     "output_type": "display_data"
    },
    {
     "name": "stdout",
     "output_type": "stream",
     "text": [
      "Epoch 5/5: Train Loss: 98.2941, Val Loss: 54.6629\n"
     ]
    },
    {
     "name": "stderr",
     "output_type": "stream",
     "text": [
      "C:\\Users\\Local\\AppData\\Local\\Temp\\ipykernel_13808\\4241374924.py:50: FutureWarning: You are using `torch.load` with `weights_only=False` (the current default value), which uses the default pickle module implicitly. It is possible to construct malicious pickle data which will execute arbitrary code during unpickling (See https://github.com/pytorch/pytorch/blob/main/SECURITY.md#untrusted-models for more details). In a future release, the default value for `weights_only` will be flipped to `True`. This limits the functions that could be executed during unpickling. Arbitrary objects will no longer be allowed to be loaded via this mode unless they are explicitly allowlisted by the user via `torch.serialization.add_safe_globals`. We recommend you start setting `weights_only=True` for any use case where you don't have full control of the loaded file. Please open an issue on GitHub for any issues related to this experimental feature.\n",
      "  model.load_state_dict(torch.load(\"best_model.pth\"))\n"
     ]
    },
    {
     "data": {
      "application/vnd.jupyter.widget-view+json": {
       "model_id": "def9b600ddeb4330beab3a3c98a20f9b",
       "version_major": 2,
       "version_minor": 0
      },
      "text/plain": [
       "Testing:   0%|          | 0/1 [00:00<?, ?it/s]"
      ]
     },
     "metadata": {},
     "output_type": "display_data"
    },
    {
     "name": "stdout",
     "output_type": "stream",
     "text": [
      "Test Loss: 86.4970\n"
     ]
    }
   ],
   "source": [
    "train_model(model, train_loader, val_loader, epochs=5)\n",
    "test_model(model, test_loader)"
   ]
  }
 ],
 "metadata": {
  "kernelspec": {
   "display_name": ".venv",
   "language": "python",
   "name": "python3"
  },
  "language_info": {
   "codemirror_mode": {
    "name": "ipython",
    "version": 3
   },
   "file_extension": ".py",
   "mimetype": "text/x-python",
   "name": "python",
   "nbconvert_exporter": "python",
   "pygments_lexer": "ipython3",
   "version": "3.12.7"
  }
 },
 "nbformat": 4,
 "nbformat_minor": 2
}
