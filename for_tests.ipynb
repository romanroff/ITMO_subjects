{
 "cells": [
  {
   "cell_type": "code",
   "execution_count": 1,
   "metadata": {},
   "outputs": [
    {
     "name": "stdout",
     "output_type": "stream",
     "text": [
      "95% доверительный интервал для среднего: [3.8 7.2]\n"
     ]
    }
   ],
   "source": [
    "import numpy as np\n",
    "from sklearn.utils import resample\n",
    "\n",
    "# Исходные данные\n",
    "data = np.array([1, 2, 3, 4, 5, 6, 7, 8, 9, 10])\n",
    "\n",
    "# Параметры бутстрэп\n",
    "n_iterations = 1000  # количество бутстрэп-выборок\n",
    "n_size = len(data)    # размер выборки\n",
    "\n",
    "# Сохраним средние значения для каждой бутстрэп-выборки\n",
    "means = []\n",
    "\n",
    "# Процесс бутстрэп\n",
    "for i in range(n_iterations):\n",
    "    sample = resample(data, n_samples=n_size)  # выборка с заменой\n",
    "    mean = np.mean(sample)  # расчет среднего\n",
    "    means.append(mean)\n",
    "\n",
    "# Расчет доверительных интервалов\n",
    "confidence_interval = np.percentile(means, [2.5, 97.5])\n",
    "print(f'95% доверительный интервал для среднего: {confidence_interval}')"
   ]
  },
  {
   "cell_type": "code",
   "execution_count": 47,
   "metadata": {},
   "outputs": [
    {
     "data": {
      "text/plain": [
       "[0, 1, 2, 3, 4]"
      ]
     },
     "execution_count": 47,
     "metadata": {},
     "output_type": "execute_result"
    }
   ],
   "source": [
    "nums = [0,0,1,1,1,2,2,3,3,4]\n",
    "nums[:] = set(nums)\n",
    "nums"
   ]
  },
  {
   "cell_type": "code",
   "execution_count": 49,
   "metadata": {},
   "outputs": [
    {
     "name": "stdout",
     "output_type": "stream",
     "text": [
      "1\n",
      "1\n",
      "1\n"
     ]
    }
   ],
   "source": [
    "nums = [0,0,1,1,1,1,1,2,2,3,3,4]\n",
    "for i in range(2, len(nums)):\n",
    "    if nums[i] == nums[i - 2]:\n",
    "        print(nums[i])"
   ]
  }
 ],
 "metadata": {
  "kernelspec": {
   "display_name": ".venv",
   "language": "python",
   "name": "python3"
  },
  "language_info": {
   "codemirror_mode": {
    "name": "ipython",
    "version": 3
   },
   "file_extension": ".py",
   "mimetype": "text/x-python",
   "name": "python",
   "nbconvert_exporter": "python",
   "pygments_lexer": "ipython3",
   "version": "3.10.11"
  }
 },
 "nbformat": 4,
 "nbformat_minor": 2
}
